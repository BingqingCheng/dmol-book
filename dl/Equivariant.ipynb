{
 "cells": [
  {
   "cell_type": "markdown",
   "metadata": {},
   "source": [
    "# Equvariant Neural Networks\n",
    "\n",
    "The previous chapter {doc}`data` discussed data transformation and network architecture decisions that can be made to make a neural network equivariant with respect to translation, rotation, and permutations. However, those ideas limit the expressibility of our networks and are constructed ad-hoc. Now we will take a more systematic approach to defining equivariances and prove that there is only one layer type that can preserve a given equivariance. The result of this section will be layers that can be equivariant with respect to any transform, even for more esoteric cases like points on a sphere or mirror operations. To achieve this, we will need tools from group theory, representation theory, harmonic analysis, and deep learning.\n",
    "\n",
    "\n",
    "## Do you need equivariance?\n",
    "\n",
    "Before we get too far, let me first try to talk you out of equivariant networks. The math required is advanced, especially because the theory of these is still in flux. There are three papers in the last two years that propose a general theory for equivariant networks and they each take a different approach. It is also easy to make mistakes in implementations due to the complexity of the methods. You also must do implementations (as of 2020) because there are no efficient general implementations for equivariant networks. You will also find that equivariant networks do not beat state of the art models on many of the tasks they're design for. Training and testing augmentation are powerful methods for many problems that are easy to implement. You can also do data transformations or specific parameter sharing to avoid equivariant networks. So why would you study this chapter? I think these ideas are important and incorporating the equivariant layers into other network architectures (Dimenet?) can dramatically reduce parameter numbers and training efficiency.\n",
    "\n"
   ]
  },
  {
   "cell_type": "markdown",
   "metadata": {},
   "source": [
    "### Outline\n",
    "\n",
    "We have to lay some mathematical foundations before we can grasp the equations and details of equivariant networks. We'll start with a brief overview of group theory so we can define the principle of equivariance generally. Then we'll visit representation theory to see how to encode groups into matrices. Then we'll show how any equivariance can be enforced in a neural network via a generalization of convolutions. Then we'll see how these convolutions can be more easily represented using the generalization of Fourier transforms. Finally, we'll see some of the special details when looking at equivariances of permutations. Throughout this chapter we'll see three examples that capture some of the different settings. Remember, that I am a chemical engineer so that some of this chapter will probably have reckless math, incomplete definitions, and implied assumptions about functions (e.g., smooth, integrable). "
   ]
  },
  {
   "cell_type": "markdown",
   "metadata": {},
   "source": [
    "## Group Theory\n",
    "\n",
    "A group is a general object in mathematics. A group is a set of elements that can be combined in a binary operation whose output is another member of the group. The most common example are the integers. If you combine two integers in a binary operations, the output is another integer. Of course, it depends on the operation ($1 \\div 2$ does not give an integer), so specifically consider addition. Integers are not the example we care about though, we're interested in groups of **transformations** that move points. Operations like rotation, scaling, mirroring, or translating. As you read about groups here, remember that the elements of the groups are *not* numbers or points. The group elements are transformations that act on points. Notice I'm being a bit nebulous on what a point is for now. Let's first define a group: \n",
    "\n",
    "```{admonition} Group\n",
    "A group $G$ is a set of elements (e.g., $\\{a, b, c, i, e\\}$) equipped with a binary operation ($ab = c$) whose output is another group element and the following conditions are satisfied:\n",
    "\n",
    "1. **Closure** The output of the binary operation is always a member of the group\n",
    "2. **Associativity** $(ab)c = a(bc)$\n",
    "3. **Identity** There is a single identity element $e$ such that $ex = x \\forall x \\in G$\n",
    "4. **Inverse** There exists one inverse element $i$ for each $x$ such that $xi = e$\n",
    "```\n",
    "\n",
    "This is quite a bit of nice structure. We always have an inverse available and applying the binary operations never accidentally leaves our group. One important property that is missing from this list is **commutativity**. In general, a group is not commutative so that $ab \\neq ba$. If the group does have this extra property, we call the group **abelian**. Another detail is how big the set is. It can indeed be infinite, which is why the integers or all possible rotations of a sphere can be represented as a group. \n",
    "\n",
    "```{margin}\n",
    "If you write two transformations $ab$, we always apply $b$ first and then $a$. This is important to remember for non-commutative groups (non-abelian). \n",
    "```"
   ]
  },
  {
   "cell_type": "markdown",
   "metadata": {},
   "source": [
    "Let's introduce our three example groups that we'll refer to throughout this chapter. Use the tabs below to switch between them. \n",
    "\n",
    "```{tabbed} ⬡ Finite Group $Z_6$ \n",
    "\n",
    "The first group is about rotations of a hexagon {glue:}`hex-6`. Our basic group member will be rotating the hexagon enough to shift all the vertices: {glue:}`hex-0` $\\rightarrow$ {glue:}`hex-1`. Notice I've colored the vertices and added a line so we can easily distinguish the orientation of the hexagon. Remember the hexagon, its colors, and if it is actually symmetry have nothing to do with the group. *The group elements are transformations we apply to the hexagon*.\n",
    "\n",
    "Our group must contain our rotation transformation $r$ and the identity: $\\{e, r\\}$. This is not enough. This set is not closed: rotating twice $rr$ {glue:}`hex-0` $\\rightarrow$ {glue:}`hex-1` $\\rightarrow$ {glue:}`hex-2` gives a new group element $r^2$. To close the group we need to have $\\{e, r, r^2, r^3, r^4, r^5\\}$. Is this closed? Consider rotating twice and then five times $r^2r^5$ {glue:}`hex-0` $\\rightarrow$ {glue:}`hex-2` $\\rightarrow$ {glue:}`hex-1` You can see that this is the same as $r$, so $r^2r^5 = r$. What about the inverses element? The inverse of $r$ is $r^5$. $rr^5 = e$. You can indeed see that each element has an inverse ($e$ is its own inverse).\n",
    "\n",
    "In general, we can write out the group as a multiplication table that conveys all group elements and defines the output of all binary outputs:\n",
    "\n",
    "$$\n",
    "\\begin{array}{l|cccccr}\n",
    "& e & r & r^2 & r^3 & r^4 & r^5\\\\\n",
    "\\hline\n",
    "e & e & r & r^2 & r^3 & r^4 & r^5\\\\\n",
    "r & r & r^2 & r^3 & r^4 & r^5 & e\\\\\n",
    "r^2 & r^2 & r^3 & r^4 & r^5 & e & r\\\\\n",
    "r^3 & r^3 & r^4 & r^5 & e & r & r^2\\\\\n",
    "r^4 & r^4 & r^5 & e & r & r^2 & r^3\\\\\n",
    "r^5 & r^5 & e & r & r^2 & r^3 & r^4\\\\\n",
    "\\end{array}\n",
    "$$\n",
    "\n",
    "You can also see that the group is abelian (commutative). For example, $rr^3 = r^3r$. This group is an example of a **cyclic group** and is isomorphic (same transofmrations, but operates on different objects) to integers modulo 6. Meaning, you could view rotation $r^n$ as operating on integers $(x + n) \\textrm{mod} 6$. Cyclic groups are written as $Z_n$, so this group is $Z_6$. \n",
    "\n",
    "```\n",
    "\n",
    "```{tabbed} ▩ Locally Compact $t+D_4$\n",
    "\n",
    "The second group contains translation, 90° rotations, and  horizontal/vertical mirroring. We're now operating on $x,y$ points, so we're in $\\mathbb{R}^2$. Let's ignore the translation for now and just consider mirroring ($s$) and rotation by 90° ($r$). What powers of $r$ and $s$ do we need to have a closed group? Considering rotations alone first, like last time we should only need up to $r^3$. Here are the rotations visually: {glue:}`quad-0-0`, {glue:}`quad-1-0`, {glue:}`quad-2-0`, {glue:}`quad-3-0` What about mirroring on horizontal/vertical? Mirroring along the horizontal axis: {glue}`quad-0-0` $\\rightarrow$ {glue}`quad-2-1` is actually the same as rotating twice and then mirroring along the vertical. In fact, you only need to have mirroing along one axis. We'll choose the vertical axis by convention and denote that as $s$. Is this closed with $\\{e, r, r^2, r^3, s\\}$? No, since $r^2s$ {glue}`quad-0-0` $\\rightarrow$ {glue}`quad-2-0` $\\rightarrow$ {glue}`quad-2-1` is not an element. To close the group, we need $\\{e, r, r^2, r^3, s, \\}$ The multiplication table (which defines the elements too) is:\n",
    "\n",
    "$$\n",
    "\\begin{array}{l|ccccr}\n",
    "& e & r & r^2 & r^3 & s\\\\\n",
    "\\hline\n",
    "e & e & r & r^2 & r^3 & s\\\\\n",
    "r & r & r^2 & r^3 & e & s\\\\\n",
    "\n",
    "\\end{array}\n",
    "$$\n",
    "\n",
    "Our group (without translations) is called the dihedral 4 group and is denoted as $D_4$.\n",
    "\n",
    "rotation + translation\n",
    "\n",
    "Questions - Is it a point group (common origin?) or not because we allow translation. \n",
    "\n",
    "```\n",
    "\n",
    "```{tabbed} ⚽ SO(3) Lie Group $SO(3)$\n",
    "\n",
    "\n",
    "\n",
    "```"
   ]
  },
  {
   "cell_type": "markdown",
   "metadata": {},
   "source": [
    "## Symmetry\n",
    "\n",
    "We're now ready to prepare a more general definition of symmetry. "
   ]
  },
  {
   "cell_type": "markdown",
   "metadata": {},
   "source": [
    "```{tabbed} ⬡ Finite Group $C_6$ \n",
    "\n",
    "Hexagon rotation, no trans\n",
    "\n",
    "```\n",
    "\n",
    "```{tabbed} ▩ Locally Compact $D_4$\n",
    "\n",
    "rotation + translation\n",
    "\n",
    "Questions - Is it a point group (common origin?) or not because we allow translation. \n",
    "\n",
    "```\n",
    "\n",
    "```{tabbed} ⚽ SO(3) Lie Group $SO(3)$\n",
    "\n",
    "\n",
    "\n",
    "```"
   ]
  },
  {
   "cell_type": "markdown",
   "metadata": {},
   "source": [
    "Intro video: https://www.youtube.com/watch?v=mH0oCDa74tE\n",
    "\n",
    "Convolutions are only way to go: https://arxiv.org/abs/1806.09231\n",
    "\n",
    "homogenuous -> you can reach any point with a group. \n",
    "\n",
    "best theory (I think) https://arxiv.org/pdf/1802.03690.pdf\n",
    "similar but with fiber bundles/cosets -> https://arxiv.org/pdf/1811.02017.pdf\n",
    "\n",
    "induced action -> group element acting on function. Induced space -> space of that (?)\n",
    "\n",
    "\n",
    "some people say covariant -> group element on input != group element on output\n",
    "\n",
    "Let's start with G-CNN which I'm having trouble understanding:\n",
    "\n",
    "Presentation on locally compact groups -> https://galton.uchicago.edu/mart/slides/Kondor_Fourier.pdf\n",
    "\n",
    "commutative -> representations are complex scalars (FFT is easy). Called LCA (locally compact abelian)     \n",
    "\n",
    "$$\n",
    "[f * \\psi](g) = \\frac{1}{|G|}\\sum_{x}\n",
    "$$"
   ]
  },
  {
   "cell_type": "markdown",
   "metadata": {},
   "source": [
    "## Outline\n",
    "\n",
    "Maybe start with finite group, conclude with G-CNN \n",
    "\n",
    "Then move to compact groups\n",
    "\n",
    "then move to permutations\n",
    "\n",
    "1. Finite Groups and use molecular structure example  https://en.wikipedia.org/wiki/Molecular_symmetry\n",
    "2. Representations, irreps -- finding them https://www.jstor.org/stable/2004848?seq=1#metadata_info_tab_contents, https://en.wikipedia.org/wiki/Group_representation, character tables - https://www.chem.uci.edu/~lawm/10-2.pdf package: https://gemmi.readthedocs.io/en/latest/symmetry.html#operations - does not include permutation symmetry\n",
    "3. functions on them -> an image is a function, molecular coordiates are a function, we're learning a function (?)Does that mean layers are operators? Guess so\n",
    "4. define equivariance \n",
    "5. equivariant neuron - Show group CNN first, then Kondor construction\n",
    "6. examples\n",
    "7. survey of field"
   ]
  },
  {
   "cell_type": "markdown",
   "metadata": {},
   "source": [
    "G-CNN - easy for discrete groups. http://proceedings.mlr.press/v48/cohenc16.pdf\n",
    "could use for all point groups too - depends on number of group elements. \n",
    "\n",
    "DeepSets - https://proceedings.neurips.cc/paper/2017/file/f22e4747da1aa27e363d86d40ff442fe-Paper.pdf\n",
    "equivariant strategy for networks. This defines them using convolutions - https://arxiv.org/pdf/2004.03990.pdf. Here is the hierarchical variant: https://proceedings.neurips.cc//paper_files/paper/2020/hash/9efb1a59d7b58e69996cf0e32cb71098-Abstract.html - they use MLPs with weight sharing. Is that equivalent to group convolutions? Average over groups strategy -> equation 44 in https://arxiv.org/pdf/2004.05154.pdf. Maybe average over groups = convolution (aka correlation). Yes, it does. However, you do not have to average. You can keep each independent component. The averaging comes from the pooling. Averaging moves to a coset (removing a part of the group) and moves you to a quoteint space (see 6.5 in G-CNN ppaer). \n",
    "\n",
    "Icosohedron convs enforce weight sharing in their convolutions - https://arxiv.org/pdf/1902.04615.pdf\n",
    "\n",
    "The Clepsh-Gordon approach doesn't use a convolution, but instead a product in spectral (fourier) space. \n",
    "\n",
    "Fiber bundles and fields intro. Proves convolutions are only way to do it. \n",
    "\n",
    "https://arxiv.org/pdf/1811.02017.pdf\n",
    "\n",
    "Notation - you can refer to the irreducible representations of SO3 (momentum numbers, l = ) as fragments\n",
    "\n",
    "ok modern permutation invariant -> https://arxiv.org/pdf/2004.03990.pdf. Maybe not that interesting (second order permutations are interesting), but reconciles the locally compact groups being fourier convolutions with permutations. \n",
    "\n",
    "Can approximate convolutions with quadrature (MC integration) https://arxiv.org/pdf/2002.12880.pdf instead of using Fourier Space"
   ]
  },
  {
   "cell_type": "markdown",
   "metadata": {},
   "source": [
    "**coset** a subgroup that is also a group (closed). Like translation in a roto-translational equivariant group."
   ]
  },
  {
   "cell_type": "markdown",
   "metadata": {},
   "source": [
    "We should keep the wreath products in mind though!"
   ]
  },
  {
   "cell_type": "code",
   "execution_count": 2,
   "metadata": {},
   "outputs": [],
   "source": [
    "import numpy as np\n",
    "import matplotlib.pyplot as plt\n",
    "import matplotlib as mpl\n",
    "color_cycle = ['#1BBC9B', '#F06060', '#5C4B51', '#F3B562', '#6e1bc2', '#AAAAAA']\n",
    "mpl.rcParams['axes.prop_cycle'] = mpl.cycler(color=color_cycle) \n",
    "np.random.seed(0)"
   ]
  },
  {
   "cell_type": "code",
   "execution_count": 36,
   "metadata": {
    "tags": [
     "remove-cell"
    ]
   },
   "outputs": [
    {
     "data": {
      "application/papermill.record/image/png": "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\n",
      "application/papermill.record/text/plain": "<Figure size 72x72 with 1 Axes>"
     },
     "metadata": {
      "scrapbook": {
       "mime_prefix": "application/papermill.record/",
       "name": "hex-0"
      }
     },
     "output_type": "display_data"
    },
    {
     "data": {
      "application/papermill.record/image/png": "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\n",
      "application/papermill.record/text/plain": "<Figure size 72x72 with 1 Axes>"
     },
     "metadata": {
      "scrapbook": {
       "mime_prefix": "application/papermill.record/",
       "name": "hex-1"
      }
     },
     "output_type": "display_data"
    },
    {
     "data": {
      "application/papermill.record/image/png": "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\n",
      "application/papermill.record/text/plain": "<Figure size 72x72 with 1 Axes>"
     },
     "metadata": {
      "scrapbook": {
       "mime_prefix": "application/papermill.record/",
       "name": "hex-2"
      }
     },
     "output_type": "display_data"
    },
    {
     "data": {
      "application/papermill.record/image/png": "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\n",
      "application/papermill.record/text/plain": "<Figure size 72x72 with 1 Axes>"
     },
     "metadata": {
      "scrapbook": {
       "mime_prefix": "application/papermill.record/",
       "name": "hex-3"
      }
     },
     "output_type": "display_data"
    },
    {
     "data": {
      "application/papermill.record/image/png": "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\n",
      "application/papermill.record/text/plain": "<Figure size 72x72 with 1 Axes>"
     },
     "metadata": {
      "scrapbook": {
       "mime_prefix": "application/papermill.record/",
       "name": "hex-4"
      }
     },
     "output_type": "display_data"
    },
    {
     "data": {
      "application/papermill.record/image/png": "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\n",
      "application/papermill.record/text/plain": "<Figure size 72x72 with 1 Axes>"
     },
     "metadata": {
      "scrapbook": {
       "mime_prefix": "application/papermill.record/",
       "name": "hex-5"
      }
     },
     "output_type": "display_data"
    },
    {
     "data": {
      "application/papermill.record/image/png": "iVBORw0KGgoAAAANSUhEUgAAAEYAAABECAYAAAA85kOPAAAAOXRFWHRTb2Z0d2FyZQBNYXRwbG90bGliIHZlcnNpb24zLjMuMiwgaHR0cHM6Ly9tYXRwbG90bGliLm9yZy8vihELAAAACXBIWXMAAAsTAAALEwEAmpwYAAAFEklEQVR4nO2bQUjbXhzHf4mtbol2a0pAdAUvym5iweFR6FlwMGFHQXdQBmNs3iz04A5eGoRddhgoVPAiKHqUITh2G+zgYSuKiIoMpWON6UZt3vd/GO1fbV5batKELR/w4kv7vu+b93755fdeBQDkU4notgCv4hvDwTeGg28MB98YDoEa7X/7I0vgNfgzhoNvDAffGA6eMYYxRrquE2PMbSlE5AFjAJCmaaSqKimKQqqqkqZp5PqrCoBqf46TSqUgSRLozxMQRARJkqBpWjO6545dQPU74+htY4yRqqqUzWYr2hRFobOzMxJFRye1Nx/XhmHQz58/LdtyuRzl8/kmK/of14w5Ojqi6elpMk2Te823b9+aqOgG1daZE4ta13UkEgncvXsXbW1tiMfjFTGmtbUVkiRBEASMj4/j5OTECSlAlbE3zZhisYj379+js7MTRISnT5/i4OAAjDFomgZFURAIBKAoCjRNQzabxczMTNmkZDKJi4sLOyUBbhuztbWF/v5+EBGGhobw6dOnimtM04Su6zBN89r/9/b28OTJExARuru7sbS0VHHNLXDHmK9fv2JkZAREhJ6eHqysrIAx1tB37ezsYHBwEESEWCyG7e3t28oDnDbGNE3kcrnynTw7O8Pz588RCATQ0dGB+fl5/Pr169ajME0Ty8vLiEajICKMjo4ik8lwddSBM8YwxpBKpcrxIRwOY2RkBKFQCKIoYmpqCt+/f69/5HWSz+fx5s0btLe3IxAI4MWLF5ibm7sWp1KpVD2z0xljrLJWIsLDhw+xu7vb8MDr5fT0FM+ePavon+rPnu03xjRNKIpiKUpRFDsDZFVM08S9e/ca1cEde8MJnmEYlMvlLNuambUahkGGYdiuo2FjZFmmUChk2RYKhUiSpEa/2hM6GjZGFEWanZ2t6FiWZUokEk6//Dmvo9o6q7W+S1mrIAgQRbGctTaaqzRKSYcsyyAi3L9/v14dzuYxqqpiYmKiaQGXx7t370BEODw8rPcj9gffqwiCQMFgsGnLh0epfzt0uF7a9Cq+MRx8Yzj4xnDwjeHgG8PBN4aDbwwH3xgOthgDgAqFgusb8qX+bdFR7X2h1otGqbR59SWyzpKirZR0XH2J9Fxps4kb8nbo+LtLm7fQ8XeXNp3Q4UhpMxgMkiBwT1jYBmOMVldXuQcDblVirTadak1jq7Xd0tICIkI0GkU6nXZsSW1vbyMWi5X7unPnzjUdsiy7E2MAcDfkP3z4gIGBARARHj16hI8fPzY6/goymQweP34MIsKDBw+QTqdRLBYtdbhe2rTakDdNE4uLi+jq6gIRYWxsDPv7+/U7cINsNouXL18iGAxClmXMzc3BMIyaOmrgrDHVuLi4QDKZhCRJaG1txevXr/Hjx4+6P18oFLCwsABFUSAIAiYnJ3F6emqHNMBNY0ocHx9jfHwcgiAgEong7du3KBQK5fabG/KMMayvr6Ovrw9EhHg8ji9fvtgpCfCCMSU+f/6M4eHh8h73xsbGtYMBiqLg1atX167Z3Nx0Kpv2jjHAn9mwtraG3t5eEBFEUbTclL85qxyAO3ZXj7P+/v2bIpGIZRIWDofp/Pz83zzOenl5SYVCwbJN1/V/8zgrkXcOBljhqjFeORhgSbUA5GTUK8HLnptU0/Fm8L0KY4zy+TxJktTMmcINvp4xxiW8+VTyMr4xHGr9vNj5apNH8WcMB98YDr4xHHxjOPjGcPCN4fAfL9Ahd9JUkCsAAAAASUVORK5CYII=\n",
      "application/papermill.record/text/plain": "<Figure size 72x72 with 1 Axes>"
     },
     "metadata": {
      "scrapbook": {
       "mime_prefix": "application/papermill.record/",
       "name": "hex-6"
      }
     },
     "output_type": "display_data"
    },
    {
     "name": "stdout",
     "output_type": "stream",
     "text": [
      "0 0\n"
     ]
    },
    {
     "data": {
      "application/papermill.record/image/png": "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\n",
      "application/papermill.record/text/plain": "<Figure size 72x72 with 1 Axes>"
     },
     "metadata": {
      "scrapbook": {
       "mime_prefix": "application/papermill.record/",
       "name": "quad-0-0"
      }
     },
     "output_type": "display_data"
    },
    {
     "name": "stdout",
     "output_type": "stream",
     "text": [
      "0 1\n"
     ]
    },
    {
     "data": {
      "application/papermill.record/image/png": "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\n",
      "application/papermill.record/text/plain": "<Figure size 72x72 with 1 Axes>"
     },
     "metadata": {
      "scrapbook": {
       "mime_prefix": "application/papermill.record/",
       "name": "quad-0-1"
      }
     },
     "output_type": "display_data"
    },
    {
     "name": "stdout",
     "output_type": "stream",
     "text": [
      "1 0\n"
     ]
    },
    {
     "data": {
      "application/papermill.record/image/png": "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\n",
      "application/papermill.record/text/plain": "<Figure size 72x72 with 1 Axes>"
     },
     "metadata": {
      "scrapbook": {
       "mime_prefix": "application/papermill.record/",
       "name": "quad-1-0"
      }
     },
     "output_type": "display_data"
    },
    {
     "name": "stdout",
     "output_type": "stream",
     "text": [
      "1 1\n"
     ]
    },
    {
     "data": {
      "application/papermill.record/image/png": "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\n",
      "application/papermill.record/text/plain": "<Figure size 72x72 with 1 Axes>"
     },
     "metadata": {
      "scrapbook": {
       "mime_prefix": "application/papermill.record/",
       "name": "quad-1-1"
      }
     },
     "output_type": "display_data"
    },
    {
     "name": "stdout",
     "output_type": "stream",
     "text": [
      "2 0\n"
     ]
    },
    {
     "data": {
      "application/papermill.record/image/png": "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\n",
      "application/papermill.record/text/plain": "<Figure size 72x72 with 1 Axes>"
     },
     "metadata": {
      "scrapbook": {
       "mime_prefix": "application/papermill.record/",
       "name": "quad-2-0"
      }
     },
     "output_type": "display_data"
    },
    {
     "name": "stdout",
     "output_type": "stream",
     "text": [
      "2 1\n"
     ]
    },
    {
     "data": {
      "application/papermill.record/image/png": "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\n",
      "application/papermill.record/text/plain": "<Figure size 72x72 with 1 Axes>"
     },
     "metadata": {
      "scrapbook": {
       "mime_prefix": "application/papermill.record/",
       "name": "quad-2-1"
      }
     },
     "output_type": "display_data"
    },
    {
     "name": "stdout",
     "output_type": "stream",
     "text": [
      "3 0\n"
     ]
    },
    {
     "data": {
      "application/papermill.record/image/png": "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\n",
      "application/papermill.record/text/plain": "<Figure size 72x72 with 1 Axes>"
     },
     "metadata": {
      "scrapbook": {
       "mime_prefix": "application/papermill.record/",
       "name": "quad-3-0"
      }
     },
     "output_type": "display_data"
    },
    {
     "name": "stdout",
     "output_type": "stream",
     "text": [
      "3 1\n"
     ]
    },
    {
     "data": {
      "application/papermill.record/image/png": "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\n",
      "application/papermill.record/text/plain": "<Figure size 72x72 with 1 Axes>"
     },
     "metadata": {
      "scrapbook": {
       "mime_prefix": "application/papermill.record/",
       "name": "quad-3-1"
      }
     },
     "output_type": "display_data"
    },
    {
     "data": {
      "image/png": "[encoded data removed]",
      "text/plain": [
       "<Figure size 72x72 with 1 Axes>"
      ]
     },
     "metadata": {},
     "output_type": "display_data"
    },
    {
     "data": {
      "image/png": "[encoded data removed]",
      "text/plain": [
       "<Figure size 72x72 with 1 Axes>"
      ]
     },
     "metadata": {},
     "output_type": "display_data"
    },
    {
     "data": {
      "image/png": "[encoded data removed]",
      "text/plain": [
       "<Figure size 72x72 with 1 Axes>"
      ]
     },
     "metadata": {},
     "output_type": "display_data"
    },
    {
     "data": {
      "image/png": "[encoded data removed]",
      "text/plain": [
       "<Figure size 72x72 with 1 Axes>"
      ]
     },
     "metadata": {},
     "output_type": "display_data"
    },
    {
     "data": {
      "image/png": "[encoded data removed]",
      "text/plain": [
       "<Figure size 72x72 with 1 Axes>"
      ]
     },
     "metadata": {},
     "output_type": "display_data"
    },
    {
     "data": {
      "image/png": "[encoded data removed]",
      "text/plain": [
       "<Figure size 72x72 with 1 Axes>"
      ]
     },
     "metadata": {},
     "output_type": "display_data"
    },
    {
     "data": {
      "image/png": "[encoded data removed]",
      "text/plain": [
       "<Figure size 72x72 with 1 Axes>"
      ]
     },
     "metadata": {},
     "output_type": "display_data"
    },
    {
     "data": {
      "image/png": "[encoded data removed]",
      "text/plain": [
       "<Figure size 72x72 with 1 Axes>"
      ]
     },
     "metadata": {},
     "output_type": "display_data"
    },
    {
     "data": {
      "image/png": "[encoded data removed]",
      "text/plain": [
       "<Figure size 72x72 with 1 Axes>"
      ]
     },
     "metadata": {},
     "output_type": "display_data"
    },
    {
     "data": {
      "image/png": "[encoded data removed]",
      "text/plain": [
       "<Figure size 72x72 with 1 Axes>"
      ]
     },
     "metadata": {},
     "output_type": "display_data"
    },
    {
     "data": {
      "image/png": "[encoded data removed]",
      "text/plain": [
       "<Figure size 72x72 with 1 Axes>"
      ]
     },
     "metadata": {},
     "output_type": "display_data"
    },
    {
     "data": {
      "image/png": "[encoded data removed]",
      "text/plain": [
       "<Figure size 72x72 with 1 Axes>"
      ]
     },
     "metadata": {},
     "output_type": "display_data"
    },
    {
     "data": {
      "image/png": "[encoded data removed]",
      "text/plain": [
       "<Figure size 72x72 with 1 Axes>"
      ]
     },
     "metadata": {},
     "output_type": "display_data"
    },
    {
     "data": {
      "image/png": "[encoded data removed]",
      "text/plain": [
       "<Figure size 72x72 with 1 Axes>"
      ]
     },
     "metadata": {},
     "output_type": "display_data"
    },
    {
     "data": {
      "image/png": "[encoded data removed]",
      "text/plain": [
       "<Figure size 72x72 with 1 Axes>"
      ]
     },
     "metadata": {},
     "output_type": "display_data"
    }
   ],
   "source": [
    "from myst_nb import glue\n",
    "\n",
    "def hexico(rot):\n",
    "    cmap = plt.get_cmap('Set2')        \n",
    "    colors = [cmap(i / 6) for i in range(6)]\n",
    "    points = np.array([(0,1), (0.5 * np.sqrt(3), 0.5), (0.5 * np.sqrt(3), -0.5), (0, -1), (-0.5 * np.sqrt(3), -0.5), (-0.5 * np.sqrt(3), 0.5)])\n",
    "    # wrap the points\n",
    "    index = [(i + rot) % 6 for i in range(6)]\n",
    "    points = points[index]\n",
    "    plt.figure(figsize=(1, 1))        \n",
    "    if rot == 6:\n",
    "        plt.scatter(points[:,0], points[:,1], marker='.', color='black', s=150)\n",
    "    else:\n",
    "        plt.scatter(points[:,0], points[:,1], marker='o', c=colors, s=150)\n",
    "        plt.plot([0, points[0,0]], [0, points[0, 1]], color='black', zorder=0)    \n",
    "        \n",
    "    plt.plot(points[:, 0], points[:, 1], color='black', zorder=0)\n",
    "    plt.plot([points[-1, 0], points[0, 0]],  [points[-1, 1], points[0, 1]], color='black', zorder=0)\n",
    "    plt.xticks([])\n",
    "    plt.yticks([])\n",
    "    plt.xlim(-1.4, 1.4)\n",
    "    plt.ylim(-1.4, 1.4)    \n",
    "    for s in plt.gca().spines.values():\n",
    "        s.set_visible(False)\n",
    "    glue(f'hex-{rot}', plt.gcf(), display=False)\n",
    "for i in range(7):\n",
    "    hexico(i)\n",
    "    \n",
    "def quad(rot, mirror):\n",
    "    colors = color_cycle[:4]\n",
    "    points = np.array([(1, 1), (-1, 1), (-1, -1), (1, -1)])\n",
    "    # wrap the points\n",
    "    index = [(i + rot) % 4 for i in range(4)]\n",
    "    points = points[index]\n",
    "    if mirror:\n",
    "        points[:, (0,1)] = points[:, (1, 0)]\n",
    "    plt.figure(figsize=(1, 1))        \n",
    "    plt.scatter(points[:,0], points[:,1], marker='o', c=colors, s=150)\n",
    "    plt.plot([0, points[0,0]], [0, points[0, 1]], color='black', zorder=0)    \n",
    "        \n",
    "    plt.plot(points[:, 0], points[:, 1], color='black', zorder=0)\n",
    "    plt.plot([points[-1, 0], points[0, 0]],  [points[-1, 1], points[0, 1]], color='black', zorder=0)\n",
    "    plt.plot([0, points[1, 0]],  [0, points[1, 1]], linestyle=':', color='black', zorder=0)\n",
    "    plt.xticks([])\n",
    "    plt.yticks([])\n",
    "    plt.xlim(-1.4, 1.4)\n",
    "    plt.ylim(-1.4, 1.4)    \n",
    "    for s in plt.gca().spines.values():\n",
    "        s.set_visible(False)\n",
    "    print(rot, mirror)\n",
    "    glue(f'quad-{rot}-{mirror}', plt.gcf(), display=False)\n",
    "for i in range(4):\n",
    "    for j in range(2):\n",
    "        quad(i, j)"
   ]
  },
  {
   "cell_type": "code",
   "execution_count": null,
   "metadata": {},
   "outputs": [],
   "source": []
  }
 ],
 "metadata": {
  "celltoolbar": "Tags",
  "kernelspec": {
   "display_name": "Python 3",
   "language": "python",
   "name": "python3"
  },
  "language_info": {
   "codemirror_mode": {
    "name": "ipython",
    "version": 3
   },
   "file_extension": ".py",
   "mimetype": "text/x-python",
   "name": "python",
   "nbconvert_exporter": "python",
   "pygments_lexer": "ipython3",
   "version": "3.7.8"
  }
 },
 "nbformat": 4,
 "nbformat_minor": 4
}
