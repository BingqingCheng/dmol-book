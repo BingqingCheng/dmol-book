{
 "cells": [
  {
   "cell_type": "markdown",
   "metadata": {},
   "source": [
    "# Interpretability in Deep Learning\n",
    "\n",
    "Interpretability, part of the broader topic of explainable AI (XAI), is the process of adding explanations to deep learning model predictions. These explanations should help us understand why particular predictions are made. This is a critical topic because being able to understand model predictions is justified from a practical, theoretical, and increasingly a regulatory stand-point. It is practical because it has been shown that people are more likely to use predictions of a model if they can understand the rationale {cite}`lee2004trust`. Another practical concern is that correctly implementing methods is much easier when one can understand how a model arrived at a prediction. A theoretical justification for transparency is that it can help identify incompleteness in model domains (i.e., covariate shift){cite}`doshi2017towards`. It is now becoming a compliance problem because both the European Union {cite}`goodman2017european` and the G20 {cite}`Development2019` have recently adopted guidelines that recommend or require explanations for machine predictions. The European Union is considering going further with more [strict draft legislation](https://digital-strategy.ec.europa.eu/en/library/proposal-regulation-laying-down-harmonised-rules-artificial-intelligence-artificial-intelligence) being considered. \n",
    "\n",
    "A famous example on the need for explainable AI is found in Caruana et al.{cite}`caruana2015intelligible` who built an ML predictor to assess mortality risk of patients in the ER with pneumonia. The idea is that patients with pneumonia are screened with this tool and it helps doctors know which patients are more at risk of dying. It was found to be quite accurate. When the interpretation of its predictions were examined though, the reasoning was medically insane. The model surprisingly suggested patients with asthma (called asthmatics) have a reduced mortality risk when coming to the ER with pneumonia. Asthma, a condition which makes it difficult to breathe, was found to *make pneumonia patients less likely to die.* This was incidental; asthmatics are actually more at risk of dying from pneumonia but doctors are acutely aware of this and are thus more aggressive and attentive with them. Thanks to the increase care and attention from doctors, there are fewer mortalities. From an empirical standpoint, the model predictions are correct. However if the model were put into practice, it could have cost lives by incorrectly characterizing asthmatics as low mortality risk. Luckily the interpretability of their model helped researchers identify this problem. Thus, we can see that interpretation should always be a step in the construction of predictive models. \n",
    "\n",
    "Deep learning alone is a black box modeling technique. Examining the weights or model equation provides little insight into why predictions are made. Thus, interpretability is an extra task. This is challenge because of both the black box nature of deep learning and because there is no consensus on what exactly constitutes an \"explanation\" for model predictions. {cite}`doshi2017towards`. For some, interpretability means having a natural language explanation justifying a prediction. For others, it can be simply showing which features contributed most to the prediction. \n",
    "\n",
    "There are two broad approaches to interpretation of ML models: post hoc interpretation and self-explaining models {cite}`Murdoch2019`. Self-explaining models are constructed so that an expert can view output of the model and connect it with the features through reasoning. Self-explaining models are highly dependent on the task model{cite}`montavon2018methods`. A familiar example would be a physics based simulation like molecular dynamics or a single-point quantum energy calculation. You can examine the molecular dynamics trajectory, look at output numbers, and an expert can explain why, for example, the simulation predicts a drug molecule will bind to a protein. It may seem like this would be useless for deep learning interpretation. However, we can create a **proxy model** (sometimes **surrogate model**) that is self-explaining and train it to agree with the deep learning model. Why will this training burden be any less than just using the proxy model from the beginning? We can generate an infinite amount of training data because our trained neural network can label arbitrary points. You can also construct deep learning models which have self-explaining features in them, like attention {cite}`bahdanau2014neural`. This allows you to connect the input features to the prediction based on attention. \n",
    "\n",
    "Post hoc interpretation can be approached in a number of ways, but the most common are training data importance, feature importance, and generative explanations{cite}`ribeiro2016should,ribeiro2016model,wachter2017counterfactual`. An example of a post hoc interpretation based on data importance is identifying the most influential training data to explain a prediction {cite}`koh2017understanding`. It is perhaps arguable if this gives an *explanation*, but it certainly helps understand which data is relevant for a prediction. Feature importance are probably the most common XAI approach and frequently appear in computer vision research where the pixels most important for the class of an image are highlighted. Finally, generative explanations are an emerging approach where a new data point is generated (in same distribution as training data features) that serves as a counterfactual. A counterfactual gives insight into how important and sensitive the features are. An example might be in a model that recommends giving a loan. A model could produce the following counterfactual explanation (from {cite}`wachter2017counterfactual`):\n",
    "\n",
    "> You were denied a loan based on your annual income, zip code, and assets. If \n",
    "> your annual income had been $45,000, you would have been offered a loan.\n",
    "\n",
    "The second sentence is the conuterfactual and shows how the features could be changed to affect the model outcome. Coutnerfactuals provide a nice balance of complexity and explanatory power.\n",
    "\n",
    "This was a brief overview of interpretable deep learning. You can find a recent review of interpretable deep learning in Samek et al. {cite}`9369420` and Christopher Molnar has a [broad online book](https://christophm.github.io/interpretable-ml-book/) about interpretable machine learning, including deep learning {cite}`molnar2019`."
   ]
  },
  {
   "cell_type": "markdown",
   "metadata": {
    "tags": [
     "remove-cell"
    ]
   },
   "source": [
    "## Feature Importance\n",
    "\n",
    "Feature importance is the most straightforward and common method of interpreting a machine learning model. The output of feature importance is a ranking or numerical values for each feature, typically for a single prediction. If you are trying to understand the feature importance across the whole model, this is called **global** feature importance and **local** for a single prediction. Global feature importance and global interpretability is relatively rare because the best models change which features are important in different regions of feature space.\n",
    "\n",
    "Let's start with a linear model to see feature importance:\n",
    "\n",
    "\\begin{equation}\n",
    "\\hat{y} = \\vec{w}\\vec{x} + b \n",
    "\\end{equation}\n",
    "\n",
    "where $\\vec{x}$ is our feature vector. A simple way to assess feature importance is to simply look at the weight value $w_i$ for a particular feature $x_i$. The weight $w_i$ shows how much $\\hat{y}$ would change if $x_i$ is increased by 1 while all other features are constant. If the magnitude of our features are comparable, then this would be a reasonable way to rank features. However, if our features have units, this approach is sensitive to unit choices and relative magnitude of features. For example if our temperature was changed from Celsius to Fahrenheit, a 1 degree increase will have a smaller effect. \n",
    "\n",
    "To remove the effect of feature magnitude and units, a slightly better way to assess feature importance is to divide $w_i$ by the **standard error**  in the feature values. Recall that standard error is just the ratio of sum of squared error in predicted value divided by the total deviation in the feature. Standard error is a ratio of prediction accuracy to feature variance -- and the prediction accuracy is indepdenent of the feature and thus has no effect for ranking feature importance. $w_i$ divided by standard error is called the $t$-statistic because it can be compared with the $t$-distribution for assessing feature importance.\n",
    "\n",
    "\\begin{equation}\n",
    "t_i = \\frac{w_i}{S_{w_i}},\\; S^2_{w_i} = \\frac{1}{N - D}\\sum_j \\frac{\\left(\\hat{y}_j - y_j\\right)^2}{\\left(x_{ij} - \\bar{x}_i\\right)^2}\n",
    "\\end{equation}\n",
    "\n",
    "where $N$ is the number of examples,  $D$ is the number of features, and $\\bar{x}_i$ is the average value of the $i$th feature. The $t_i$ value can be used to rank features and it can be used for a hypothesis test: if $t_i > 0.05$ then that feature is significant. Note that a feature's significance is sensitive to which features are present in a model; if you add features some may become redundant.\n",
    "\n",
    "If we move to a non-linear learned function $\\hat{f}(\\vec{x})$, we must compute how the prediction changes if a feature value increases by 1 via the derivative approximation:\n",
    "\n",
    "$$\n",
    "\\frac{\\Delta \\hat{f}(\\vec{x})}{\\Delta x_i} \\approx \\frac{\\partial  \\hat{f}(\\vec{x})}{\\partial x_i}\n",
    "$$\n",
    "\n",
    "so a change by 1 is\n",
    "\n",
    "\\begin{equation}\n",
    "\\Delta \\hat{f}(\\vec{x}) \\approx \\frac{\\partial  \\hat{f}(\\vec{x})}{\\partial x_i}.\n",
    "\\end{equation}\n",
    "\n",
    "\n",
    "In practice, we make a slight variation on this equation -- instead of a Taylor series centered at 0 approximating this change, we center at some other root (point where the function is 0). This \"grounds\" the series at the decision boundary (a root) and then you can view the partials as \"pushing\" the predicted class away or towards the decision boundary. Another way to think about this is that we use the first-order terms of the Taylor series to build a linear model. Then we just apply what we did above to that linear model and use the coefficients as the \"importance\" of features. Specifically, we use this surrogate function for $\\hat{f}(\\vec{x})$:\n",
    "\n",
    "\\begin{equation}\n",
    "\\require{cancel}\n",
    "\\hat{f}(\\vec{x}) \\approx \\cancelto{0}{f(\\vec{x}')} +  \\nabla\\hat{f}(\\vec{x}')\\cdot\\left(\\vec{x} - \\vec{x}'\\right)\n",
    "\\end{equation}\n",
    "\n",
    "where $\\vec{x}'$ is the root of $\\hat{f}(\\vec{x})$. Note in practice people may choose the trivial root $\\vec{x}' = \\vec{0}$, however a nearby root is ideal. This root is often called the **baseline** input. Note that as opposed to the linear example above, we consider the product of the partial $\\frac{\\partial  \\hat{f}(\\vec{x})}{\\partial x_i}$ and the increase above baseline $(x_i - x_i')$."
   ]
  },
  {
   "cell_type": "markdown",
   "metadata": {},
   "source": [
    "### Neural Network Feature Importance\n",
    "\n",
    "In neural networks the partial derivatives are a poor approximation of the real changes to the output. Small changes to the input can have discontinuous changes, making the terms above have little explanatory power. This is called the **shattered gradients** problem {cite}`pmlr-v70-balduzzi17b`. Breaking down each feature separately also misses correlations between features -- which don't exist in a linear model. Thus the derivative approximation works satisfactorily in locally linear models, but not deep neural networks.\n",
    "\n",
    "There are a variety of techniques that get around the issue of shattered gradients in neural networks. Two popular methods are integrated gradients {cite}`sundararajan2017axiomatic` and SmoothGrad{cite}`smilkov2017smoothgrad`. Integrated gradients creates a path from $\\vec{x}'$ to $\\vec{x}$ and integrates Equation 4 along that path:\n",
    "\n",
    "\\begin{equation}\n",
    "\\textrm{IG}_i = \\left(\\vec{x} - \\vec{x}'\\right) \\int_0^1\\left[\\nabla\\hat{f}\\left(\\vec{x}' + t\\left(\\vec{x} - \\vec{x}'\\right)\\right)\\right]_i\\,dt\n",
    "\\end{equation}\n",
    "\n",
    "where $t$ is some increment along the path such that $\\vec{x}' + t\\left(\\vec{x} - \\vec{x}'\\right) = \\vec{x}'$ when $t = 0$ and $\\vec{x}' + t\\left(\\vec{x} - \\vec{x}'\\right) = \\vec{x}$ when $t = 1$. This gives us the integrated gradient for each feature $i$. The integrated gradients are the importance of each feature, but without the complexity of shattered gradients. There are some nice properties too, like $\\sum_i \\textrm{IG}_i = f(\\vec{x}) - f(\\vec{x}')$ so that the integrated gradients provide a complete partition of the change from the baseline to the prediction{cite}`sundararajan2017axiomatic`.\n",
    "\n",
    "Implementing integrated gradients is actually relatively simple. You approximate the path integral with a Riemann sum by breaking the path into a set of discrete inputs between the input features $\\vec{x}$ and the baseline $\\vec{x}'$. You compute the gradient of these inputs with the neural network. Then you multiply that be the change in features above baseline: $\\left(\\vec{x} - \\vec{x}'\\right)$.\n",
    "\n",
    "SmoothGrad is a similar idea to the integrated gradients. Rather than summing up the gradients along a path though, we sum gradients from random points nearby our prediction. The equation is:\n",
    "\n",
    "\\begin{equation}\n",
    "\\textrm{SG}_i = \\sum_j^M\\left[\\nabla\\hat{f}\\left(\\vec{x}' + \\vec{\\epsilon}\\right)\\right]_i\n",
    "\\end{equation}\n",
    "\n",
    "where $M$ is a choice of sample number and $\\vec{\\epsilon}$ is sampled from $D$ zero-mean Guassians {cite}`smilkov2017smoothgrad`. The only change in implementation here is to replace the path with a series of random perturbations."
   ]
  },
  {
   "cell_type": "markdown",
   "metadata": {},
   "source": [
    "### Example\n",
    "\n",
    "Let's see an example of these two methods on a previous model. We'll re-use the {doc}`layer` model for solubility.  As a reminder, the model takes in peptides represented as one-hot amino acid vectors and predicts solubility. The goal of the feature importance method here will be to identify which amino acids matter most for the solubility prediction. The hidden-cell below rebuilds that model, along with a few small changes to make the code/model simpler and more compact. \n",
    "\n",
    "\n",
    "**Work in progress below!**"
   ]
  },
  {
   "cell_type": "code",
   "execution_count": 1,
   "metadata": {
    "tags": [
     "hidden-cell"
    ]
   },
   "outputs": [],
   "source": [
    "import haiku as hk\n",
    "import jax\n",
    "import tensorflow as tf\n",
    "import jax.numpy as jnp\n",
    "import numpy as np\n",
    "import matplotlib.pyplot as plt\n",
    "import seaborn as sns\n",
    "import matplotlib as mpl\n",
    "import warnings\n",
    "import urllib\n",
    "import jax.experimental.optimizers as opt\n",
    "warnings.filterwarnings('ignore')\n",
    "sns.set_context('notebook')\n",
    "sns.set_style('dark',  {'xtick.bottom':True, 'ytick.left':True, 'xtick.color': '#666666', 'ytick.color': '#666666',\n",
    "                        'axes.edgecolor': '#666666', 'axes.linewidth':     0.8 , 'figure.dpi': 300})\n",
    "color_cycle = ['#1BBC9B', '#F06060', '#5C4B51', '#F3B562', '#6e5687']\n",
    "mpl.rcParams['axes.prop_cycle'] = mpl.cycler(color=color_cycle) \n",
    "np.random.seed(0)\n",
    "\n",
    "ALPHABET = ['', 'A','R','N','D','C','Q','E','G','H','I', 'L','K','M','F','P','S','T','W','Y','V']\n",
    "def seq2array(seq):\n",
    "    N = pos_data.shape[-1]\n",
    "    return np.pad(list(map(ALPHABET.index, seq)), (0,N - len(seq))).reshape(1, -1)\n",
    "def array2oh(a):\n",
    "    a = np.squeeze(a)\n",
    "    o = np.zeros((len(a), 21))\n",
    "    o[np.arange(len(a)), a] = 1\n",
    "    return o.astype(np.float32).reshape(1, -1, 21)\n",
    "\n",
    "urllib.request.urlretrieve(\n",
    "    'https://github.com/whitead/dmol-book/raw/master/data/solubility.npz', 'solubility.npz')\n",
    "with np.load('solubility.npz') as r:\n",
    "    pos_data, neg_data = r['positives'], r['negatives']"
   ]
  },
  {
   "cell_type": "code",
   "execution_count": 2,
   "metadata": {
    "tags": [
     "hidden-cell"
    ]
   },
   "outputs": [],
   "source": [
    "# create labels and stich it all into one \n",
    "# tensor\n",
    "labels = np.concatenate((np.ones((pos_data.shape[0], 1), dtype=pos_data.dtype), np.zeros((neg_data.shape[0], 1) , dtype=pos_data.dtype)), axis=0)\n",
    "features = np.concatenate((pos_data, neg_data), axis=0)\n",
    "# we now need to shuffle before creating TF dataset\n",
    "# so that our train/test/val splits are random\n",
    "i = np.arange(len(labels))\n",
    "np.random.shuffle(i)\n",
    "labels = labels[i]\n",
    "features = features[i]\n",
    "L = pos_data.shape[-1]\n",
    "# convert to one-hot\n",
    "ohfeatures = np.zeros((len(labels),L,21))\n",
    "for i in range(len(labels)):\n",
    "    ohfeatures[i,np.arange(L),features[i]] = 1\n",
    "full_data = tf.data.Dataset.from_tensor_slices((ohfeatures.astype(np.float32), labels))\n",
    "\n",
    "# now split into val, test, train\n",
    "N = pos_data.shape[0] + neg_data.shape[0]\n",
    "split = int(0.1 * N)\n",
    "test_data = full_data.take(split).batch(16)\n",
    "nontest = full_data.skip(split)\n",
    "val_data, train_data = nontest.take(split).batch(16), nontest.skip(split).shuffle(1000).batch(16)"
   ]
  },
  {
   "cell_type": "code",
   "execution_count": 51,
   "metadata": {},
   "outputs": [],
   "source": [
    "def binary_cross_entropy(logits, y):\n",
    "    yhat = jax.nn.sigmoid(logits)\n",
    "    return -jnp.sum(y * jnp.log(yhat) + (1 - y) * jnp.log(1 - yhat + 1e-6))\n",
    "def model_fn(x):\n",
    "    # get fractions, excluding skip character\n",
    "    aa_fracs = jnp.mean(x, axis=1)[:,1:]\n",
    "    mask = jnp.sum(x[...,1:], axis=-1, keepdims=True)    \n",
    "    for kernel, pool in zip([5, 3, 3], [4, 2, 2]):\n",
    "        x = hk.Conv1D(16, kernel)(x) * mask\n",
    "        x = jax.nn.tanh(x)\n",
    "        x = hk.MaxPool(pool, pool, 'VALID')(x)\n",
    "        mask = hk.MaxPool(pool, pool, 'VALID')(mask)\n",
    "    x = jnp.concatenate((hk.Flatten()(x), aa_fracs, jnp.sum(x[:,1:], axis=(1,2)).reshape(-1,1)),axis=1)\n",
    "    logits = hk.Sequential([               \n",
    "        hk.Linear(256, with_bias=False), jax.nn.tanh,\n",
    "        hk.Linear(64, with_bias=False), jax.nn.tanh,\n",
    "        hk.Linear(1, with_bias=False)\n",
    "    ])(x)\n",
    "    return logits\n",
    "model = hk.without_apply_rng(hk.transform(model_fn))\n",
    "def loss_fn(params, x, y):    \n",
    "    logits = model.apply(params, x)\n",
    "    return jnp.mean(binary_cross_entropy(logits, y))\n",
    "@jax.jit\n",
    "def solubility_prob(params, x):\n",
    "    logits = model.apply(params, x)\n",
    "    return jax.nn.sigmoid(jnp.squeeze(logits))\n",
    "@jax.jit\n",
    "def accuracy_fn(params, x, y):\n",
    "    logits = model.apply(params, x)\n",
    "    return jnp.mean((logits >= 0) * y + (logits < 0) * (1 - y))"
   ]
  },
  {
   "cell_type": "code",
   "execution_count": 52,
   "metadata": {},
   "outputs": [],
   "source": [
    "rng = jax.random.PRNGKey(0)\n",
    "xi, yi = ohfeatures[:16], labels[:16]\n",
    "params = model.init(rng, xi)\n",
    "\n",
    "opt_init, opt_update, get_params = opt.adam(1e-3)\n",
    "opt_state = opt_init(params)\n",
    "\n",
    "@jax.jit\n",
    "def update(step, opt_state, x, y):\n",
    "    value, grads = jax.value_and_grad(loss_fn)(get_params(opt_state), x, y)\n",
    "    opt_state = opt_update(step, grads, opt_state)\n",
    "    return value, opt_state"
   ]
  },
  {
   "cell_type": "code",
   "execution_count": 53,
   "metadata": {},
   "outputs": [
    {
     "name": "stdout",
     "output_type": "stream",
     "text": [
      "12.355796\n",
      "8.53301\n",
      "7.908889\n",
      "8.962775\n",
      "11.328706\n",
      "3.9574752\n",
      "8.746103\n",
      "3.6040251\n",
      "6.791431\n",
      "5.3469744\n",
      "3.8407235\n",
      "8.486663\n",
      "4.9943523\n",
      "3.8833294\n",
      "6.215328\n",
      "4.0143185\n",
      "4.365747\n",
      "2.039011\n",
      "2.888486\n",
      "3.7547698\n",
      "2.507792\n",
      "6.383517\n",
      "3.2257693\n",
      "4.652371\n",
      "7.1247816\n",
      "1.3861761\n",
      "2.753914\n",
      "15.291146\n",
      "6.1099734\n",
      "0.48300183\n",
      "1.9837027\n",
      "1.1322528\n"
     ]
    }
   ],
   "source": [
    "losses = []\n",
    "epochs = 32\n",
    "for e in range(epochs):\n",
    "    for i, (xi, yi) in enumerate(train_data):\n",
    "        value, opt_state = update(i, opt_state, xi.numpy(), yi.numpy())\n",
    "        losses.append(value)\n",
    "    print(losses[-2])\n",
    "opt_params = get_params(opt_state)"
   ]
  },
  {
   "cell_type": "code",
   "execution_count": 54,
   "metadata": {},
   "outputs": [
    {
     "name": "stdout",
     "output_type": "stream",
     "text": [
      "0.57661635\n"
     ]
    }
   ],
   "source": [
    "acc = []\n",
    "for xi, yi in test_data:\n",
    "    acc.append(accuracy_fn(opt_params, xi.numpy(), yi.numpy()))\n",
    "print(jnp.mean(np.array(acc)))"
   ]
  },
  {
   "cell_type": "code",
   "execution_count": null,
   "metadata": {},
   "outputs": [],
   "source": []
  },
  {
   "cell_type": "markdown",
   "metadata": {},
   "source": [
    "Let's try an amino acid sequence, a peptide, to get a feel for the model. The model outputs logits (logarithm of odds), which we put through a sigmoid to get probabilities. The peptides must be converted from a sequence to a matrix of one-hot column vectors. We'll try two sequences: multiple serines which should be soluble and multiple phenylalanines, which should be insoluble. "
   ]
  },
  {
   "cell_type": "code",
   "execution_count": 68,
   "metadata": {
    "scrolled": true
   },
   "outputs": [
    {
     "name": "stdout",
     "output_type": "stream",
     "text": [
      "Probability SSS of being soluble 0.68\n",
      "Probability VVV of being soluble 0.35\n"
     ]
    }
   ],
   "source": [
    "s = 'SSS'\n",
    "sm = array2oh(seq2array(s))\n",
    "sol_prob = solubility_prob(opt_params, sm)\n",
    "print(f'Probability {s} of being soluble {sol_prob:.2f}')\n",
    "\n",
    "s = 'VVV'\n",
    "sm = array2oh(seq2array(s))\n",
    "sol_prob = solubility_prob(opt_params, sm)\n",
    "print(f'Probability {s} of being soluble {sol_prob:.2f}')"
   ]
  },
  {
   "cell_type": "markdown",
   "metadata": {},
   "source": [
    "It looks reasonable -- the hydrophilic are soluble and the hydrophobic is insoluble. We'll begin by computing the gradients with respect to input -- the naieve approach that is susceptible to shattered gradients. Computing this is a component in the process for integrated and smooth gradients, so not wasted effort"
   ]
  },
  {
   "cell_type": "code",
   "execution_count": 69,
   "metadata": {
    "tags": [
     "hide-cell"
    ]
   },
   "outputs": [],
   "source": [
    "def plot_grad(g, s):\n",
    "    #g = np.array(g)\n",
    "    h = g[0, np.arange(len(s)), list(map(ALPHABET.index,s))]\n",
    "    plt.bar(np.arange(len(s)), height=h)\n",
    "    plt.gca().set_xticks(range(len(s)))\n",
    "    plt.gca().set_xticklabels(s)"
   ]
  },
  {
   "cell_type": "code",
   "execution_count": 81,
   "metadata": {},
   "outputs": [
    {
     "name": "stdout",
     "output_type": "stream",
     "text": [
      "Probability EKAALSLVVVFFRPVC of being soluble 0.19\n"
     ]
    }
   ],
   "source": [
    "s = 'EKAALSLVVVFFRPVC'\n",
    "sm = array2oh(seq2array(s))\n",
    "sol_prob = solubility_prob(opt_params, sm)\n",
    "print(f'Probability {s} of being soluble {sol_prob:.2f}')"
   ]
  },
  {
   "cell_type": "code",
   "execution_count": 82,
   "metadata": {},
   "outputs": [
    {
     "data": {
      "image/png": "[encoded data removed]",
      "text/plain": [
       "<Figure size 432x288 with 1 Axes>"
      ]
     },
     "metadata": {},
     "output_type": "display_data"
    }
   ],
   "source": [
    "g = jax.grad(solubility_prob,1)(opt_params, sm)\n",
    "plot_grad(g, s)"
   ]
  },
  {
   "cell_type": "code",
   "execution_count": 84,
   "metadata": {},
   "outputs": [],
   "source": [
    "def integrated_gradients(sm, N):\n",
    "    baseline = jnp.zeros((1, L, 21))\n",
    "    t = jnp.linspace(0, 1, N).reshape(-1, 1, 1)\n",
    "    path = baseline * (1 - t) + sm * t\n",
    "    def get_grad(pi):\n",
    "        # compute gradient \n",
    "        # add/remove batch axes\n",
    "        return jax.grad(solubility_prob, 1)(opt_params, pi[jnp.newaxis, ...])[0]\n",
    "    gs = jax.vmap(get_grad)(path)\n",
    "    # sum pieces (Riemann sum), multiply by (x - x')\n",
    "    ig = jnp.mean(gs, axis=0, keepdims=True) * (sm - baseline)\n",
    "    return ig\n",
    "ig = integrated_gradients(sm, 64)"
   ]
  },
  {
   "cell_type": "code",
   "execution_count": 85,
   "metadata": {},
   "outputs": [
    {
     "data": {
      "image/png": "[encoded data removed]",
      "text/plain": [
       "<Figure size 432x288 with 1 Axes>"
      ]
     },
     "metadata": {},
     "output_type": "display_data"
    }
   ],
   "source": [
    "plot_grad(ig, s)"
   ]
  },
  {
   "cell_type": "code",
   "execution_count": 86,
   "metadata": {},
   "outputs": [
    {
     "data": {
      "image/png": "[encoded data removed]",
      "text/plain": [
       "<Figure size 432x288 with 1 Axes>"
      ]
     },
     "metadata": {},
     "output_type": "display_data"
    }
   ],
   "source": [
    "def smooth_gradients(sm, N, rng, sigma=1e-3):\n",
    "    baseline = jnp.zeros((1, L, 21))\n",
    "    t = jax.random.normal(rng, shape=(N, sm.shape[1], sm.shape[2])) * sigma\n",
    "    path = sm + t\n",
    "    # remove examples that are negative and force summing to 1\n",
    "    path = jnp.clip(path, 0, 1)\n",
    "    path /= jnp.sum(path, axis=2, keepdims=True)    \n",
    "    def get_grad(pi):\n",
    "        # compute gradient \n",
    "        # add/remove batch axes\n",
    "        return jax.grad(solubility_prob, 1)(opt_params, pi[jnp.newaxis, ...])[0]\n",
    "    gs = jax.vmap(get_grad)(path)\n",
    "    # mean\n",
    "    ig = jnp.mean(gs, axis=0, keepdims=True)\n",
    "    return ig\n",
    "sg = smooth_gradients(sm, 256, jax.random.PRNGKey(0))\n",
    "plot_grad(sg, s)"
   ]
  },
  {
   "cell_type": "markdown",
   "metadata": {},
   "source": [
    "## Cited References\n",
    "\n",
    "```{bibliography}\n",
    ":style: unsrtalpha\n",
    ":filter: docname in docnames\n",
    "```"
   ]
  }
 ],
 "metadata": {
  "celltoolbar": "Tags",
  "kernelspec": {
   "display_name": "Python 3",
   "language": "python",
   "name": "python3"
  },
  "language_info": {
   "codemirror_mode": {
    "name": "ipython",
    "version": 3
   },
   "file_extension": ".py",
   "mimetype": "text/x-python",
   "name": "python",
   "nbconvert_exporter": "python",
   "pygments_lexer": "ipython3",
   "version": "3.7.8"
  }
 },
 "nbformat": 4,
 "nbformat_minor": 4
}
