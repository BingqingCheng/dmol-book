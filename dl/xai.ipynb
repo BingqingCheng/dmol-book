{
 "cells": [
  {
   "cell_type": "markdown",
   "metadata": {},
   "source": [
    "# Interpretability in Deep Learning\n",
    "\n",
    "```{warning}\n",
    "This chapter is being written.\n",
    "```\n",
    "\n",
    "Interpretability, part of the broader topic of explainable AI (XAI), is the process of adding explanations to deep learning model predictions. These explanations should help us understand why particular predictions are made. This is a critical topic because being able to understand model predictions is justified from a practical, theoretical, and increasingly a regulatory stand-point. It is practical because it has been shown that people are more likely to use predictions of a model if they can understand the rationale {cite}`lee2004trust`. Another practical concern is that correctly implementing methods is much easier when one can understand how a model arrived at a prediction. A theoretical justification for transparency is that it can help identify incompleteness in model domains (i.e., covariate shift){cite}`doshi2017towards`. It is now becoming a compliance problem because both the European Union {cite}`goodman2017european` and the G20 {cite}`Development2019` have recently adopted guidelines that recommend or require explanations for machine predictions. The European Union is considering going further with more [strict draft legislation](https://digital-strategy.ec.europa.eu/en/library/proposal-regulation-laying-down-harmonised-rules-artificial-intelligence-artificial-intelligence) being considered. \n",
    "\n",
    "A famous example on the need for explainable AI is found in Caruana et al.{cite}`caruana2015intelligible` who built an ML predictor to assess mortality risk of patients in the ER with pneumonia. The idea is that patients with pneumonia are screened with this tool and it helps doctors know which patients are more at risk of dying. It was found to be quite accurate. When the interpretation of its predictions were examined though, the reasoning was medically insane. The model surprisingly suggested patients with asthma (called asthmatics) have a reduced mortality risk when coming to the ER with pneumonia. Asthma, a condition which makes it difficult to breathe, was found to *make pneumonia patients less likely to die.* This was incidental; asthmatics are actually more at risk of dying from pneumonia but doctors are acutely aware of this and are thus more aggressive and attentive with them. Thanks to the increase care and attention from doctors, there are fewer mortalities. From an empirical standpoint, the model predictions are correct. However if the model were put into practice, it could have cost lives by incorrectly characterizing asthmatics as low mortality risk. Luckily the interpretability of their model helped researchers identify this problem. Thus, we can see that interpretation should always be a step in the construction of predictive models. \n",
    "\n",
    "Deep learning alone is a black box modeling technique. Examining the weights or model equation provides little insight into why predictions are made. Thus, interpretability is an extra task. This is challenge because of both the black box nature of deep learning and because there is no consensus on what exactly constitutes an \"explanation\" for model predictions. {cite}`doshi2017towards`. For some, interpretability means having a natural language explanation justifying a prediction. For others, it can be simply showing which features contributed most to the prediction. \n",
    "\n",
    "There are two broad approaches to interpretation of ML models: post hoc interpretation and self-explaining models {cite}`Murdoch2019`. Self-explaining models are constructed so that an expert can view output of the model and connect it with the features through reasoning. Self-explaining models are highly dependent on the task model{cite}`montavon2018methods`. A familiar example would be a physics based simulation like molecular dynamics or a single-point quantum energy calculation. You can examine the molecular dynamics trajectory, look at output numbers, and an expert can explain why, for example, the simulation predicts a drug molecule will bind to a protein. It may seem like this would be useless for deep learning interpretation. However, we can create a **proxy model** (sometimes **surrogate model**) that is self-explaining and train it to agree with the deep learning model. Why will this training burden be any less than just using the proxy model from the beginning? We can generate an infinite amount of training data because our trained neural network can label arbitrary points. You can also construct deep learning models which have self-explaining features in them, like attention {cite}`bahdanau2014neural`. This allows you to connect the input features to the prediction based on attention. \n",
    "\n",
    "Post hoc interpretation can be approached in a number of ways, but the most common are training data importance, feature importance, and generative explanations{cite}`ribeiro2016should,ribeiro2016model,wachter2017counterfactual`. An example of a post hoc interpretation based on data importance is identifying the most influential training data to explain a prediction {cite}`koh2017understanding`. It is perhaps arguable if this gives an *explanation*, but it certainly helps understand which data is relevant for a prediction. Feature importance are probably the most common XAI approach and frequently appear in computer vision research where the pixels most important for the class of an image are highlighted. Finally, generative explanations are an emerging approach where a new data point is generated (in same distribution as training data features) that serves as a counterfactual. A counterfactual gives insight into how important and sensitive the features are. An example might be in a model that recommends giving a loan. A model could produce the following counterfactual explanation (from {cite}`wachter2017counterfactual`):\n",
    "\n",
    "> You were denied a loan based on your annual income, zip code, and assets. If \n",
    "> your annual income had been $45,000, you would have been offered a loan.\n",
    "\n",
    "The second sentence is the conuterfactual and shows how the features could be changed to affect the model outcome. Coutnerfactuals provide a nice balance of complexity and explanatory power.\n",
    "\n",
    "This was a brief overview of interpretable deep learning. You can find a recent review of interpretable deep learning in Samek et al. {cite}`9369420` and Christopher Molnar has a [broad online book](https://christophm.github.io/interpretable-ml-book/) about interpretable machine learning, including deep learning {cite}`molnar2019`. Prediction error and confidence in predictions is not covered here, but see the methods from {doc}`../ml/regression` which apply. "
   ]
  },
  {
   "cell_type": "markdown",
   "metadata": {},
   "source": [
    "## Feature Importance\n",
    "\n",
    "Feature importance is the most straightforward and common method of interpreting a machine learning model. The output of feature importance is a ranking or numerical values for each feature, typically for a single prediction. If you are trying to understand the feature importance across the whole model, this is called **global** feature importance and **local** for a single prediction. Global feature importance and global interpretability is relatively rare because the best models change which features are important in different regions of feature space.\n",
    "\n",
    "Let's start with a linear model to see feature importance:\n",
    "\n",
    "\\begin{equation}\n",
    "\\hat{y} = \\vec{w}\\vec{x} + b \n",
    "\\end{equation}\n",
    "\n",
    "where $\\vec{x}$ is our feature vector. A simple way to assess feature importance is to simply look at the weight value $w_i$ for a particular feature $x_i$. The weight $w_i$ shows how much $\\hat{y}$ would change if $x_i$ is increased by 1 while all other features are constant. If the magnitude of our features are comparable, then this would be a reasonable way to rank features. However, if our features have units, this approach is sensitive to unit choices and relative magnitude of features. For example if our temperature was changed from Celsius to Fahrenheit, a 1 degree increase will have a smaller effect. \n",
    "\n",
    "To remove the effect of feature magnitude and units, a slightly better way to assess feature importance is to divide $w_i$ by the **standard error**  in the feature values. Recall that standard error is just the ratio of sum of squared error in predicted value divided by the total deviation in the feature. Standard error is a ratio of prediction accuracy to feature variance -- and the prediction accuracy is indepdenent of the feature and thus has no effect for ranking feature importance. $w_i$ divided by standard error is called the $t$-statistic because it can be compared with the $t$-distribution for assessing feature importance.\n",
    "\n",
    "\\begin{equation}\n",
    "t_i = \\frac{w_i}{S_{w_i}},\\; S^2_{w_i} = \\frac{1}{N - D}\\sum_j \\frac{\\left(\\hat{y}_j - y_j\\right)^2}{\\left(x_{ij} - \\bar{x}_i\\right)^2}\n",
    "\\end{equation}\n",
    "\n",
    "where $N$ is the number of examples,  $D$ is the number of features, and $\\bar{x}_i$ is the average value of the $i$th feature. The $t_i$ value can be used to rank features and it can be used for a hypothesis test: if $t_i > 0.05$ then that feature is significant. Note that a feature's significance is sensitive to which features are present in a model; if you add features some may become redundant.\n",
    "\n",
    "If we move to a non-linear learned function $\\hat{f}(\\vec{x})$, we must compute how the prediction changes if a feature value increases by 1 via the derivative approximation:\n",
    "\n",
    "$$\n",
    "\\frac{\\Delta \\hat{f}(\\vec{x})}{\\Delta x_i} \\approx \\frac{\\partial  \\hat{f}(\\vec{x})}{\\partial x_i}\n",
    "$$\n",
    "\n",
    "so a change by 1 is\n",
    "\n",
    "\\begin{equation}\n",
    "\\Delta \\hat{f}(\\vec{x}) \\approx \\frac{\\partial  \\hat{f}(\\vec{x})}{\\partial x_i}.\n",
    "\\end{equation}\n",
    "\n",
    "\n",
    "In practice, we make a slight variation on this equation -- instead of a Taylor series centered at 0 approximating this change, we center at some other root (point where the function is 0). This \"grounds\" the series at the decision boundary (a root) and then you can view the partials as \"pushing\" the predicted class away or towards the decision boundary. Another way to think about this is that we use the first-order terms of the Taylor series to build a linear model. Then we just apply what we did above to that linear model and use the coefficients as the \"importance\" of features. Specifically, we use this surrogate function for $\\hat{f}(\\vec{x})$:\n",
    "\n",
    "\\begin{equation}\n",
    "\\require{cancel}\n",
    "\\hat{f}(\\vec{x}) \\approx \\cancelto{0}{f(\\vec{x}')} +  \\nabla\\hat{f}(\\vec{x}')\\cdot\\left(\\vec{x} - \\vec{x}'\\right)\n",
    "\\end{equation}\n",
    "\n",
    "where $\\vec{x}'$ is the root of $\\hat{f}(\\vec{x})$. Note in practice people may choose the trivial root $\\vec{x}' = \\vec{0}$, however a nearby root is ideal. This root is often called the **baseline** input. Note that as opposed to the linear example above, we consider the product of the partial $\\frac{\\partial  \\hat{f}(\\vec{x})}{\\partial x_i}$ and the increase above baseline $(x_i - x_i')$."
   ]
  },
  {
   "cell_type": "markdown",
   "metadata": {},
   "source": [
    "### Neural Network Feature Importance\n",
    "\n",
    "In neural networks the partial derivatives are a poor approximation of the real changes to the output. Small changes to the input can have discontinuous changes, making the terms above have little explanatory power. This is called the **shattered gradients** problem {cite}`pmlr-v70-balduzzi17b`. Breaking down each feature separately also misses correlations between features -- which don't exist in a linear model. Thus the derivative approximation works satisfactorily in locally linear models, but not deep neural networks.\n",
    "\n",
    "There are a variety of techniques that get around the issue of shattered gradients in neural networks. Two popular methods are integrated gradients {cite}`sundararajan2017axiomatic` and SmoothGrad{cite}`smilkov2017smoothgrad`. Integrated gradients creates a path from $\\vec{x}'$ to $\\vec{x}$ and integrates Equation 4 along that path:\n",
    "\n",
    "\\begin{equation}\n",
    "\\textrm{IG}_i = \\left(\\vec{x} - \\vec{x}'\\right) \\int_0^1\\left[\\nabla\\hat{f}\\left(\\vec{x}' + t\\left(\\vec{x} - \\vec{x}'\\right)\\right)\\right]_i\\,dt\n",
    "\\end{equation}\n",
    "\n",
    "where $t$ is some increment along the path such that $\\vec{x}' + t\\left(\\vec{x} - \\vec{x}'\\right) = \\vec{x}'$ when $t = 0$ and $\\vec{x}' + t\\left(\\vec{x} - \\vec{x}'\\right) = \\vec{x}$ when $t = 1$. This gives us the integrated gradient for each feature $i$. The integrated gradients are the importance of each feature, but without the complexity of shattered gradients. There are some nice properties too, like $\\sum_i \\textrm{IG}_i = f(\\vec{x}) - f(\\vec{x}')$ so that the integrated gradients provide a complete partition of the change from the baseline to the prediction{cite}`sundararajan2017axiomatic`.\n",
    "\n",
    "Implementing integrated gradients is actually relatively simple. You approximate the path integral with a Riemann sum by breaking the path into a set of discrete inputs between the input features $\\vec{x}$ and the baseline $\\vec{x}'$. You compute the gradient of these inputs with the neural network. Then you multiply that be the change in features above baseline: $\\left(\\vec{x} - \\vec{x}'\\right)$.\n",
    "\n",
    "SmoothGrad is a similar idea to the integrated gradients. Rather than summing up the gradients along a path though, we sum gradients from random points nearby our prediction. The equation is:\n",
    "\n",
    "\\begin{equation}\n",
    "\\textrm{SG}_i = \\sum_j^M\\left[\\nabla\\hat{f}\\left(\\vec{x}' + \\vec{\\epsilon}\\right)\\right]_i\n",
    "\\end{equation}\n",
    "\n",
    "where $M$ is a choice of sample number and $\\vec{\\epsilon}$ is sampled from $D$ zero-mean Guassians {cite}`smilkov2017smoothgrad`. The only change in implementation here is to replace the path with a series of random perturbations.\n",
    "\n",
    "Beyond these gradient based approaches, Layer-wise Relevance Propagation (LRP) is another popular approach for feature importance analysis in neural networks. LRP works by doing a backwards propogation through the neural network that partitions the output value of one layer to the input features. It \"distributes relevance\". What is unusual about LRP is that each layer type needs its own implementation. It doesn't rely on the analytic derivative, but instead a Taylor series expansion of the layer equation. There are variants for GNNs and NLP, so that LRP can be used in most settings in materials and chemistry {cite}`Montavon2019`."
   ]
  },
  {
   "cell_type": "markdown",
   "metadata": {},
   "source": [
    "### Shapley Values\n",
    "\n",
    "A model agnostic way to treat feature importance is with **Shapley values.** Shapley values come from game theory and are a solution to how to pay a coalition of cooperating players according to their contributions. Imagine each feature is a player and we would like to \"pay\" them according to their contribution to the predicted value. A Shapley value $\\phi_i$ is the pay to feature $i$. We break-up the predicted function value $\\hat{f}(x)$ into the Shapley values so that the sum of the pay is the function value ($\\sum_i \\phi_i = \\hat{f}(x)$. This means you can interpet the Shapley value of a feature as its numerical contribution to the prediction. Shapley values are powerful because their calculation is agnostic to the model, they partition the predicted value among each feature, and they have other attributes that we would desire in an explanation of a prediction (symmetry, linearity, permutation invariant, etc.). Their disadvantage are that exact computation is combinatorial with respect to feature number and they have no sparsity, making them less helpful as feature number grows. Most methods we discuss here also have no sparsity -- you can also force your model to be sparse to achieve sparse explanations.\n",
    "\n",
    "Shapley values are computed as\n",
    "\n",
    "\\begin{equation}\n",
    "\\phi_i = \\frac{1}{Z}\\sum_{S \\in M \\backslash x_i}v(S\\cup x_i) - v(S)\n",
    "\\end{equation}\n",
    "$$\n",
    "Z = \\frac{|S|!\\left(N - |S| - 1\\right)!}{N!}\n",
    "$$\n",
    "\n",
    "where $S \\in N \\backslash x_i$ means all sets of features that exclude feature $x_i$, $S\\cup x_i$ means putting back feature $x_i$ into the set, and $v(S)$ is the value of $\\hat{f}(x)$ using only the features included in $S$, and $Z$ is a normalization value. The formula can be interpreted as the mean of all possible differences in $\\hat{f}$ formed by adding/removing feature $i$. \n",
    "\n",
    "One immediate concern though is how can we \"remove\" feature $i$ from a model equation? We marginilize out feature $i$. Recall a marginal is a way to integrate out a random variable -- $P(x) = \\int\\, P(x,y)\\,dy$. That integrates over all possible $x$ values. Marginalization can be used on functions of random variables, which obviously are also random variables, by taking an expectation: $E_y[f | X = x] = \\int\\,f(X=x,y)P(X=x,y)\\, dy$. I've emphasized that the random variable $X$ is fixed in the integral and thus $E_y[f]$ is a function of $x$. $y$ is removed by computing the expected value of $f(x,y)$ where $x$ is fixed (the function argument). We're essentially replacing $f(x,y)$ with a new function $E_y[f]$ that is the average of all possible $y$ values I'm over-explaining this though, it's quite intuitive. The other detail is that *value* is the change relative to the average of $\\hat{f}$. You can typically ignore this extra term - it cancels, but I include it for completeness. Thus the value equation becomes {cite}`vstrumbelj2014explaining`:\n",
    "\n",
    "\\begin{equation}\n",
    "v(x_i) = \\int\\,f(x_0, x_1, \\ldots, x_i,\\ldots, x_N)P(x_0, x_1, \\ldots, x_i,\\ldots, x_N)\\, dx_i - E\\left[\\hat{f}(\\vec{x})\\right]\n",
    "\\end{equation}\n",
    "\n",
    "How do we compute the marginal $\\int\\,f(x_0, x_1, \\ldots, x_i,\\ldots, x_N)P(x_0, x_1, \\ldots, x_i,\\ldots, x_N)\\, dx_i$? We do not have a known probability distribution $P(\\vec{x})$. We can sample from $P(\\vec{x})$ by considering our data as an **empirical distribution**. That is, we can sample from $P(\\vec{x})$ by sampling data points. There is a little bit of complexity here because we need to sample the $\\vec{x}$'s jointly, we cannot just mix together individual features randomly because there are correlations between features that will be removed. {cite}`vstrumbelj2014explaining` showed that we can directly estimate the $i$th Shapley value with:\n",
    "\n",
    "\\begin{equation}\n",
    "\\phi_i(\\vec{x}) = \\frac{1}{M}\\sum^M \\hat{f}\\left(\\vec{z}_{+i}\\right) - \\hat{f}\\left(\\vec{z}_{+i}\\right)\n",
    "\\end{equation}\n",
    "\n",
    "where $\\vec{z}$ is a \"chimera\" exapmle constructed from the real example $\\vec{x}$ and a randomly drawn example $\\vec{x}'$. We randomly select from $\\vec{x}$ and $\\vec{x}'$ to construct $\\vec{z}$, except $\\vec{z}_{+i}$ specifically has the $i$th feature from the example $\\vec{x}$ and $\\vec{z}_{-i}$ has the $i$th feature from the random example $\\vec{x}'$. $M$ is chosen large enough to get a good sample for this value. {cite}`vstrumbelj2014explaining` gives guidance on choosing $M$, but basically as large $M$ as computationally feasible reasonable. \n",
    "\n",
    "```{warning}\n",
    "This process marginalizing features *is not* the same as replacing features with their average.\n",
    "```\n",
    "With this efficient approximation method, the strong theory, and independence of model choice, Shapley values are an excellent choice for describing feature importance for examples."
   ]
  },
  {
   "cell_type": "markdown",
   "metadata": {},
   "source": [
    "## Feature Importance Example\n",
    "\n",
    "Let's see an example of these feature importance methods on a peptide prediction task to predict if a peptide will kill red blood cells (hemolytic). This is similar to the solubility prediction example from {doc}`layers`. The data is from {cite}`barrett2020investigating`.  The model takes in peptides sequences (e.g., `DDFRD`) and predicts the probability that the peptide is hemolytic. The goal of the feature importance method here will be to identify which amino acids matter most for the hemolytic activity. The hidden-cell below loads and processes the data into a dataset."
   ]
  },
  {
   "cell_type": "markdown",
   "metadata": {},
   "source": [
    "## Running This Notebook\n",
    "\n",
    "\n",
    "Click the &nbsp;<i aria-label=\"Launch interactive content\" class=\"fas fa-rocket\"></i>&nbsp; above to launch this page as an interactive Google Colab. See details below on installing packages, either on your own environment or on Google Colab\n",
    "\n",
    "````{tip} My title\n",
    ":class: dropdown\n",
    "To install packages, execute this code in a new cell\n",
    "\n",
    "```\n",
    "!pip install matplotlib numpy pandas seaborn jax jaxlib dm-haiku\n",
    "```\n",
    "\n",
    "````"
   ]
  },
  {
   "cell_type": "code",
   "execution_count": 2,
   "metadata": {
    "scrolled": true,
    "tags": [
     "hide-cell"
    ]
   },
   "outputs": [],
   "source": [
    "import haiku as hk\n",
    "import jax\n",
    "import tensorflow as tf\n",
    "import jax.numpy as jnp\n",
    "import numpy as np\n",
    "import matplotlib.pyplot as plt\n",
    "import seaborn as sns\n",
    "import matplotlib as mpl\n",
    "import warnings\n",
    "import urllib\n",
    "import jax.experimental.optimizers as opt\n",
    "warnings.filterwarnings('ignore')\n",
    "sns.set_context('notebook')\n",
    "sns.set_style('dark',  {'xtick.bottom':True, 'ytick.left':True, 'xtick.color': '#666666', 'ytick.color': '#666666',\n",
    "                        'axes.edgecolor': '#666666', 'axes.linewidth':     0.8 , 'figure.dpi': 300})\n",
    "color_cycle = ['#1BBC9B', '#F06060', '#5C4B51', '#F3B562', '#6e5687']\n",
    "mpl.rcParams['axes.prop_cycle'] = mpl.cycler(color=color_cycle) \n",
    "np.random.seed(0)\n",
    "tf.random.set_seed(0)\n",
    "\n",
    "ALPHABET = ['', 'A','R','N','D','C','Q','E','G','H','I', 'L','K','M','F','P','S','T','W','Y','V']\n",
    "def seq2array(seq, L=200):\n",
    "    return np.pad(list(map(ALPHABET.index, seq)), (0,L - len(seq))).reshape(1, -1)\n",
    "def array2oh(a):\n",
    "    a = np.squeeze(a)\n",
    "    o = np.zeros((len(a), 21))\n",
    "    o[np.arange(len(a)), a] = 1\n",
    "    return o.astype(np.float32).reshape(1, -1, 21)\n",
    "\n",
    "#urllib.request.urlretrieve(\n",
    "#    'https://github.com/whitead/dmol-book/raw/master/data/hemolytic.npz', 'hemolytic.npz')\n",
    "with np.load('hemolytic.npz', 'rb') as r:\n",
    "    pos_data, neg_data = r['positives'], r['negatives']"
   ]
  },
  {
   "cell_type": "code",
   "execution_count": 3,
   "metadata": {
    "tags": [
     "hide-cell"
    ]
   },
   "outputs": [],
   "source": [
    "# create labels and stich it all into one \n",
    "# tensor\n",
    "labels = np.concatenate((np.ones((pos_data.shape[0], 1), dtype=pos_data.dtype), np.zeros((neg_data.shape[0], 1) , dtype=pos_data.dtype)), axis=0)\n",
    "features = np.concatenate((pos_data, neg_data), axis=0)\n",
    "# we now need to shuffle before creating TF dataset\n",
    "# so that our train/test/val splits are random\n",
    "i = np.arange(len(labels))\n",
    "np.random.shuffle(i)\n",
    "labels = labels[i]\n",
    "features = features[i]\n",
    "L = pos_data.shape[-2]\n",
    "\n",
    "# need to add token for empty amino acid\n",
    "# dataset just has all zeros currently\n",
    "features = np.concatenate((np.zeros((features.shape[0], L, 1)), features), axis=-1)\n",
    "features[np.sum(features, -1) == 0, 0] = 1.0\n",
    "\n",
    "batch_size = 16\n",
    "full_data = tf.data.Dataset.from_tensor_slices((features.astype(np.float32), labels))\n",
    "\n",
    "# now split into val, test, train\n",
    "N = pos_data.shape[0] + neg_data.shape[0]\n",
    "split = int(0.1 * N)\n",
    "test_data = full_data.take(split).batch(batch_size)\n",
    "nontest = full_data.skip(split)\n",
    "val_data, train_data = nontest.take(split).batch(batch_size), nontest.skip(split).shuffle(1000).batch(batch_size)"
   ]
  },
  {
   "cell_type": "markdown",
   "metadata": {},
   "source": [
    "We rebuild the convolution model in JAX (using Haiku) to make working with gradients a bit easier. We also make a few changes to the model -- we pass in the sequence length and amino acid fractions as extra information in addition to the convolutions."
   ]
  },
  {
   "cell_type": "code",
   "execution_count": 4,
   "metadata": {},
   "outputs": [],
   "source": [
    "def binary_cross_entropy(logits, y):\n",
    "    '''Binary cross entropy without sigmoid. Works with logits directly'''\n",
    "    return jnp.clip(logits, 0, None) - logits * y + jnp.log(1 + jnp.exp(-jnp.abs(logits)))\n",
    "def model_fn(x):\n",
    "    # get fractions, excluding skip character\n",
    "    aa_fracs = jnp.mean(x, axis=1)[:,1:]\n",
    "    # compute convolutions/poolings\n",
    "    mask = jnp.sum(x[...,1:], axis=-1, keepdims=True)    \n",
    "    for kernel, pool in zip([5, 3, 3], [4, 2, 2]):\n",
    "        x = hk.Conv1D(16, kernel)(x) * mask\n",
    "        x = jax.nn.tanh(x)\n",
    "        x = hk.MaxPool(pool, pool, 'VALID')(x)\n",
    "        mask = hk.MaxPool(pool, pool, 'VALID')(mask)\n",
    "    # combine fractions, length, and convolution ouputs\n",
    "    x = jnp.concatenate((hk.Flatten()(x), aa_fracs, jnp.sum(mask, axis=1)),axis=1)        \n",
    "    # dense layers. no bias, so zeros give P=0.5\n",
    "    logits = hk.Sequential([               \n",
    "        hk.Linear(256, with_bias=False), jax.nn.tanh,\n",
    "        hk.Linear(64, with_bias=False), jax.nn.tanh,\n",
    "        hk.Linear(1, with_bias=False)\n",
    "    ])(x)\n",
    "    return logits\n",
    "model = hk.without_apply_rng(hk.transform(model_fn))\n",
    "def loss_fn(params, x, y):    \n",
    "    logits = model.apply(params, x)\n",
    "    return jnp.mean(binary_cross_entropy(logits, y))\n",
    "@jax.jit\n",
    "def hemolytic_prob(params, x):\n",
    "    logits = model.apply(params, x)\n",
    "    return jax.nn.sigmoid(jnp.squeeze(logits))\n",
    "@jax.jit\n",
    "def accuracy_fn(params, x, y):\n",
    "    logits = model.apply(params, x)\n",
    "    return jnp.mean((logits >= 0) * y + (logits < 0) * (1 - y))"
   ]
  },
  {
   "cell_type": "code",
   "execution_count": 5,
   "metadata": {},
   "outputs": [
    {
     "name": "stderr",
     "output_type": "stream",
     "text": [
      "WARNING:absl:No GPU/TPU found, falling back to CPU. (Set TF_CPP_MIN_LOG_LEVEL=0 and rerun for more info.)\n"
     ]
    }
   ],
   "source": [
    "rng = jax.random.PRNGKey(0)\n",
    "xi, yi = features[:batch_size], labels[:batch_size]\n",
    "params = model.init(rng, xi)\n",
    "\n",
    "opt_init, opt_update, get_params = opt.adam(1e-2)\n",
    "opt_state = opt_init(params)\n",
    "\n",
    "@jax.jit\n",
    "\n",
    "def update(step, opt_state, x, y):\n",
    "    value, grads = jax.value_and_grad(loss_fn)(get_params(opt_state), x, y)\n",
    "    opt_state = opt_update(step, grads, opt_state)\n",
    "    return value, opt_state"
   ]
  },
  {
   "cell_type": "code",
   "execution_count": 6,
   "metadata": {},
   "outputs": [],
   "source": [
    "epochs = 32\n",
    "for e in range(epochs):\n",
    "    avg_v = 0\n",
    "    for i, (xi, yi) in enumerate(train_data):\n",
    "        v, opt_state = update(i, opt_state, xi.numpy(), yi.numpy())        \n",
    "        avg_v += v\n",
    "opt_params = get_params(opt_state)"
   ]
  },
  {
   "cell_type": "markdown",
   "metadata": {},
   "source": [
    "Here we compute the accuracy of our model, which is quite good. "
   ]
  },
  {
   "cell_type": "code",
   "execution_count": 7,
   "metadata": {},
   "outputs": [
    {
     "name": "stdout",
     "output_type": "stream",
     "text": [
      "0.95208335\n"
     ]
    }
   ],
   "source": [
    "acc = []\n",
    "for xi, yi in test_data:\n",
    "    acc.append(accuracy_fn(opt_params, xi.numpy(), yi.numpy()))\n",
    "print(jnp.mean(np.array(acc)))"
   ]
  },
  {
   "cell_type": "markdown",
   "metadata": {},
   "source": [
    "Let's try an amino acid sequence, a peptide, to get a feel for the model. The model outputs logits (logarithm of odds), which we put through a sigmoid to get probabilities. The peptides must be converted from a sequence to a matrix of one-hot column vectors. We'll try two known sequences: Q is known to be common in hemolytic residues and the second sequence is poly-G, which is the simplest amino acid."
   ]
  },
  {
   "cell_type": "code",
   "execution_count": 8,
   "metadata": {
    "scrolled": true
   },
   "outputs": [
    {
     "name": "stdout",
     "output_type": "stream",
     "text": [
      "Probability QQQQQ of being hemolytic 1.00\n",
      "Probability GGGGG of being hemolytic 0.00\n"
     ]
    }
   ],
   "source": [
    "s = 'QQQQQ'\n",
    "sm = array2oh(seq2array(s))\n",
    "p = hemolytic_prob(opt_params, sm)\n",
    "print(f'Probability {s} of being hemolytic {p:.2f}')\n",
    "\n",
    "s = 'GGGGG'\n",
    "sm = array2oh(seq2array(s))\n",
    "p = hemolytic_prob(opt_params, sm)\n",
    "print(f'Probability {s} of being hemolytic {p:.2f}')"
   ]
  },
  {
   "cell_type": "markdown",
   "metadata": {},
   "source": [
    "It looks reasonable -- the model matches our intuition about these two sequences\n",
    "\n",
    "### Gradients\n",
    "\n",
    "Now to start examining *why* a particular sequence is hemolytic! We'll begin by computing the gradients with respect to input -- the naieve approach that is susceptible to shattered gradients. Computing this is a component in the process for integrated and smooth gradients, so not wasted effort. We will use a more complex peptide sequence that is known to be hemolytic to get more interesting analysis. "
   ]
  },
  {
   "cell_type": "code",
   "execution_count": 9,
   "metadata": {
    "tags": [
     "hide-cell"
    ]
   },
   "outputs": [],
   "source": [
    "def plot_grad(g, s, ax=None):\n",
    "    #g = np.array(g)\n",
    "    if ax is None:\n",
    "        plt.figure()\n",
    "        ax = plt.gca()\n",
    "    if len(g.shape) == 3:\n",
    "        h = g[0, np.arange(len(s)), list(map(ALPHABET.index,s))]\n",
    "    else:\n",
    "        h = g\n",
    "    ax.bar(np.arange(len(s)), height=h)\n",
    "    ax.set_xticks(range(len(s)))\n",
    "    ax.set_xticklabels(s)"
   ]
  },
  {
   "cell_type": "code",
   "execution_count": 10,
   "metadata": {},
   "outputs": [
    {
     "name": "stdout",
     "output_type": "stream",
     "text": [
      "Probability RAGLQFPVGRLLRRLLRRLLR of being hemolytic 1.00\n"
     ]
    }
   ],
   "source": [
    "s = 'RAGLQFPVGRLLRRLLRRLLR'\n",
    "sm = array2oh(seq2array(s))\n",
    "p = hemolytic_prob(opt_params, sm)\n",
    "print(f'Probability {s} of being hemolytic {p:.2f}')"
   ]
  },
  {
   "cell_type": "code",
   "execution_count": 11,
   "metadata": {},
   "outputs": [
    {
     "data": {
      "image/png": "[encoded data removed]",
      "text/plain": [
       "<Figure size 432x288 with 1 Axes>"
      ]
     },
     "metadata": {},
     "output_type": "display_data"
    }
   ],
   "source": [
    "gradient = jax.grad(lambda s: jnp.squeeze(model.apply(opt_params, s)), 0)\n",
    "g = gradient(sm)\n",
    "plot_grad(g, s)"
   ]
  },
  {
   "cell_type": "markdown",
   "metadata": {},
   "source": [
    "Remember that the model outputs logits. Positive value of the gradient mean this amino acid is responsible for pushing hemolytic probability higher and negative values mean the amino acid is pushing towards non-hemolytic. Interestingly, you can see a strong position dependence on the leucine (L) and arginine (R).\n",
    "\n",
    "### Integrated Gradients\n",
    "\n",
    "We'll now implement the integrated gradients method. We go through three basic steps:\n",
    "\n",
    "1. Create an array of inputs going from baseline to input peptide\n",
    "2. Evaluate gradient on each input\n",
    "3. Compute the sum of the gradients and multiply it by difference between baseline and peptide\n",
    "\n",
    "The baseline for us is all zeros -- which gives a probability of 0.5 (logits = 0, a model root). This baseline is exactly on the decision boundary. You could use other baselines like all glycines or all alanines, just they should be at or near probability of 0.5. You can find a detailed and interactive exploration of the baseline choice in {cite}`sturmfels2020visualizing`."
   ]
  },
  {
   "cell_type": "code",
   "execution_count": 18,
   "metadata": {},
   "outputs": [],
   "source": [
    "def integrated_gradients(sm, N):\n",
    "    baseline = jnp.zeros((1, L, 21))\n",
    "    t = jnp.linspace(0, 1, N).reshape(-1, 1, 1)\n",
    "    path = baseline * (1 - t) + sm * t\n",
    "    def get_grad(pi):\n",
    "        # compute gradient \n",
    "        # add/remove batch axes\n",
    "        return gradient(pi[jnp.newaxis, ...])[0]\n",
    "    gs = jax.vmap(get_grad)(path)\n",
    "    # sum pieces (Riemann sum), multiply by (x - x')\n",
    "    ig = jnp.mean(gs, axis=0, keepdims=True) * (sm - baseline)\n",
    "    return ig\n",
    "ig = integrated_gradients(sm, 1024)"
   ]
  },
  {
   "cell_type": "code",
   "execution_count": 19,
   "metadata": {},
   "outputs": [
    {
     "data": {
      "image/png": "[encoded data removed]",
      "text/plain": [
       "<Figure size 432x288 with 1 Axes>"
      ]
     },
     "metadata": {},
     "output_type": "display_data"
    }
   ],
   "source": [
    "plot_grad(ig, s)"
   ]
  },
  {
   "cell_type": "markdown",
   "metadata": {},
   "source": [
    "We see that the position dependence has become more pronounced, with arginine being very sensitive to position. Relatively little has qualitatively changed between this and the vanilla gradients.\n",
    "\n",
    "### SmoothGrad\n",
    "\n",
    "To do SmoothGrad, our steps are almost identicial:\n",
    "\n",
    "1. Create an array of inputs that are random pertubations of the input peptide\n",
    "2. Evaluate gradient on each input\n",
    "3. Compute the mean of the gradients\n",
    "\n",
    "There is one additional hyperparameter, $\\sigma$, which in principle should be as small as possible while still causing the model output to change.\n"
   ]
  },
  {
   "cell_type": "code",
   "execution_count": 20,
   "metadata": {},
   "outputs": [
    {
     "data": {
      "image/png": "[encoded data removed]",
      "text/plain": [
       "<Figure size 432x288 with 1 Axes>"
      ]
     },
     "metadata": {},
     "output_type": "display_data"
    }
   ],
   "source": [
    "def smooth_gradients(sm, N, rng, sigma=1e-3):\n",
    "    baseline = jnp.zeros((1, L, 21))\n",
    "    t = jax.random.normal(rng, shape=(N, sm.shape[1], sm.shape[2])) * sigma\n",
    "    path = sm + t\n",
    "    # remove examples that are negative and force summing to 1\n",
    "    path = jnp.clip(path, 0, 1)\n",
    "    path /= jnp.sum(path, axis=2, keepdims=True)    \n",
    "    def get_grad(pi):\n",
    "        # compute gradient \n",
    "        # add/remove batch axes\n",
    "        return gradient(pi[jnp.newaxis, ...])[0]\n",
    "    gs = jax.vmap(get_grad)(path)\n",
    "    # mean\n",
    "    ig = jnp.mean(gs, axis=0, keepdims=True)\n",
    "    return ig\n",
    "sg = smooth_gradients(sm, 1024, jax.random.PRNGKey(0))\n",
    "plot_grad(sg, s)"
   ]
  },
  {
   "cell_type": "markdown",
   "metadata": {},
   "source": [
    "It looks remarkably similar to the vanilla gradient setting -- probably because our 1D input/shallow network is not as sensitive to shattered gradients."
   ]
  },
  {
   "cell_type": "markdown",
   "metadata": {},
   "source": [
    "### Shapley Value\n",
    "\n",
    "Now we will approximate the Shapley values for each feature using Equation 10.9. The Shapley value computation is different than previous approaches because it does not require gradients. The basic algorithm is:\n",
    "\n",
    "1. select random point x'\n",
    "2. create point z by combining x and x'\n",
    "3. compute change in predicted function\n",
    "\n",
    "One efficiency change we make is to prevent modifying the sequence in its padding -- basically preventing exploring making the sequence longer. "
   ]
  },
  {
   "cell_type": "code",
   "execution_count": 15,
   "metadata": {},
   "outputs": [],
   "source": [
    "def shapley(i, sm, sampled_x, rng, model, opt_params=opt_params):\n",
    "    M,F,*_ = sampled_x.shape\n",
    "    z_choice = jax.random.bernoulli(rng, shape=(M,F))\n",
    "    # only swap out features within length of sm\n",
    "    mask = jnp.sum(sm[...,1:], -1)        \n",
    "    z_choice *= mask\n",
    "    z_choice = 1 - z_choice\n",
    "    # construct with and w/o ith feature\n",
    "    z_choice = jax.ops.index_update(z_choice, jax.ops.index[:,i], 0.)\n",
    "    z_choice_i = jax.ops.index_update(z_choice, jax.ops.index[:,i], 1.0)\n",
    "    # select them via multiplication\n",
    "    z = sm * z_choice[...,jnp.newaxis] + \\\n",
    "        sampled_x * (1 - z_choice[...,jnp.newaxis])\n",
    "    z_i = sm * z_choice_i[...,jnp.newaxis] + \\\n",
    "        sampled_x * (1 - z_choice_i[...,jnp.newaxis])\n",
    "    v = model(opt_params, z_i) - model(opt_params, z)    \n",
    "    return jnp.squeeze(jnp.mean(v, axis=0))\n",
    "    \n",
    "# assume data is alrady shuffled, so just take M\n",
    "M = 4096\n",
    "sl = len(s)\n",
    "sampled_x = train_data.unbatch().batch(M).as_numpy_iterator().next()[0]\n",
    "# make batched shapley so we can compute for all features\n",
    "bshapley = jax.vmap(shapley, in_axes=(0, None, None, 0, None))\n",
    "sv = bshapley(jnp.arange(sl), sm, sampled_x, jax.random.split(jax.random.PRNGKey(0), sl), model.apply)"
   ]
  },
  {
   "cell_type": "code",
   "execution_count": 21,
   "metadata": {},
   "outputs": [
    {
     "data": {
      "application/papermill.record/image/png": "iVBORw0KGgoAAAANSUhEUgAAAaQAAAEUCAYAAABkhkJAAAAAOXRFWHRTb2Z0d2FyZQBNYXRwbG90bGliIHZlcnNpb24zLjQuMiwgaHR0cHM6Ly9tYXRwbG90bGliLm9yZy8rg+JYAAAACXBIWXMAAAsTAAALEwEAmpwYAAA1EElEQVR4nO3dd3hUZf4+/vtML2mTDiEEQiAUpS3FWEHs2Na2fAQLrI0iFlhdyIoIgorggqv4E3VxFVwUWFaJ4K7iys9dQaqCgjEQTAjpyaROJtPO94+QkZBJMslMcs7M3K/r2mvJOVPeGSdzz/OcpwiiKIogIiKSmELqAoiIiAAGEhERyQQDiYiIZIGBREREssBAIiIiWVBJ9cQ2mw15eXmIjIyEQsFcJCIKdi6XC9XV1UhJSYFGo2l1XrJAysvLw8qVK6V6eiIiksj8+fMxcODAVsclC6SIiAgAwAMPzEJkZJRUZRARUQ+prq7C22+vdX/+n8+rQNqyZQsOHTqEiooKLFq0CElJSS3Ob9++HVlZWR7PtUWpVAIAIiOjYDJFe3UfIiIKfM2f/+fz6uLNyJEjMX/+fMTExLQ6l5+fj1OnTnk8R0RE5C2vAiktLQ3R0a1bMXa7HR988AHuvvvudu9vsVhQXl7e4n9ms7lrFRMRUVDy6RrSJ598gvHjxyM2Nrbd2+3atQtZWVm+PBURtcPpdMBsLoPDYZO6FCIAgEqlgckUB6XS+5jpciCdPHkSeXl5uO222zq87aRJk5CRkdHimNls5ig7Ij8xm8ug0xlgNCZCEASpy6EQJ4oi6utrYDaXITa2l9f363Ig5eTkoLi4GJmZmQCaAubVV1/Ffffdh6FDh7a4rcFggMFg6OpTEVEHHA4bw4hkQxAEGI0RqKur6tT9uhxI1113Ha677jr3zwsXLsTs2bO9HmXnqx3mPLxWfATFdgsS1QbMSRyOG0wpPfLcRHLEMCI56cr70atA2rRpEw4fPoyamhqsXr0aRqMRixcv7vST+csOcx6WFuyHVXQCAIrsFiwt2A8ADCUiogDlVSBNmTIFU6ZMafc2y5cv90tB3nit+Ig7jJpZRSdeKz7CQCKSgS+//ALvv/9XiCJgszVi0KDBWLx4mSS1bNu2BZs3/x1arRavv/4WDAaj+1xxcRFWrXoRpaUlEEURarUGmZnPIjU1DcuWLcbgwUNw++2/81std9xxE1as+DNSU9N8fqyVK1+A0RiGmTMfbXF8zpyHMHnyzbj++hs93u+dd95EQ0MD5sx53Oca/E2ylRp8UWy3dOo4EbXWXd3e5eXleOWVF/HOOxuQkJAIURSRk5Pth4q7ZsuWTXjmmSUYMmRYq3OrVr2Iiy662B06ZWWlUKkC42Nx8uSbsWDBfDz00Cz3RNMzZwqQk5ONiROvkri6rgmMV/48iWoDijyET6KaAyeIvNGd3d6VleVQKlXuJcEEQcCgQYObnqeoEA88cA8+/XRXq5+b/33TTb/Ft99+g8bGRixa9Dw+/ngrjh37ARqNFi++uAoxMa2nmRw//iNWr14Jq7UBOp0ejz8+H0OGDMOiRQtw5kwBli5dhPT0IXj22edb3K+0tBSxsfHun+Pi4lucz809iblzH0FpaQmGDbsQf/rTcxAEAf/+92fYvPnvcDjsAIDZsx/HmDHjADS1giZNugb793+L+vo63HXX/3lsZZWXl2P16hUoKSlGY2MjrrrqWtx77wx8+eUX2LlzO15+eQ2ApoWo77zzJrz55t+QmJjovv+QIcMQERGBffv2IiPjEgDAzp1ZuPLKq1FfX4c//OEx1NfXw2az4eKLL8GsWY+1quH81tK5P9vtdqxbtxbffXcQNpsdaWlpmDdvAQwGAz7++B/46KMPoFZrIIouLFnyIlJS+nl+Q3RCQAbSnMThLf6YAEAnKDEncbiEVRHJw3bzKXxceard2xy1VMAmulocs4pOPFewD/+oPNnm/W6J7o+bTP3bfey0tEEYOnQYbr99MkaN+g2GDx+Ja6+9was1K6urqzF8+Eg88sgcfPDBe3j88Zn4y1/exNNP/wkrV76IrVs/wkMPzWpxH7vdjszMp7Bw4bMYM2Yc9u//FpmZT+HDD/+JJUtewB133ITnn3/JYzfZ1Kn34vnnn8XmzX/H0KEXYOLESS1aUrm5J7F69VooFApMnz4VBw58i7FjL8L48Rfh6quvhSAIyM//BY89Ngvbtu1w389srsRf/7oBlZUVmD59KkaMGI20tJaLiT7//CLcf/8DGDlyNOx2Ox57bCaGDBmKyy+fgNdfX43CwjPo3TsJX375OYYOvbBFGDWbPPlm7NixHRkZl8DlcmHnziw899xyhIWF46WX/gyDwQCHw4Enn5yDvXu/wUUXXdzhf4NmGzf+DUajEW+99R4AYO3aV/H+++vx8MOzsXbtGmzcuBWxsbGw2WxwuVwdPJp3AjKQmr/BrSw8DLOzETEqHZ7sNZLXj4i8dH4YdXS8MxQKBV54YRVyc0/g8OFD+Prrr/DBB+/jvfc2dXhfvd6Aiy++FAAwaNBgxMXFY+DAdADA4MGDsX//t63uk5+fB7Va7W6hjB07Hmq1Gvn5eRgwoP1rNddccz3Gj8/AgQP78f33hzB37iN46qlMXH110wjiyy6bAK1WCwBIT0/HmTMFGDu2qWts8eJMlJWVQaVSobKyAhUV5e7W24033gIAiI6OwcUXX4rDhw+2CKSGhgYcPnwQVVVV7mMWSz1++eUXjB17EW655Tb8859bMWvWXPzjH5vx4IMz26j/Brz99puoqalGdvZP0Ov1uOCC4WhoaMDatWtw9OgRACIqKiqQk/NzpwLpf//7/1FfX4+vvvoSAGC329y/w+jRY7Fs2bO45JLLkJFxKZKS+nj9uO0JyEACmkJpgC4CU3L+jT8mjcZVkclSl0QkCzeZOm7F3HB8u8du715qA94ecKVf6khNTUNqahpuv/0uTJt2Jw4fPoghQ4bB5RLdt7HZWq4sodGo3f9WKBTQaLTn/KyE09lyMJM/REZGYdKkqzFp0tWIj0/AF1/8yx1IWu2ve/ac+/yLF2dizpwncPnlE+ByuXDVVZe2+l3aI4ouCIKAt99+z+M1q5tvvg0zZkzFpZdejrq6WnfYns9kMmHcuPH4/PPP8MMPR3HDDTcBAD78cCNqa2uwbt270Gq1eOmlZbDZGlvdX6lUQjznS8i5v4MoAvPm/RG/+c3YVvdbvvxlHD/+Iw4ePIC5cx/B/PkL3N2GvgjonfHi1HoAQJm9QeJKiALLnMTh0AktV1z2V7d3WVkpfvjhiPvn0tISVFWZ0atXb0RHx8DhcKCg4DQA4PPPP/P5+fr2TYHdbsehQwcAAAcP7ofD4UDfvh33mHzzzX/R2Nj0Qe10OnHy5An06tXxXMq6ujr06tUbAPDpp5+0CqOdO5uWSjObzdiz538YPXpMi/MGgxEjRozChg3vuo+VlBSjoqIcABAVFYUxY8Zh8eJM/Pa3d7Y7p2fy5FuwbdtWfPPN17juuskAgNraWsTExEKr1aKsrBT//e9uj/ft0ycZ2dk/weVywWKpxzfffO0+d+mll+PDDzeisdEKoLkFdwoOhwOFhWcwdOgFuOee+zFu3EV+G7QSsC0kAIhSaqESFCi3W6UuhSigNHdvd8coO6fTiXfeeRPFxUXQanUQRRceeGCme2DDY4/NwxNPzEZUVBQyMi71+fnUajWWLVvRYlDD88+/BLVa3eF9Dx8+iNdfXw2VSgWn04n09CF44IFHOrzf3LlPYuHC+QgPD8f48RcjMjKyxfnIyCjMmDEN9fV1uOee+z12HS5atBSvvvoK7r23acCDwWDEggWLWnT7/ec/X7Q5fLvZ+PEZWLFiGUaN+g2io5t2Xbjzzil45pmncc89dyEuLsFjKwcArrjiSuza9TmmTr0DCQmJSE8f4j43bdr9eOedN/HAA/ee3dVbwIwZD6J37yQsW7YYdXW1EAQFEhIS8Mgjczp8zbwhiKIodnwz/ysvL0dmZibmzVvo035I1x/fjrFh8ViSPN6P1REFluLiPCQm8hqqHPhrrtG7776NiooKzJv3tJ8q63nnvy/N5kqsWrUcy5Yt87god0C3kAAgTq1jlx0RBZVp0+6CUqnEK6/8RepSelTgB5JKj7zGWqnLICICAGzZst3nx9iw4SM/VBJ4AnpQA9A0sKHMwWtIRESBLigCqcZpg9XlkLoUIiLyQeAHkqpp6DdH2hERBbbAD6TmuUgODmwgIgpkQRBIOgCcHEtEFOgCP5BUXK2BiCgYBHwgRSg10AgKjrQjkpl3330b06bdiZqaGqlLoQAR8IEkCALi1HqUs4VEJBunTuXizJkCPPvs83jjjdCa3EldF/CBBACxKh0HNRDJSP/+qcjMXIyBA9Px9NOZHd5+9+4v4XBw6kaoC/iVGoCmkXYnrdVSl0FEXiouLsaaNS+7fy4vL8fJkycwY8ZDElZFUguOQFLpsddeInUZRHSeHTu2Y9OmDVAqlUhM7I17752OIUOGITExES+8sMp9u61bP8Qll1wOm82GmTN/jzVr3kBYWJiElZMUgqLLLk6tR53LDovTLnUpRHSWw+HAG2/8BWvWvIH58xeisdHaYnvwc91++++QmNgLGo0G1157PT78cGMPV0tyEDSBBIAj7Yhkwmw2Y9q0O2G1WvHEE3OwePFC9y6szZYvfw7vvPMmAOD06XxMmXIbsrN/wqRJ1yAr62MpyiaJBU2XHdA0FylFGy5xNUTSUhzcB8X+vd3y2K6xF8H1G8/baZ/LZDJhxoyHsH//t8jMXIy77roFQ4de0OI2Dz44E7///T247LIrsGTJM1iwYBHS05s28VOp1MjL+wUpKf2649cgmQquFhKHfhPJRnb2cXfAlJWVttqIMy4uHtddNxmzZz+IRx99EiNGjHSfi4mJQWkprwuHmuBoITUvH8Sh30Rw/WacV62Y7pad/RMmTJgEANBqtbDZbC3Om82V2Lv3f9DrDUhISGxxzmZrhFar7bFaSR6CooUUplBDJyjZQiKSCVEUceJEDgYOTAcApKamIT//F/f52tpazJs3F7///cOYMeNBrF37qvuc0+lEYeEZn7cAp8ATFIHUvFpDGbegIJKF06fzEBsbB52uqffiiismYt++putaVqsVTz31OG677Q5cccWVuPHGW3H6dB4OHToAADh69HsMHXoBh32HoKAIJKDpOlI5u+yIZKFv334ttuG+8cZbsGfPf9HYaIVOp8Mbb7yDG2+8FQCgUqnw97//A6NHjwEA/POfW3H33fdKUTZJLGgCKValY5cdkUwZjWGYM+dxFBYWtns7m82GkSNHYcwY6a+BUc8LikENQFML6evaIoiiCEEQpC6HiM4zduxFHd5Go9Hg1lvv6IFqSI6CpoUUr9ajweVAvYsLNBIRBaKgCSRu1EdEFNiCJ5DcywcxkIiIAlHwBRJbSBSiRFGUugQit668H4MmkGJVZ1drYCBRCFKpNKivr2EokSyIooj6+hqoVJpO3S9oRtkZlWoYFSp22VFIMpniYDaXoa6uSupSiAA0fUkymeI6d59uqkUSXK2BQpVSqUJsbC+pyyDySdB02QFNI+3YZUdEFJiCK5C4fBARUcAKukAqs1t5YZeIKAAFVSDFqnRoFJ2oddqlLoWIiDrJq0ENW7ZswaFDh1BRUYFFixYhKSkJdXV1WL9+PcrKyqBUKhEfH49p06YhPFy6LcTPnRwb0cnhhkREJC2vWkgjR47E/PnzERMT4z4mCAKuueYaLFmyBM8++yzi4uKwbdu2bivUG5wcS0QUuLwKpLS0NERHR7c4ZjQakZ6e7v45NTUVFRUV/q2uk5rXsytlIBERBRy/zENyuVzYvXs3RowY4fG8xWKBxWJpccxsNvvjqVuIVZ9drYEj7YiIAo5fAmnTpk3QarWYMGGCx/O7du1CVlaWP56qXXqFCuFKNbvsiIgCkM+BtGXLFpSWlmL27NlQKDz3AE6aNAkZGRktjpnNZqxcudLXp2+laXIsV2sgIgo0PgXStm3bkJeXh0cffRRqtbrN2xkMBhgMBl+eymtxaj277IiIApBXgbRp0yYcPnwYNTU1WL16NYxGIx566CF89tlnSEhIwEsvvQQAiI2NxcyZM7u14I7EqfU4UFcqaQ1ERNR5XgXSlClTMGXKlFbH33zzTb8X5Ks4lR7ljqbVGgRBkLocIiLyUlCt1AAAcWodHKILVU6b1KUQEVEnBF0gxao4OZaIKBAFXSCdu3wQEREFjqALpHguH0REFJCCLpBiVWdXa2AgEREFlKALJI1CiSilhl12REQBJugCCfh1oz4iIgocwRlIKj277IiIAkxwBhKXDyIiCjhBG0gVdiucokvqUoiIyEvBGUgqHZwQUeXgag1ERIEiOAOJk2OJiAJOUAZSLCfHEhEFnKAMpDiuZ0dEFHCCMpBi1GdXa2CXHRFRwAjKQFILCkSrtGwhEREFkKAMJKB5cixXayAiChTBG0icHEtEFFCCO5DYZUdEFDCCN5BUelQ4rHBwtQYiooAQvIGk1kEEUOngdSQiokAQxIHUPBeJgUREFAiCN5A4OZaIKKAEbyBxPTsiooAStIEUrdJCAYEtJCKiABG0gaTkag1ERAElaAMJaJ4cy0ENRESBILgDScXJsUREgSK4A4mrNRARBYygDySzsxF2l1PqUoiIqAPBHUiqpn2RynkdiYhI9oI7kLiVORFRwAjqQIo/G0hsIRERyV9QBxJbSEREgSOoAylKqYUKApcPIiIKAEEdSApBQIxaxxYSEVEACOpAAponx/IaEhGR3AV/IKn17LIjIgoAoRFI7LIjIpK94A8klR7VThsauVoDEZGsBX8gqZtXa2AriYhIzkIgkDgXiYgoEAR/IKmaA4kj7YiI5EzV0Q22bNmCQ4cOoaKiAosWLUJSUhIAoKSkBOvXr0d9fT2MRiOmT5+OhISEbi+4s9wtJHbZERHJWoctpJEjR2L+/PmIiYlpcXzjxo2YMGECli5digkTJmDjxo3dVqQvIpUaqAUFu+yIiGSuw0BKS0tDdHR0i2M1NTXIz8/HuHHjAADjxo1Dfn4+amtru6dKHwiCwJ1jiYgCQIdddp6YzWZERUVBoWjKM4VCgaioKJjNZoSHh7e6vcVigcViafUYPSVWrUMZV/wmIpK1LgVSZ+3atQtZWVk98VQexan1yLXWSPb8RETUsS4FkslkQlVVFVwuFxQKBVwuF6qqqmAymTzeftKkScjIyGhxzGw2Y+XKlV15+k6LU+nxrb2kR56LiIi6pkuBFBERgeTkZOzbtw8XXXQR9u3bh+TkZI/ddQBgMBhgMBh8KtQXcWo96lx2NLgc0Ct6pFFIRESd1OGn86ZNm3D48GHU1NRg9erVMBqNWLx4MaZOnYr169fj008/hcFgwPTp03ui3i5pXq2hzN6AvlrPoUlERNLqMJCmTJmCKVOmtDqemJiIBQsWdEtR/vbr5FgGEhGRXAX9Sg3AuZNjOdKOiEiuQiKQ4rmeHRGR7IVEIIUp1NAJSpQzkIiIZCskAkkQBO4cS0QkcyERSAAQq9ZzxW8iIhkLmUCKU+l4DYmISMZCJ5DYZUdEJGuhE0gqPSwuB+qddqlLISIiD0InkM5ZrYGIiOQnhAKJO8cSEclZ6ASSipNjiYjkLHQCyb1aA4d+ExHJUcgEklGphkGhYpcdEZFMhUwgAU3dduyyIyKSp9AKJLWeK34TEclUiAWSjgusEhHJVGgF0tkuO1EUpS6FiIjOE1KBFKvWwyo6Uefiag1ERHITUoHUPPS7lN12RESyE1qBpOLyQUREchVagcTlg4iIZCs0A4mrNRARyU5IBZJeoUKYQs0uOyIiGQqpQAK4UR8RkVyFZiCxhUREJDuhF0gqHcp5DYmISHZCL5DOdtlxtQYiInkJyUCyiy5UO21Sl0JEROcIvUDizrFERLIUeoGkPrtaA0faERHJSggGEltIRERyFHKBFKviag1ERHIUcoGkVSgRqdSwy46ISGZCLpAATo4lIpKj0AwkFQOJiEhuQjOQ1Dp22RERyUyIBpIeFXYrXFytgYhINkIykEptFjggYszRj3DD8e3YYc6TuiQiopAXcoG0w5yHz6pPAwBEAEV2C5YW7GcoERFJLOQC6bXiI7CLrhbHrKITrxUfkagiIiICQjCQiu2WTh0nIqKeEXKBlKg2dOo4ERH1jJALpDmJw6ETlC2O6QQl5iQOl6giIiICAJWvD3DkyBF88skn7g3vJk+ejNGjR3t9f+XGd6FS+VyG124GcKnDirzGWjhFERqFEn00RkSrCnusBiKiUKR0ONo971MSiKKI9evXY/78+UhKSkJBQQFWrFiBkSNHQqGQb+MrWqWDAAEnrdVI00bAoFRLXRIRUcjzuWkiCAIaGppWPbBYLIiMjGwVRhaLBRZLy0EDZrMZAOCcej8cpmhfy+g0c2MtpmfvwKI+Y/Hb6NQef34iolDjNFcCq5a3ed6nQBIEAQ8++CDWrl0LrVYLq9WKRx99tNXtdu3ahaysLF+eyu/6aMJgUKiQ3WCWuhQiIoKPgeR0OvHZZ59h1qxZSEtLw4kTJ7Bu3TosXrwYOp3OfbtJkyYhIyOjxX3NZjNWrlzpy9P7RCEIGKSLws8NVZLVQEREv/IpkE6fPo3q6mqkpaUBANLS0qDValFcXIx+/fq5b2cwGGAwyG9Ydbo+ClnmX+ASRSgEQepyiIhCmk8jD0wmE8xmM4qLiwEARUVFqKmpQVxcnF+K626DdFGodzlwxlYvdSlERCHPpxZSZGQk7r77brz55pvugQz33XcfjEajX4rrbul6EwAg22pGsjZM4mqIiEKbz6Psxo8fj/Hjx/ujlh43QBcBJQRkN1ThqshkqcshIgpp8p0s1AN0ChX6acM5sIGISAZCOpCApm67n61VUpdBRBTyGEj6KBTbLahyNEpdChFRSAv5QBqkiwIAtpKIiCTGQNJHAQCyeR2JiEhSIR9I0Sod4tV6LiFERCSxkA8kAEjXRbHLjohIYgwkNI20O2WtQaPLKXUpREQhq+d2xpOxQbooOCAi11qNIYae3wqDiMhbO8x5eK34CIrtFiSqDZiTOBw3mFKkLssv2EJC09BvAMhmtx0RydgOcx6WFuxHkd0CEUCR3YKlBfuxw5wndWl+wUDCuXsjVUldChFRm14rPgKr2PLSglV04rXiIxJV5F8MJPy6NxJbSEQkZ8V2S6eOBxoG0lnp+ij83GCGSxSlLoWIyKNoldbj8US1/Pab6woG0lnNeyMVcm8kIpIhu+iCso2P7MvDe/dwNd2DgXTWr3sjVUlbCBGRBxvKslHqaMDUmEHopTZAQFPLKEUdho/Np3DMUil1iT7jsO+zft0byYxJkX2kLoeIyO2MrQ7rSn7ElRFJmJ80CvOTRrnPVTqsmJrzOZ7M+y82pF2NWLVewkp9wxbSWc17I3GkHVFg2mHOww3Ht2P0kQ9xw/HtQTMUWhRFvHDmEBSCgKd6j251Plqlw+p+l6LaYcO8vP/BFsAT/BlI5+DeSESBKZjn53xRXYD/1RZhVsIFSNB4HryQrjdhad/xOGKpwLIzByAG6OAsBtI5Bum4NxJRIArW+Tm1ThtWFB7CEL0Jv4sd2O5tr4pMxsPxw/CJ+RdsLP+5hyr0LwbSOZpXbGAriSiwBOv8nNeLj6LS0YjMpDFQCR1/XD+UMAxXRvTBn4u+xze1RT1QoX8xkM7BvZGIAlN8Gxfyo5Se5+0Egh8sFfio4gTuiknDMC/X2FQIApYmj8MAXQSeztuDvMZav9TSU9fnGEjniFbpEKfi3khEgSZZE9bqmADA7GzEnwu/gz3ALvQ7RBeeLziAWJUesxMv7NR9DUo1Vve7DCpBgcd/+Rq1TptPtfTk9TkG0nnS9dwbiSiQ/K+2CAfqy3BZeC/3/JxeagOe7TMWd8YMwHvl2bj/5C7k+6m10BP+Xp6DbGsVnkoahTClutP3760xYlW/S1DQWIc/5u+BU3R1uZa/9OD1Oc5DOk+6Pgp7a4vR6HJCq1BKXQ4RtaPWacOSgv1I1Ubg5ZRLWv3N3oJUjA9LxHMF+3B3zr+RmTQG18t8q4YiWz3eKPkBl4f3xqSIrs+JHG2Mw4Kk32DpmQN4tegInug90uv7iqKI4w1m7KzK69Hrcwyk86TrTNwbiShArCw8jAq7Fa+ktQ6jZpMi+2Co3oSF+Xux8PRe7K0rxtO9R8PQhZZHT3ip8BBEUcTTSaMhCIJPj3VbzAD8bK3Ce+XZSNNH4iZT/3Zvn9dYi8+q8rDTnI88Wy1UggJaQYlGsXWXZ3esn8dAOs+gc/ZGYiARydfXNYX4xPwLfh8/BMMMMe3etpfGiLcGTMS6kh/xdukxfF9fgZdSMtxLhsnFf6oLsLumEI8njkBvjdEvjzmv9yicaqzB4tP7sKboCCod1hYb+5XZG/DvqnzsrMrHjw2VEACMMcbj3rh0XBWZjP/WFmFpwf4W3XY6QYk5icP9Ut+5GEjnSdaEQS+jvZGk2B0y0Hak7Gq9gfZ70q9qHE1ddWm6SDwUP8yr+6gEBWYlXoixYfHIzP8W95z4Ao/3GoH/ixnoc0vEH+qddrxUeAgDdZG4O26Q3x5XLShwdUQy9teVosJhBdA0MGFxwT68U3oMvzTWwgURQ/QmPNFrBK6N7NtiAm7z30RP/K0wkM7TtDdSpCwWWW0e3dL8zaR5dAuAbvvglOI5feGp3iUF+yGKIiZH9+vU/eT8e1JLKwoPwexoxKv9LoOmk9d6x4Yl4MNB12Lx6X14ufAwPqk4BbOzEWWOBkm/mLxR8gNK7Q1Y0fdiqL2Yc9QZfy07jvPXbrCLLuQ11uL38UNwfVQK+usi2rz/DaaUHnlNGEgepOtN2GHOgyiKkn5zam/2eXe9OdobUSPHD2pPr1Gj6MSfCr7F82cOQKdQwaBQQa9QwqBUQa9o+t+3tSUB9XvSr/5TfQafVuXhofhhXe5WN6m0WN3vUjxz+lt8WvXr8GWpvpgct1Ti7+U5uD16AIYbY/3++G0NQHBBxKxODivvThz27UG6Lgp1LjsK7dLujdSTo1tqHDb8tfR4wM14b6+uu2LScHVUH4wyxiJFG4EwhQY2lwtFNkurMPLm8Uh6VY5GLDtzAIN0UXggfohPjyUIAg7Vl7U6bhWd+Evx9z49dmc4RReeP3MAJpUWc3v5/7oM0PYABLlt7McWkgfp56zYkORhwl1PiVXpUHa2z/d8qwoP4/boAejXTjPbG2dsddhY9jP+aT6FBpcDGkEBm4c5C3J74zaLVGpQ5WHiXy+1od1hrjcc344iD+ETpwrcpftDwYrCQ6h2NOL1/pdD7YdpGW1/AWvAi2cO4rfRqd0+8GFzxUkcazDjhb4ZCFdquuU55iQO77GBCb5gIHkwQBcJBQRkN1ThSon2Rsq11qDB6Wh1XCMoMFAXiU3lOdhQ/jPGGONxe8wAXBmR1Km+9KOWCrxflo1d1QVQALjOlIJpsYNw0lrT6o0LNC3cKDcO0QUlBAhAi/5xb/7QPP2BAkCjy4HjlkrZjbDkAAxgV3UBdlbl45GEC/wWEolqg8cvJjpBiW2Vufiw4gSG6E24NToV10f19VtgnPvfEwAGaiNwbTf+jfXkwARfMJA8cO+NZJVmCaGT1mo8nPsVtEoVZsQOxeaKE63eROX2BnxsPoVtlblYkL8HUUotbjb1w20xA5CiDQfQ+kNsVsIFMCrVeK8sG99ZyhGmUOPeuHT8X+xAxJ9tATX/oTffL16th0IE/lF5ErdE98cAXaQkr4knn5p/QYWzEXfHDMR/as506g/N0x/oraZUbDPnYvrJL/FMnzGYbOrXA79FxzgAo2kTumUFBzBYF4UZPnbVnautlsMzfcbikvBE7KjKw7bKXLxw5iD+XPgdropKxm+jUzHKEAtBELr0ReH8/54AkG+rx86q/G7979lTAxN8IYgSbZxRXl6OzMxMzJu3ECaTvL6NAsDC/D04XF+OnUNu6tHnPWGtwkMnv4JSELAudWK7I18AwCWK+LauBFsqTmJ3zRk4IWJcWDz6ayLwsflUizd9c0uil9qAaXHpuMXUH0YvJgcW2yyYduJzGBQqvJd2FaJU0i9YaXM5cWv2DphUWmxIu9pvg08qHVY8lfcNDtaXYWrsIDzea4RXqyx3p7a6F2NUOvxryE1QSlxfT3g67xt8WXMGH6RdjYFnu9T9paNQEUURxxrM2FaZi8+q8lDvciBFE47Buih8VVvYYtJoc5jdYEpBg8uBUnsDyuwNKLVbUGa3otRhwT8qcj1ew+ylNmBHD3/e9DSzuRKrVi3HsmXLEBvbevAGW0htSNeZsLMqH9WORkT20Afwzw1VeDj3K6gFBd4aMNHd0mmPQhCQEZ6IjPBElNkb8HHlKfyj8iT21ZW2uq0IIEqpwSeDJ3fqQzZRY8ArKZfggdz/4Km8b/B66hV+H5baWdsqc1Fkt+BPfcb4dSRktEqHN1InYHXRd9hY/jOyG6rwUkoGolU6vz2Ht+qcdmSZf/EYRgBQ4bBi0rGPMT4sAReHJyIjvFebq14Hss+rTuPf1acxJ/FCv4cR0HHLQRAEDDNEY5ghGvN6j8TnVafxz8pc/KvmdKvbWkUnFp3+Fi+cOYg6l73VeYNCxQE17WAgteHcvZHGhiV0+/NlN5jxSO5X0CqUWJc6EX29CKPzxan1eCBhKKbHD8aYo5s93qbaaevSN/7hxlg802cMFp3eh5cLD2Fh0phOP4a/NLgceLv0GEYZ45ARluj3x1cLCvyh92gM0Ufj+YIDmJrzOValXIKhPXRd6YS1Ch9VnMCn5jxYXA6oBQXsHgaaRCk1uCyiN/bUFuPf1U0fjmm6SGSEJeLi8ESMMsZBq1AG9OTqSocVy88cxFC9CffFDe6GSjtHr1Dh5uj+uDm6P0Yf+bDV3B4AcELEjaZ+iFPrEa/WI07V9P/xaj2MSnWbLV65DhzqSQykNpy7N1J3B9JxSyVmntoNvUKFdakTkaz1bWSfUlCgVxsXa315099k6o9caw3eLfsJadpI3NXBDpbd5aPyEyh3WPFSysXdOk/sRlM/DNBG4Mm8/2H6yV34U58xHa4F1lV20YX/VBfgw4oTOFRfBo2gwHVRfXFXTBryGus8Xuf4Q+/RuMGUAlEUkWOtxp7aYnxTV4xNFTl4vzwbOkGJZE0YTtlq4DjbMx9Ik6tFUcTyMwdR77JjSfJ4ybtOz9fWgIheagOeThrd5v0CZcSbFBhIbXDvjdTNKzYcs1TikVNfIUyhxlsDJvptmHl3vennJF6Ik9ZqrCg8jH66CIzrgdbjueqcdqwvO46LwxIx2hjX7c83xBCNjQOvxh/z9mDR6X04ZjHjyd4ju9xleX7L4d64wahyNGJr5UmUO6zorTbiscThuCU6FaazXcXN67S11eIQBAGD9FEYpI/CffGD0eBy4EBdKb6pLcbmihNwnvc93io6sbroe78HkksU8bO1Ci+eOehx0vHLhYcwzBCNZE0YFF58kfhX9Wnsqi7A3MThshpM06yrf2OBMuJNCgykdqTro7p1s74fLRV4JHc3IpQavDVgot8WUwS6702vFBRY3jcD9534An/I+wbvp13Vpe7FrtpYno1qp61HZ5dHq3RYm3oFVhd9j43lP2NPbTEaXI5OLzXjqeXwUuEhAMAl4b3wTEwaLglP9DhIoTMjpPQKFS6L6I3LInrjw4ocj7cpczRg8vEsjAmLw5iweIw1JiBR07L17M3F/lONtdhfV4J9daU4WF+K6nY2g6ty2nBr9g6EKdQYajBhqD4aQ/VN12Z6qQ2tRq0BQB+1EffEpXv1e/c0X/7GAmHEmxQYSO1o3hvJ5nJ2er2sjhy1VGBW7m5EqTRYlzoRvfwYRs26600fplRjTb/LcM+Jz/H4L1/jb2lXdduEvnNVORrxflk2roxI8npLZ39RCQrM7z0KNpcTmytPuo83r51XZKvHCGMsapw2VDttqHXaUO04599OGw7Wl8Hh4VpQnEqP1/pf3i11t9WtFKFUY7DehN1nV8wGmhYWbgqneFQ7bVhT9H2rbrdKhxVGpRr760qwv64U5WcnbieqDZgQkYSxYfF4tegISh0NrZ4zVqXDrMQLccxSiWMNldhQ/rP79YhSahCn0iG3sbZFi67M0YB/V52W7Yc3g8W/GEjtcO+N1FiDwX6crf1dfTnmnNqNaJUO61IntvpmGgj6aMPwcsolmJn7FRbk78Wafpd2+/Djv5X9BIvLIenaW/+tLWp1rFF04rWSo62OKyEgQqlBpEqDCKXGYxgBQLmHD29/aatb6enev8ENphS4RBE51iocqCvF/vpSfF51Gtsqcz0+llV0YlXRdwCahpyPPRte48ISkKQxuq/nCRA8PucTvUbiBlMKfhudCqBp6H6OtRrHGipxzFKJLPMvrboXG0UX1xcMIQykdvw6sMHscyA1d0UU2S0QAJiUWrw9YKJ7QmogGhMWj6eTRmPZmYNYU3QET3ZiR8rOKrM3YFN5Dq6PSpH0ekJ7Q3P/v/4T3OETqdTAoFC1GHQhxeiqjrqVFIKAdL0J6XoTpsalwym6kN1QhaknPm/zMbcMug6p2og2B5R425WlUSjdw6kRA3xsPuXx8TgcOnT4HEh2ux0fffQRfvrpJ6hUKqSmpuKee+7xR22S89feSOdfOxAB1LscOFBXFvDf/O6IScMJazXeL89Gmi4SN0d3zyi0d0qPwS668HCCd3vfdJf2RlaND29/gIdUo6s6062kFBQYevaaTlu/pzdfCLrSldXWa8vh0KHD50DaunUr1Go1lixZAkEQUFNT44+6ZMFfeyO1tUVCsHRFzO89Cqcaa/H8mQM4Y6vDdvMvfh1IUWirx9bKXNwS3b9HB1B44kuoBNLoKinCk8OhyadAslqt2Lt3L1588UV38z0iwrfVp+XGH3sjBdqWDp2lEhRY0TcDt2XvxLrSY+7j/przsq7kRwgAHvRyZ9Du5GuoBMpFcCnCM5ACm7qHT4FUVlYGo9GIrKwsZGdnQ6fT4ZZbbkFaWlqL21ksFlgsLT98zWZpFi7trHRdFD5ynUChvb7Lc4SMCrXHZUSCqSsiUqWF0kNg+7rpXV5jLbLMv+B3sWmyGfwRKKHiKyl+z1B5bckznwJJFEWUl5ejb9++uOOOO3Dq1Cm8/vrrWLp0KfT6X9fU2rVrF7KysnwuVgqDfNwb6acGM+pddiggwHXOCKJg7Ioob2PvJl9agm8U/wC1oMCMuKFdfgwiCgw+BVJ0dDQUCgXGjh0LAOjfvz/CwsJQUlKCfv36uW83adIkZGRktLiv2WzGypUrfXn6HuHL3kg2V9NCizEqHR6OH4a/lh0P6q6Iti5KJ3SxJfhzQxX+VZ2PGXFDEKPu+cVNiahn+RRIYWFhSE9Px/HjxzF06FCUlJSgpqYG8fHxLW5nMBhgMMiju6Wz9AoVUrq4N9JbpceQY63Gmn6X4fKI3rgjNq3jOwWwtja9E0UROQ1VnV6peW3JUYQp1LJYVJOIup/Po+ymTp2K9957D5s3b4ZSqcSMGTMCNnzakq6Pwnf15Z26z4+WCqwvPY6bTf1weUTvbqpMXjxdlL4qMhk7qvIw9cTneDRxOKbGDvJqHbOjlgrsrinE7IQLEaHq/lUgiEh6PgdSXFwc5s2b549aZCtdF4XPOrE3UqPLiWdO70OsWof5vUf1QIXy4emi9P3xg7G04ABeKfoO/60txJI+45HQwQCF14uPwqTU4m6JVhQnop4nr/XcZap5W++fvZyPtLb4KE411mBRn7E9ssab3EWrdHgl5RIs6jMWRy2VuDPnM/yrKr/N2x+oK8W3dSWYET8EBi92tCWi4MBA8sIgXRQAeLViw3f15Xi/PBu3R6fi4vBe3VtYABEEAb+NTsWmgdegnzYCf8zfgz/l70XteatDi6KI14qPIF6tx50xwX3NjYha4lp2XohR6xCr0nW4YkODy4FnT3+LXmojnug1skdqCzR9teH464Ar8U7pcbxV8iMO1pdhafJ4lNob3Gv9AcAtUf2g9fMK60QkbwwkL6XrTR3ujfSXoiPIt9VhXeoEGNnV1CaVoMDDCcNwcXgiMvP34sHc/0AJocVKz/+qPo1x5sSgGxpPRG1jl52X0nVRONVYC7vL6fH8gbpS/L0iB7+LSev2Lc+DxYWGGGwaeA30CpXHXU1fKz4iUWVEJAUGkpfS9VFwiC7kNrZePNbitOPZ0/uQrAnDY71GSFBd4DIo1bC6HB7PBctaf0TkHQaSl5pH2nka2PDnou9RZK/HkuRx0CvYC9pZba3pF0xr/RFRxxhIXuqjMTbtjXTeig17a4uxpfIkpsWmY6QxTqLqAtucxOHQCS0HMATjWn9E1D5+nfeSUlBgoC6yRQup1mnD4oJ96K8Nx6zEC6QrLsBx2wEiAhhInZKuj8JOc757b6RVhd+hzG7Fu2mToGNXnU+47QARscuuE9J1JtS57CiyW/B1TSE+Np/C/XGDcaEhRurSiIgCHr/Wd0K5vQEAMPmnLCgAJKj0eDhB+l1MiYiCAVtIXtphzsP6sp/cP7sAmJ2N+KK6QLqiiIiCCAPJS68VH0Hjefv82EQXJ28SEfkJA8lLbU3S5ORNIiL/YCB5iZM3iYi6FwPJS5y8SUTUvTjKzkucvElE1L0YSJ3AyZtERN2HXXZERCQLDCQiIpIFBhIREckCA4mIiGSBgURERLIg2Sg7p7NpGZ7q6iqpSiAioh7U/Hnf/Pl/PskCqaamBgDw9ttrpSqBiIgkUFNTg4SEhFbHBVEURQnqgc1mQ15eHiIjI6FQdK3n0Gw2Y+XKlZg/fz5MJpOfKwxNfE39j6+p//E19b+eeE1dLheqq6uRkpICjUbT6rxkLSSNRoOBAwf65bFMJhNiY2P98ljUhK+p//E19T++pv7X3a9pfHx8m+c4qIGIiGSBgURERLLAQCIiIlkI6EAyGAy48cYbYTBwTyJ/4Wvqf3xN/Y+vqf/J4TWVbJQdERHRuQK6hURERMGDgURERLIQsBv0lZSUYP369aivr4fRaMT06dM9zvwNdVu2bMGhQ4dQUVGBRYsWISkpCUD7r19Xz4WKuro6rF+/HmVlZVAqlYiPj8e0adMQHh6O3NxcbNy4ETabDTExMZgxYwYiIiIAoMvnQsXatWtRUVEBQRCg1WoxZcoUJCcn873qo+3btyMrK8v99y/r96gYoFatWiXu2bNHFEVR3LNnj7hq1SqJK5KnnJwcsaKiQlywYIFYUFDgPt7e69fVc6Girq5O/Omnn9w/b968Wfzb3/4mOp1OMTMzU8zJyRFFURSzsrLEd999VxRFscvnQonFYnH/+/Dhw+LSpUtFUeR71Rd5eXnimjVr3H//cn+PBmSXXU1NDfLz8zFu3DgAwLhx45Cfn4/a2lqJK5OftLQ0REdHtzjW3uvX1XOhxGg0Ij093f1zamoqKioqkJ+fD7VajbS0NADAFVdcgYMHDwJAl8+FEr1e7/53Q0MDBEHge9UHdrsdH3zwAe6++273Mbm/RwOyy85sNiMqKsq9Bp5CoUBUVBTMZjPCw8Mlrk7+2nv9RFHs0rlQfd1dLhd2796NESNGoLKyskX4h4WFweVyob6+vsvnjEZjj/4+Unvvvfdw7NgxAMDcuXP5XvXBJ598gvHjx7dYBkju79GAbCERycWmTZug1WoxYcIEqUsJCvfeey9efPFF3Hrrrdi6davU5QSskydPIi8vL+DelwHZQjKZTKiqqoLL5YJCoYDL5UJVVRVX/fVSe6+fKIpdOheKtmzZgtLSUsyePRsKhQLR0dGorKx0n6+rq4NCoYDRaOzyuVB10UUXYcOGDXyvdlFOTg6Ki4uRmZkJoKlX5NVXX8XEiRNl/R4NyBZSREQEkpOTsW/fPgDAvn37kJycHDJNcV+19/p19Vyo2bZtG/Ly8jBr1iyo1WoAQN++fWGz2XDixAkAwO7duzF69GifzoUKq9Xa4gPv+++/h9FoRHh4ON+rXXDddddhxYoVWL58OZYvXw6TyYS5c+fimmuukfV7NGBXaiguLsb69ethsVhgMBgwffp0JCYmSl2W7GzatAmHDx9GTU0NwsLCYDQasXjx4nZfv66eCxWFhYV47rnnkJCQ4A6j2NhYzJw5EydPnsSGDRvgcDhaDY3t6rlQUFNTg7Vr16KxsdH9zfuOO+5A3759+V71g4ULF2L27NlISkqS9Xs0YAOJiIiCS0B22RERUfBhIBERkSwwkIiISBYYSEREJAsMJCIikgUGEhERyQIDiYiIZIGBREREsvD/AKRXuPH375J5AAAAAElFTkSuQmCC\n",
      "application/papermill.record/text/plain": "<Figure size 432x288 with 1 Axes>"
     },
     "metadata": {
      "scrapbook": {
       "mime_prefix": "application/papermill.record/",
       "name": "shapley_convg"
      }
     },
     "output_type": "display_data"
    },
    {
     "data": {
      "image/png": "[encoded data removed]",
      "text/plain": [
       "<Figure size 432x288 with 1 Axes>"
      ]
     },
     "metadata": {},
     "output_type": "display_data"
    }
   ],
   "source": [
    "from myst_nb import glue\n",
    "val = []\n",
    "ms = np.linspace(2, 4096, 25)\n",
    "for m in ms.astype(np.int32):\n",
    "    sampled_x = train_data.unbatch().batch(m).as_numpy_iterator().next()[0]\n",
    "    val.append(jnp.sum(bshapley(jnp.arange(sl), sm, sampled_x, jax.random.split(jax.random.PRNGKey(0), sl), model.apply)))\n",
    "plt.plot(ms, val, '-o', label='Sum of Shapley Values')\n",
    "plt.axhline(model.apply(opt_params, sm), color='C1', label=r'$\\hat{f}\\left(\\vec{x}\\right)$')\n",
    "plt.legend()\n",
    "plt.tight_layout()\n",
    "glue('shapley_convg', plt.gcf(), display=False)\n",
    "\n"
   ]
  },
  {
   "cell_type": "markdown",
   "metadata": {},
   "source": [
    "One nice check on Shapley values is that we can check that their sum is equal to the value of model function. This should be true because the Shapley values partition the model among the features. That value is computed as:\n"
   ]
  },
  {
   "cell_type": "code",
   "execution_count": 24,
   "metadata": {},
   "outputs": [
    {
     "name": "stdout",
     "output_type": "stream",
     "text": [
      "6.772983 [[8.085288]]\n"
     ]
    }
   ],
   "source": [
    "print(np.sum(sv), model.apply(opt_params, sm))"
   ]
  },
  {
   "cell_type": "markdown",
   "metadata": {},
   "source": [
    "which is *some* disagreement. This is an effect of the approximation method we're using. We can check that by examining how sample number effects the sum of Shapley values.\n",
    "\n",
    "```{glue:figure} shapley_convg\n",
    "---\n",
    "name: shapley_convg\n",
    "---\n",
    "A comparison of sum of Shapley values and function value as a function of samples number in the Shapley value approximation.\n",
    "```\n",
    "\n",
    "Finally we can check the individual Shapley values"
   ]
  },
  {
   "cell_type": "code",
   "execution_count": 25,
   "metadata": {},
   "outputs": [
    {
     "data": {
      "image/png": "[encoded data removed]",
      "text/plain": [
       "<Figure size 432x288 with 1 Axes>"
      ]
     },
     "metadata": {},
     "output_type": "display_data"
    }
   ],
   "source": [
    "plot_grad(sv, s)"
   ]
  },
  {
   "cell_type": "markdown",
   "metadata": {},
   "source": [
    "The four methods are shown side-by-side below. "
   ]
  },
  {
   "cell_type": "code",
   "execution_count": 26,
   "metadata": {},
   "outputs": [
    {
     "data": {
      "image/png": "[encoded data removed]",
      "text/plain": [
       "<Figure size 864x288 with 1 Axes>"
      ]
     },
     "metadata": {},
     "output_type": "display_data"
    }
   ],
   "source": [
    "heights = []\n",
    "plt.figure(figsize=(12,4))\n",
    "x = np.arange(len(s))\n",
    "for i,(gi,l) in enumerate(zip([g, ig, sg], ['Gradient', 'Integrated', 'Smooth'])):\n",
    "    h = gi[0, np.arange(len(s)), list(map(ALPHABET.index,s))]\n",
    "    plt.bar(x + i/5 - 1/4, h, width=1/5, edgecolor='black', label=l)\n",
    "plt.bar(x + 3\n",
    "        /5 - 1/4, sv, width=1/5, edgecolor='black', label='Shapley')\n",
    "plt.gca().set_xticks(range(len(s)))\n",
    "plt.gca().set_xticklabels(s)\n",
    "plt.legend()\n",
    "plt.show()"
   ]
  },
  {
   "cell_type": "markdown",
   "metadata": {},
   "source": [
    "As someone who works with peptides, I believe the Shapley is the most accurate here. I wouldn't expect the pattern of L and R to be that significant, which is what the Shapley values show. Another difference is that the Shapley values do not show the phenylalanine (F) as have a significant effect. \n",
    "\n",
    "What can we conclude from this information? We could perhaps add an explanation like this: \"The sequence is predicted to be hemolytic primarily because of the glutamine, proline, and arrangement of lecucine and arginine.\""
   ]
  },
  {
   "cell_type": "markdown",
   "metadata": {},
   "source": [
    "## Training Data Importance\n",
    "\n",
    "Another kind of explanation or interpretation we might desire is *which* training data points contribute most to a prediction. This is a more literal answer to the question: \"Why did my model predict this?\" -- neural networks are a result of training data and thus the answer to why a prediction is made can be traced to training data. Ranking training data for a given prediction helps us understand which training examples are causing the neural network to predict a value. This is like an influence function, $\\mathcal{I}(x_i, x)$, which gives a score of incluence for training point $i$ and input $x$. The most straightforward way to compute the influence would be to train the neural network with ($\\hat{f}(x)$) and without $x_i$ ($\\hat{f}_{-x_i}(x)$) and define the influence as\n",
    "\n",
    "\\begin{equation}\n",
    "\\mathcal{I}(x_i, x) = \\hat{f}_{-x_i}(x) - \\hat{f}(x)\n",
    "\\end{equation}\n",
    "\n",
    "For example, if a prediction is higher after removing the training point $x_i$ from training, we would say that point has a positive influence. Computing this influence function requires training the model as many times as you have points -- typically computationally infeasible. {cite}`koh2017understanding` show a way to approximate this by looking at infinitesimal changes to the *weights* of each training point. Computing these influence functions do require computing a Hessian with respect to the loss function and thus are not commonly used. If you're using JAX though, this is simple to do.\n",
    "\n",
    "```{margin}\n",
    "If using a kernel model, remembering that the features are the training data. Then the above methods, like integrated gradients, give training data importance.\n",
    "```\n",
    "\n",
    "Training data importance provides an interpretation that is useful for deep learning experts. It tells you which training examples are most influential for a given predictions. This can help troubleshoot issues with data or tracing explanations for spurious predictions. However, a typical user of predictions from a deep learning model will probably be unsatisfied with a ranking of training data as an explanation. "
   ]
  },
  {
   "cell_type": "markdown",
   "metadata": {
    "tags": [
     "remove-cell"
    ]
   },
   "source": [
    "## Surrogate Models\n",
    "\n",
    "One of the more general ideas in interpretability is to fit an interpretable model to a black-box model *in the neighborhood of a specific example*. We assume that an interpretable model cannot be fit globally to a black box model -- otherwise we could just use the interpretable model and throw away the black box model. Always replace a neural network with an interpretable model if you can. However, if we fit the interpretable model to just a small region around an example of interest, we can provide an explanation. We call the interpretable model a local surrogate model. Examples of local surrogate models that are inherently interpretable include decision trees, linear models, sparse linear models (for succint explanations), and Naive Bayes Classifier.\n",
    "\n",
    "The most popular algorithm for this process of fitting a local surrogate model is called Local Interpretable Model-Agnostic Explanations (LIME) {cite}`ribeiro2016should`. LIME fits the local surrogate model using the following loss function:\n",
    "\n",
    "\\begin{equation}\n",
    "\\mathcal{l^s}(\\theta^s) = \\frac{1}{M}\\sum_{x'} \n",
    "\\end{equation}\n",
    "\n",
    "LIME has this weird sparsity term. LIME is so weird."
   ]
  },
  {
   "cell_type": "markdown",
   "metadata": {},
   "source": [
    "## Cited References\n",
    "\n",
    "```{bibliography}\n",
    ":style: unsrtalpha\n",
    ":filter: docname in docnames\n",
    "```"
   ]
  }
 ],
 "metadata": {
  "celltoolbar": "Tags",
  "kernelspec": {
   "display_name": "Python 3",
   "language": "python",
   "name": "python3"
  },
  "language_info": {
   "codemirror_mode": {
    "name": "ipython",
    "version": 3
   },
   "file_extension": ".py",
   "mimetype": "text/x-python",
   "name": "python",
   "nbconvert_exporter": "python",
   "pygments_lexer": "ipython3",
   "version": "3.7.8"
  }
 },
 "nbformat": 4,
 "nbformat_minor": 4
}
