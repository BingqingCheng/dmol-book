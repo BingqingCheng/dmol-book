{
 "cells": [
  {
   "cell_type": "markdown",
   "metadata": {},
   "source": [
    "# Interpretability in Deep Learning\n",
    "\n",
    "```{warning}\n",
    "This chapter is being written.\n",
    "```\n",
    "\n",
    "Interpretability, part of the broader topic of explainable AI (XAI), is the process of adding explanations to deep learning model predictions. These explanations should help us understand why particular predictions are made. This is a critical topic because being able to understand model predictions is justified from a practical, theoretical, and increasingly a regulatory stand-point. It is practical because it has been shown that people are more likely to use predictions of a model if they can understand the rationale {cite}`lee2004trust`. Another practical concern is that correctly implementing methods is much easier when one can understand how a model arrived at a prediction. A theoretical justification for transparency is that it can help identify incompleteness in model domains (i.e., covariate shift){cite}`doshi2017towards`. It is now becoming a compliance problem because both the European Union {cite}`goodman2017european` and the G20 {cite}`Development2019` have recently adopted guidelines that recommend or require explanations for machine predictions. The European Union is considering going further with more [strict draft legislation](https://digital-strategy.ec.europa.eu/en/library/proposal-regulation-laying-down-harmonised-rules-artificial-intelligence-artificial-intelligence) being considered. \n",
    "\n",
    "A famous example on the need for explainable AI is found in Caruana et al.{cite}`caruana2015intelligible` who built an ML predictor to assess mortality risk of patients in the ER with pneumonia. The idea is that patients with pneumonia are screened with this tool and it helps doctors know which patients are more at risk of dying. It was found to be quite accurate. When the interpretation of its predictions were examined though, the reasoning was medically insane. The model surprisingly suggested patients with asthma (called asthmatics) have a reduced mortality risk when coming to the ER with pneumonia. Asthma, a condition which makes it difficult to breathe, was found to *make pneumonia patients less likely to die.* This was incidental; asthmatics are actually more at risk of dying from pneumonia but doctors are acutely aware of this and are thus more aggressive and attentive with them. Thanks to the increase care and attention from doctors, there are fewer mortalities. From an empirical standpoint, the model predictions are correct. However if the model were put into practice, it could have cost lives by incorrectly characterizing asthmatics as low mortality risk. Luckily the interpretability of their model helped researchers identify this problem. Thus, we can see that interpretation should always be a step in the construction of predictive models. \n",
    "\n",
    "Deep learning alone is a black box modeling technique. Examining the weights or model equation provides little insight into why predictions are made. Thus, interpretability is an extra task. This is challenge because of both the black box nature of deep learning and because there is no consensus on what exactly constitutes an \"explanation\" for model predictions. {cite}`doshi2017towards`. For some, interpretability means having a natural language explanation justifying a prediction. For others, it can be simply showing which features contributed most to the prediction. \n",
    "\n",
    "There are two broad approaches to interpretation of ML models: post hoc interpretation and self-explaining models {cite}`Murdoch2019`. Self-explaining models are constructed so that an expert can view output of the model and connect it with the features through reasoning. Self-explaining models are highly dependent on the task model{cite}`montavon2018methods`. A familiar example would be a physics based simulation like molecular dynamics or a single-point quantum energy calculation. You can examine the molecular dynamics trajectory, look at output numbers, and an expert can explain why, for example, the simulation predicts a drug molecule will bind to a protein. It may seem like this would be useless for deep learning interpretation. However, we can create a **proxy model** (sometimes **surrogate model**) that is self-explaining and train it to agree with the deep learning model. Why will this training burden be any less than just using the proxy model from the beginning? We can generate an infinite amount of training data because our trained neural network can label arbitrary points. You can also construct deep learning models which have self-explaining features in them, like attention {cite}`bahdanau2014neural`. This allows you to connect the input features to the prediction based on attention. \n",
    "\n",
    "Post hoc interpretation can be approached in a number of ways, but the most common are training data importance, feature importance, and generative explanations{cite}`ribeiro2016should,ribeiro2016model,wachter2017counterfactual`. An example of a post hoc interpretation based on data importance is identifying the most influential training data to explain a prediction {cite}`koh2017understanding`. It is perhaps arguable if this gives an *explanation*, but it certainly helps understand which data is relevant for a prediction. Feature importance are probably the most common XAI approach and frequently appear in computer vision research where the pixels most important for the class of an image are highlighted. Finally, generative explanations are an emerging approach where a new data point is generated (in same distribution as training data features) that serves as a counterfactual. A counterfactual gives insight into how important and sensitive the features are. An example might be in a model that recommends giving a loan. A model could produce the following counterfactual explanation (from {cite}`wachter2017counterfactual`):\n",
    "\n",
    "> You were denied a loan based on your annual income, zip code, and assets. If \n",
    "> your annual income had been $45,000, you would have been offered a loan.\n",
    "\n",
    "The second sentence is the conuterfactual and shows how the features could be changed to affect the model outcome. Coutnerfactuals provide a nice balance of complexity and explanatory power.\n",
    "\n",
    "This was a brief overview of interpretable deep learning. You can find a recent review of interpretable deep learning in Samek et al. {cite}`9369420` and Christopher Molnar has a [broad online book](https://christophm.github.io/interpretable-ml-book/) about interpretable machine learning, including deep learning {cite}`molnar2019`. Prediction error and confidence in predictions is not covered here, but see the methods from {doc}`../ml/regression` which apply. "
   ]
  },
  {
   "cell_type": "markdown",
   "metadata": {},
   "source": [
    "## Feature Importance\n",
    "\n",
    "Feature importance is the most straightforward and common method of interpreting a machine learning model. The output of feature importance is a ranking or numerical values for each feature, typically for a single prediction. If you are trying to understand the feature importance across the whole model, this is called **global** feature importance and **local** for a single prediction. Global feature importance and global interpretability is relatively rare because the best models change which features are important in different regions of feature space.\n",
    "\n",
    "Let's start with a linear model to see feature importance:\n",
    "\n",
    "\\begin{equation}\n",
    "\\hat{y} = \\vec{w}\\vec{x} + b \n",
    "\\end{equation}\n",
    "\n",
    "where $\\vec{x}$ is our feature vector. A simple way to assess feature importance is to simply look at the weight value $w_i$ for a particular feature $x_i$. The weight $w_i$ shows how much $\\hat{y}$ would change if $x_i$ is increased by 1 while all other features are constant. If the magnitude of our features are comparable, then this would be a reasonable way to rank features. However, if our features have units, this approach is sensitive to unit choices and relative magnitude of features. For example if our temperature was changed from Celsius to Fahrenheit, a 1 degree increase will have a smaller effect. \n",
    "\n",
    "To remove the effect of feature magnitude and units, a slightly better way to assess feature importance is to divide $w_i$ by the **standard error**  in the feature values. Recall that standard error is just the ratio of sum of squared error in predicted value divided by the total deviation in the feature. Standard error is a ratio of prediction accuracy to feature variance -- and the prediction accuracy is indepdenent of the feature and thus has no effect for ranking feature importance. $w_i$ divided by standard error is called the $t$-statistic because it can be compared with the $t$-distribution for assessing feature importance.\n",
    "\n",
    "\\begin{equation}\n",
    "t_i = \\frac{w_i}{S_{w_i}},\\; S^2_{w_i} = \\frac{1}{N - D}\\sum_j \\frac{\\left(\\hat{y}_j - y_j\\right)^2}{\\left(x_{ij} - \\bar{x}_i\\right)^2}\n",
    "\\end{equation}\n",
    "\n",
    "where $N$ is the number of examples,  $D$ is the number of features, and $\\bar{x}_i$ is the average value of the $i$th feature. The $t_i$ value can be used to rank features and it can be used for a hypothesis test: if $t_i > 0.05$ then that feature is significant. Note that a feature's significance is sensitive to which features are present in a model; if you add features some may become redundant.\n",
    "\n",
    "If we move to a non-linear learned function $\\hat{f}(\\vec{x})$, we must compute how the prediction changes if a feature value increases by 1 via the derivative approximation:\n",
    "\n",
    "$$\n",
    "\\frac{\\Delta \\hat{f}(\\vec{x})}{\\Delta x_i} \\approx \\frac{\\partial  \\hat{f}(\\vec{x})}{\\partial x_i}\n",
    "$$\n",
    "\n",
    "so a change by 1 is\n",
    "\n",
    "\\begin{equation}\n",
    "\\Delta \\hat{f}(\\vec{x}) \\approx \\frac{\\partial  \\hat{f}(\\vec{x})}{\\partial x_i}.\n",
    "\\end{equation}\n",
    "\n",
    "\n",
    "In practice, we make a slight variation on this equation -- instead of a Taylor series centered at 0 approximating this change, we center at some other root (point where the function is 0). This \"grounds\" the series at the decision boundary (a root) and then you can view the partials as \"pushing\" the predicted class away or towards the decision boundary. Another way to think about this is that we use the first-order terms of the Taylor series to build a linear model. Then we just apply what we did above to that linear model and use the coefficients as the \"importance\" of features. Specifically, we use this surrogate function for $\\hat{f}(\\vec{x})$:\n",
    "\n",
    "\\begin{equation}\n",
    "\\require{cancel}\n",
    "\\hat{f}(\\vec{x}) \\approx \\cancelto{0}{f(\\vec{x}')} +  \\nabla\\hat{f}(\\vec{x}')\\cdot\\left(\\vec{x} - \\vec{x}'\\right)\n",
    "\\end{equation}\n",
    "\n",
    "where $\\vec{x}'$ is the root of $\\hat{f}(\\vec{x})$. Note in practice people may choose the trivial root $\\vec{x}' = \\vec{0}$, however a nearby root is ideal. This root is often called the **baseline** input. Note that as opposed to the linear example above, we consider the product of the partial $\\frac{\\partial  \\hat{f}(\\vec{x})}{\\partial x_i}$ and the increase above baseline $(x_i - x_i')$."
   ]
  },
  {
   "cell_type": "markdown",
   "metadata": {},
   "source": [
    "### Neural Network Feature Importance\n",
    "\n",
    "In neural networks the partial derivatives are a poor approximation of the real changes to the output. Small changes to the input can have discontinuous changes, making the terms above have little explanatory power. This is called the **shattered gradients** problem {cite}`pmlr-v70-balduzzi17b`. Breaking down each feature separately also misses correlations between features -- which don't exist in a linear model. Thus the derivative approximation works satisfactorily in locally linear models, but not deep neural networks.\n",
    "\n",
    "There are a variety of techniques that get around the issue of shattered gradients in neural networks. Two popular methods are integrated gradients {cite}`sundararajan2017axiomatic` and SmoothGrad{cite}`smilkov2017smoothgrad`. Integrated gradients creates a path from $\\vec{x}'$ to $\\vec{x}$ and integrates Equation 4 along that path:\n",
    "\n",
    "\\begin{equation}\n",
    "\\textrm{IG}_i = \\left(\\vec{x} - \\vec{x}'\\right) \\int_0^1\\left[\\nabla\\hat{f}\\left(\\vec{x}' + t\\left(\\vec{x} - \\vec{x}'\\right)\\right)\\right]_i\\,dt\n",
    "\\end{equation}\n",
    "\n",
    "where $t$ is some increment along the path such that $\\vec{x}' + t\\left(\\vec{x} - \\vec{x}'\\right) = \\vec{x}'$ when $t = 0$ and $\\vec{x}' + t\\left(\\vec{x} - \\vec{x}'\\right) = \\vec{x}$ when $t = 1$. This gives us the integrated gradient for each feature $i$. The integrated gradients are the importance of each feature, but without the complexity of shattered gradients. There are some nice properties too, like $\\sum_i \\textrm{IG}_i = f(\\vec{x}) - f(\\vec{x}')$ so that the integrated gradients provide a complete partition of the change from the baseline to the prediction{cite}`sundararajan2017axiomatic`.\n",
    "\n",
    "Implementing integrated gradients is actually relatively simple. You approximate the path integral with a Riemann sum by breaking the path into a set of discrete inputs between the input features $\\vec{x}$ and the baseline $\\vec{x}'$. You compute the gradient of these inputs with the neural network. Then you multiply that be the change in features above baseline: $\\left(\\vec{x} - \\vec{x}'\\right)$.\n",
    "\n",
    "SmoothGrad is a similar idea to the integrated gradients. Rather than summing up the gradients along a path though, we sum gradients from random points nearby our prediction. The equation is:\n",
    "\n",
    "\\begin{equation}\n",
    "\\textrm{SG}_i = \\sum_j^M\\left[\\nabla\\hat{f}\\left(\\vec{x}' + \\vec{\\epsilon}\\right)\\right]_i\n",
    "\\end{equation}\n",
    "\n",
    "where $M$ is a choice of sample number and $\\vec{\\epsilon}$ is sampled from $D$ zero-mean Guassians {cite}`smilkov2017smoothgrad`. The only change in implementation here is to replace the path with a series of random perturbations.\n",
    "\n",
    "Beyond these gradient based approaches, Layer-wise Relevance Propagation (LRP) is another popular approach for feature importance analysis in neural networks. LRP works by doing a backwards propogation through the neural network that partitions the output value of one layer to the input features. It \"distributes relevance\". What is unusual about LRP is that each layer type needs its own implementation. It doesn't rely on the analytic derivative, but instead a Taylor series expansion of the layer equation. There are variants for GNNs and NLP, so that LRP can be used in most settings in materials and chemistry {cite}`Montavon2019`."
   ]
  },
  {
   "cell_type": "markdown",
   "metadata": {},
   "source": [
    "### Shapley Values\n",
    "\n",
    "A model agnostic way to treat feature importance is with **Shapley values.** Shapley values come from game theory and are a solution to how to pay a coalition of cooperating players according to their contributions. Imagine each feature is a player and we would like to \"pay\" them according to their contribution to the predicted value. A Shapley value $\\phi_i$ is the pay to feature $i$. We break-up the predicted function value $\\hat{f}(x)$ into the Shapley values so that the sum of the pay is the function value ($\\sum_i \\phi_i = \\hat{f}(x)$. This means you can interpet the Shapley value of a feature as its numerical contribution to the prediction. Shapley values are powerful because their calculation is agnostic to the model, they partition the predicted value among each feature, and they have other attributes that we would desire in an explanation of a prediction (symmetry, linearity, permutation invariant, etc.). Their disadvantage are that exact computation is combinatorial with respect to feature number and they have no sparsity, making them less helpful as feature number grows. Most methods we discuss here also have no sparsity -- you can also force your model to be sparse to achieve sparse explanations.\n",
    "\n",
    "Shapley values are computed as\n",
    "\n",
    "\\begin{equation}\n",
    "\\phi_i = \\frac{1}{Z}\\sum_{S \\in M \\backslash x_i}v(S\\cup x_i) - v(S)\n",
    "\\end{equation}\n",
    "$$\n",
    "Z = \\frac{|S|!\\left(N - |S| - 1\\right)!}{N!}\n",
    "$$\n",
    "\n",
    "where $S \\in N \\backslash x_i$ means all sets of features that exclude feature $x_i$, $S\\cup x_i$ means putting back feature $x_i$ into the set, and $v(S)$ is the value of $\\hat{f}(x)$ using only the features included in $S$, and $Z$ is a normalization value. The formula can be interpreted as the mean of all possible differences in $\\hat{f}$ formed by adding/removing feature $i$. \n",
    "\n",
    "One immediate concern though is how can we \"remove\" feature $i$ from a model equation? We marginilize out feature $i$. Recall a marginal is a way to integrate out a random variable -- $P(x) = \\int\\, P(x,y)\\,dy$. That integrates over all possible $x$ values. Marginalization can be used on functions of random variables, which obviously are also random variables, by taking an expectation: $E_y[f | X = x] = \\int\\,f(X=x,y)P(X=x,y)\\, dy$. I've emphasized that the random variable $X$ is fixed in the integral and thus $E_y[f]$ is a function of $x$. $y$ is removed by computing the expected value of $f(x,y)$ where $x$ is fixed (the function argument). We're essentially replacing $f(x,y)$ with a new function $E_y[f]$ that is the average of all possible $y$ values I'm over-explaining this though, it's quite intuitive. The other detail is that *value* is the change relative to the average of $\\hat{f}$. You can typically ignore this extra term - it cancels, but I include it for completeness. Thus the value equation becomes {cite}`vstrumbelj2014explaining`:\n",
    "\n",
    "\\begin{equation}\n",
    "v(x_i) = \\int\\,f(x_0, x_1, \\ldots, x_i,\\ldots, x_N)P(x_0, x_1, \\ldots, x_i,\\ldots, x_N)\\, dx_i - E\\left[\\hat{f}(\\vec{x})\\right]\n",
    "\\end{equation}\n",
    "\n",
    "How do we compute the marginal $\\int\\,f(x_0, x_1, \\ldots, x_i,\\ldots, x_N)P(x_0, x_1, \\ldots, x_i,\\ldots, x_N)\\, dx_i$? We do not have a known probability distribution $P(\\vec{x})$. We can sample from $P(\\vec{x})$ by considering our data as an **empirical distribution**. That is, we can sample from $P(\\vec{x})$ by sampling data points. There is a little bit of complexity here because we need to sample the $\\vec{x}$'s jointly, we cannot just mix together individual features randomly because there are correlations between features that will be removed. {cite}`vstrumbelj2014explaining` showed that we can directly estimate the $i$th Shapley value with:\n",
    "\n",
    "\\begin{equation}\n",
    "\\phi_i(\\vec{x}) = \\frac{1}{M}\\sum^M \\hat{f}\\left(\\vec{z}_{+i}\\right) - \\hat{f}\\left(\\vec{z}_{+i}\\right)\n",
    "\\end{equation}\n",
    "\n",
    "where $\\vec{z}$ is a \"chimera\" exapmle constructed from the real example $\\vec{x}$ and a randomly drawn example $\\vec{x}'$. We randomly select from $\\vec{x}$ and $\\vec{x}'$ to construct $\\vec{z}$, except $\\vec{z}_{+i}$ specifically has the $i$th feature from the example $\\vec{x}$ and $\\vec{z}_{-i}$ has the $i$th feature from the random example $\\vec{x}'$. $M$ is chosen large enough to get a good sample for this value. {cite}`vstrumbelj2014explaining` gives guidance on choosing $M$, but basically as large $M$ as computationally feasible reasonable. \n",
    "\n",
    "```{danger}\n",
    "This process marginalizing features *is not* the same as replacing features with their average.\n",
    "```\n",
    "\n",
    "\n",
    "With this efficient approximation method, the strong theory, and independence of model choice, Shapley values are an excellent choice for describing feature importance for examples."
   ]
  },
  {
   "cell_type": "markdown",
   "metadata": {},
   "source": [
    "## Feature Importance Example\n",
    "\n",
    "Let's see an example of these two methods on the solubility prediction example from {doc}`layers`.  As a reminder, the model takes in peptides sequences and predicts solubility. The goal of the feature importance method here will be to identify which amino acids matter most for the solubility prediction. The hidden-cell below loads and reshapes the data."
   ]
  },
  {
   "cell_type": "markdown",
   "metadata": {},
   "source": [
    "## Running This Notebook\n",
    "\n",
    "\n",
    "Click the &nbsp;<i aria-label=\"Launch interactive content\" class=\"fas fa-rocket\"></i>&nbsp; above to launch this page as an interactive Google Colab. See details below on installing packages, either on your own environment or on Google Colab\n",
    "\n",
    "````{tip} My title\n",
    ":class: dropdown\n",
    "To install packages, execute this code in a new cell\n",
    "\n",
    "```\n",
    "!pip install matplotlib numpy pandas seaborn jax jaxlib dm-haiku\n",
    "```\n",
    "\n",
    "````"
   ]
  },
  {
   "cell_type": "code",
   "execution_count": 1,
   "metadata": {
    "scrolled": true,
    "tags": [
     "hide-cell"
    ]
   },
   "outputs": [],
   "source": [
    "import haiku as hk\n",
    "import jax\n",
    "import tensorflow as tf\n",
    "import jax.numpy as jnp\n",
    "import numpy as np\n",
    "import matplotlib.pyplot as plt\n",
    "import seaborn as sns\n",
    "import matplotlib as mpl\n",
    "import warnings\n",
    "import urllib\n",
    "import jax.experimental.optimizers as opt\n",
    "warnings.filterwarnings('ignore')\n",
    "sns.set_context('notebook')\n",
    "sns.set_style('dark',  {'xtick.bottom':True, 'ytick.left':True, 'xtick.color': '#666666', 'ytick.color': '#666666',\n",
    "                        'axes.edgecolor': '#666666', 'axes.linewidth':     0.8 , 'figure.dpi': 300})\n",
    "color_cycle = ['#1BBC9B', '#F06060', '#5C4B51', '#F3B562', '#6e5687']\n",
    "mpl.rcParams['axes.prop_cycle'] = mpl.cycler(color=color_cycle) \n",
    "\n",
    "ALPHABET = ['', 'A','R','N','D','C','Q','E','G','H','I', 'L','K','M','F','P','S','T','W','Y','V']\n",
    "def seq2array(seq):\n",
    "    N = pos_data.shape[-1]\n",
    "    return np.pad(list(map(ALPHABET.index, seq)), (0,N - len(seq))).reshape(1, -1)\n",
    "def array2oh(a):\n",
    "    a = np.squeeze(a)\n",
    "    o = np.zeros((len(a), 21))\n",
    "    o[np.arange(len(a)), a] = 1\n",
    "    return o.astype(np.float32).reshape(1, -1, 21)\n",
    "\n",
    "urllib.request.urlretrieve(\n",
    "    'https://github.com/whitead/dmol-book/raw/master/data/solubility.npz', 'solubility.npz')\n",
    "with np.load('solubility.npz') as r:\n",
    "    pos_data, neg_data = r['positives'], r['negatives']"
   ]
  },
  {
   "cell_type": "code",
   "execution_count": 2,
   "metadata": {
    "tags": [
     "hide-cell"
    ]
   },
   "outputs": [],
   "source": [
    "# create labels and stich it all into one \n",
    "# tensor\n",
    "labels = np.concatenate((np.ones((pos_data.shape[0], 1), dtype=pos_data.dtype), np.zeros((neg_data.shape[0], 1) , dtype=pos_data.dtype)), axis=0)\n",
    "features = np.concatenate((pos_data, neg_data), axis=0)\n",
    "# we now need to shuffle before creating TF dataset\n",
    "# so that our train/test/val splits are random\n",
    "i = np.arange(len(labels))\n",
    "np.random.seed(0)\n",
    "np.random.shuffle(i)\n",
    "labels = labels[i]\n",
    "features = features[i]\n",
    "L = pos_data.shape[-1]\n",
    "# convert to one-hot\n",
    "ohfeatures = np.zeros((len(labels),L,21))\n",
    "for i in range(len(labels)):\n",
    "    ohfeatures[i,np.arange(L),features[i]] = 1\n",
    "full_data = tf.data.Dataset.from_tensor_slices((ohfeatures.astype(np.float32), labels))\n",
    "\n",
    "# now split into val, test, train\n",
    "N = pos_data.shape[0] + neg_data.shape[0]\n",
    "split = int(0.1 * N)\n",
    "test_data = full_data.take(split).batch(16)\n",
    "nontest = full_data.skip(split)\n",
    "val_data, train_data = nontest.take(split).batch(16), nontest.skip(split).batch(16)"
   ]
  },
  {
   "cell_type": "markdown",
   "metadata": {},
   "source": [
    "We rebuild the solubility model in JAX (using Haiku) to make working with gradients a bit easier. We also make a few changes to the model -- we pass in the sequence length and amino acid fractions as extra information in addition to the convolutions."
   ]
  },
  {
   "cell_type": "code",
   "execution_count": 149,
   "metadata": {},
   "outputs": [],
   "source": [
    "def binary_cross_entropy(logits, y):\n",
    "    yhat = jax.nn.sigmoid(logits)\n",
    "    return -jnp.sum(y * jnp.log(yhat) + (1 - y) * jnp.log(1 - yhat + 1e-6))\n",
    "def model_fn(x):\n",
    "    # get fractions, excluding skip character\n",
    "    aa_fracs = jnp.mean(x, axis=1)[:,1:]\n",
    "    # compute convolutions/poolings\n",
    "    mask = jnp.sum(x[...,1:], axis=-1, keepdims=True)    \n",
    "    for kernel, pool in zip([5, 3, 3], [4, 2, 2]):\n",
    "        x = hk.Conv1D(16, kernel)(x) * mask\n",
    "        x = jax.nn.tanh(x)\n",
    "        x = hk.MaxPool(pool, pool, 'VALID')(x)\n",
    "        mask = hk.MaxPool(pool, pool, 'VALID')(mask)\n",
    "    # combine fractions, length, and convolution ouputs\n",
    "    x = jnp.concatenate((hk.Flatten()(x), aa_fracs, jnp.sum(x[:,1:], axis=(1,2)).reshape(-1,1)),axis=1)\n",
    "    # dense layers\n",
    "    logits = hk.Sequential([               \n",
    "        hk.Linear(256, with_bias=False), jax.nn.tanh,\n",
    "        hk.Linear(64, with_bias=False), jax.nn.tanh,\n",
    "        hk.Linear(1, with_bias=False)\n",
    "    ])(x)\n",
    "    return jnp.squeeze(logits)\n",
    "model = hk.without_apply_rng(hk.transform(model_fn))\n",
    "def loss_fn(params, x, y):    \n",
    "    logits = model.apply(params, x)\n",
    "    return jnp.mean(binary_cross_entropy(logits, y))\n",
    "@jax.jit\n",
    "def solubility_prob(params, x):\n",
    "    logits = model.apply(params, x)\n",
    "    return jax.nn.sigmoid(jnp.squeeze(logits))\n",
    "@jax.jit\n",
    "def accuracy_fn(params, x, y):\n",
    "    logits = model.apply(params, x)\n",
    "    return jnp.mean((logits >= 0) * y + (logits < 0) * (1 - y))"
   ]
  },
  {
   "cell_type": "code",
   "execution_count": 150,
   "metadata": {},
   "outputs": [],
   "source": [
    "rng = jax.random.PRNGKey(0)\n",
    "xi, yi = ohfeatures[:16], labels[:16]\n",
    "params = model.init(rng, xi)\n",
    "\n",
    "opt_init, opt_update, get_params = opt.adam(1e-3)\n",
    "opt_state = opt_init(params)\n",
    "\n",
    "@jax.jit\n",
    "def update(step, opt_state, x, y):\n",
    "    value, grads = jax.value_and_grad(loss_fn)(get_params(opt_state), x, y)\n",
    "    opt_state = opt_update(step, grads, opt_state)\n",
    "    return value, opt_state"
   ]
  },
  {
   "cell_type": "code",
   "execution_count": 5,
   "metadata": {},
   "outputs": [],
   "source": [
    "epochs = 32\n",
    "for e in range(epochs):\n",
    "    for i, (xi, yi) in enumerate(train_data):\n",
    "        value, opt_state = update(i, opt_state, xi.numpy(), yi.numpy())        \n",
    "opt_params = get_params(opt_state)"
   ]
  },
  {
   "cell_type": "markdown",
   "metadata": {},
   "source": [
    "Here we compute the accuracy of our model. Remember, this is a challenging problem and so about 60--70\\% is typical on this dataset. "
   ]
  },
  {
   "cell_type": "code",
   "execution_count": 6,
   "metadata": {},
   "outputs": [
    {
     "name": "stdout",
     "output_type": "stream",
     "text": [
      "0.5938577\n"
     ]
    }
   ],
   "source": [
    "acc = []\n",
    "for xi, yi in test_data:\n",
    "    acc.append(accuracy_fn(opt_params, xi.numpy(), yi.numpy()))\n",
    "print(jnp.mean(np.array(acc)))"
   ]
  },
  {
   "cell_type": "markdown",
   "metadata": {},
   "source": [
    "Let's try an amino acid sequence, a peptide, to get a feel for the model. The model outputs logits (logarithm of odds), which we put through a sigmoid to get probabilities. The peptides must be converted from a sequence to a matrix of one-hot column vectors. We'll try two sequences: multiple serines which should be soluble and multiple phenylalanines, which should be insoluble."
   ]
  },
  {
   "cell_type": "code",
   "execution_count": 7,
   "metadata": {
    "scrolled": true
   },
   "outputs": [
    {
     "name": "stdout",
     "output_type": "stream",
     "text": [
      "Probability SSSSS of being soluble 0.97\n",
      "Probability FFFFF of being soluble 0.37\n"
     ]
    }
   ],
   "source": [
    "s = 'SSSSS'\n",
    "sm = array2oh(seq2array(s))\n",
    "sol_prob = solubility_prob(opt_params, sm)\n",
    "print(f'Probability {s} of being soluble {sol_prob:.2f}')\n",
    "\n",
    "s = 'FFFFF'\n",
    "sm = array2oh(seq2array(s))\n",
    "sol_prob = solubility_prob(opt_params, sm)\n",
    "print(f'Probability {s} of being soluble {sol_prob:.2f}')"
   ]
  },
  {
   "cell_type": "markdown",
   "metadata": {},
   "source": [
    "It looks reasonable -- the hydrophilic are likely soluble and the hydrophobic is likely insoluble. \n",
    "\n",
    "### Gradients\n",
    "\n",
    "Now to start examining *why* a particular sequence is soluble or insoluble! We'll begin by computing the gradients with respect to input -- the naieve approach that is susceptible to shattered gradients. Computing this is a component in the process for integrated and smooth gradients, so not wasted effort. We will use a more complex peptide sequence to get more interesting analysis. "
   ]
  },
  {
   "cell_type": "code",
   "execution_count": 151,
   "metadata": {
    "tags": [
     "hide-cell"
    ]
   },
   "outputs": [],
   "source": [
    "def plot_grad(g, s, ax=None):\n",
    "    #g = np.array(g)\n",
    "    if ax is None:\n",
    "        plt.figure()\n",
    "        ax = plt.gca()\n",
    "    if len(g.shape) == 3:\n",
    "        h = g[0, np.arange(len(s)), list(map(ALPHABET.index,s))]\n",
    "    else:\n",
    "        h = g\n",
    "    ax.bar(np.arange(len(s)), height=h)\n",
    "    ax.set_xticks(range(len(s)))\n",
    "    ax.set_xticklabels(s)"
   ]
  },
  {
   "cell_type": "code",
   "execution_count": 152,
   "metadata": {},
   "outputs": [
    {
     "name": "stdout",
     "output_type": "stream",
     "text": [
      "Probability EKAALSLVVVFFRPVC of being soluble 0.13\n"
     ]
    }
   ],
   "source": [
    "s = 'EKAALSLVVVFFRPVC'\n",
    "sm = array2oh(seq2array(s))\n",
    "sol_prob = solubility_prob(opt_params, sm)\n",
    "print(f'Probability {s} of being soluble {sol_prob:.2f}')"
   ]
  },
  {
   "cell_type": "code",
   "execution_count": 153,
   "metadata": {},
   "outputs": [
    {
     "data": {
      "image/png": "[encoded data removed]",
      "text/plain": [
       "<Figure size 432x288 with 1 Axes>"
      ]
     },
     "metadata": {},
     "output_type": "display_data"
    }
   ],
   "source": [
    "g = jax.grad(model.apply,1)(opt_params, sm)\n",
    "plot_grad(g, s)"
   ]
  },
  {
   "cell_type": "markdown",
   "metadata": {},
   "source": [
    "Remember that the model outputs logits. Positive value of the gradient mean this amino acid is responsible for pushing solubility probability higher and negative values mean the amino acid is pushing towards insoluble. As you might expect, hydrophilic amino acids like S and R push the solubility probability higher and valine pushes it \n",
    "down. However, some strangeness appears like the valines in the VVV part have wildly different effects.\n",
    "\n",
    "### Integrated Gradients\n",
    "\n",
    "We'll now implement the integrated gradients method. We go through three basic steps:\n",
    "\n",
    "1. Create an array of inputs going from baseline to input peptide\n",
    "2. Evaluate gradient on each input\n",
    "3. Compute the sum of the gradients and multiply it by difference between baseline and peptide\n",
    "\n",
    "The baseline for us is all zeros -- which gives a probability of solubility of 0.5 (logits = 0, a model root). This basline is exactly on the decision bounary. You could use other baselines like all glycines or all alanines, just they should be at or very near solubility of 0.5. You can find a detailed and interactive exploration of the baseline choice in {cite}`sturmfels2020visualizing`."
   ]
  },
  {
   "cell_type": "code",
   "execution_count": 157,
   "metadata": {},
   "outputs": [],
   "source": [
    "def integrated_gradients(sm, N):\n",
    "    baseline = jnp.zeros((1, L, 21))\n",
    "    t = jnp.linspace(0, 1, N).reshape(-1, 1, 1)\n",
    "    path = baseline * (1 - t) + sm * t\n",
    "    def get_grad(pi):\n",
    "        # compute gradient \n",
    "        # add/remove batch axes\n",
    "        return jax.grad(model.apply, 1)(opt_params, pi[jnp.newaxis, ...])[0]\n",
    "    gs = jax.vmap(get_grad)(path)\n",
    "    # sum pieces (Riemann sum), multiply by (x - x')\n",
    "    ig = jnp.mean(gs, axis=0, keepdims=True) * (sm - baseline)\n",
    "    return ig\n",
    "ig = integrated_gradients(sm, 1024)"
   ]
  },
  {
   "cell_type": "code",
   "execution_count": 158,
   "metadata": {},
   "outputs": [
    {
     "data": {
      "image/png": "[encoded data removed]",
      "text/plain": [
       "<Figure size 432x288 with 1 Axes>"
      ]
     },
     "metadata": {},
     "output_type": "display_data"
    }
   ],
   "source": [
    "plot_grad(ig, s)"
   ]
  },
  {
   "cell_type": "markdown",
   "metadata": {},
   "source": [
    "We see that the valines are a little closer. Perhaps not that much more informative than the vanilla gradients.\n",
    "\n",
    "### SmoothGrad\n",
    "\n",
    "To do SmoothGrad, our steps are almost identicial:\n",
    "\n",
    "1. Create an array of inputs that are random pertubations of the input peptide\n",
    "2. Evaluate gradient on each input\n",
    "3. Compute the mean of the gradients\n",
    "\n",
    "There is one additional hyperparameter, $\\sigma$, which in principle should be as small as possible while still causing the model output to change.\n"
   ]
  },
  {
   "cell_type": "code",
   "execution_count": 159,
   "metadata": {},
   "outputs": [
    {
     "data": {
      "image/png": "[encoded data removed]",
      "text/plain": [
       "<Figure size 432x288 with 1 Axes>"
      ]
     },
     "metadata": {},
     "output_type": "display_data"
    }
   ],
   "source": [
    "def smooth_gradients(sm, N, rng, sigma=1e-3):\n",
    "    baseline = jnp.zeros((1, L, 21))\n",
    "    t = jax.random.normal(rng, shape=(N, sm.shape[1], sm.shape[2])) * sigma\n",
    "    path = sm + t\n",
    "    # remove examples that are negative and force summing to 1\n",
    "    path = jnp.clip(path, 0, 1)\n",
    "    path /= jnp.sum(path, axis=2, keepdims=True)    \n",
    "    def get_grad(pi):\n",
    "        # compute gradient \n",
    "        # add/remove batch axes\n",
    "        return jax.grad(model.apply, 1)(opt_params, pi[jnp.newaxis, ...])[0]\n",
    "    gs = jax.vmap(get_grad)(path)\n",
    "    # mean\n",
    "    ig = jnp.mean(gs, axis=0, keepdims=True)\n",
    "    return ig\n",
    "sg = smooth_gradients(sm, 1024, jax.random.PRNGKey(0))\n",
    "plot_grad(sg, s)"
   ]
  },
  {
   "cell_type": "markdown",
   "metadata": {},
   "source": [
    "It looks remarkably similar to the vanilla gradient setting -- probably because our 1D input/shallow network is not as sensitive to shattered gradients."
   ]
  },
  {
   "cell_type": "markdown",
   "metadata": {},
   "source": [
    "### Shapley Value\n",
    "\n",
    "Now we will approximate the Shapley values for each feature using Equation 10.9.The Shapley value computation is different than previous approaches because it does not require gradients. The basic algorithm is:\n",
    "\n",
    "1. select random point x'\n",
    "2. create point z by combining x and x'\n",
    "3. compute change in predicted function\n",
    "\n",
    "One efficiency change we make is to prevent modifying the sequence in its padding -- basically preventing exploring making the sequence longer. "
   ]
  },
  {
   "cell_type": "code",
   "execution_count": 166,
   "metadata": {},
   "outputs": [],
   "source": [
    "def shapley(i, sm, sampled_x, rng, model, opt_params=opt_params):\n",
    "    M,F,*_ = sampled_x.shape\n",
    "    z_choice = jax.random.bernoulli(rng, shape=(M,F))\n",
    "    # only swap out features within length of sm\n",
    "    mask = jnp.sum(sm[...,1:], -1)        \n",
    "    z_choice *= mask\n",
    "    z_choice = 1 - z_choice\n",
    "    # construct with and w/o ith feature\n",
    "    z_choice = jax.ops.index_update(z_choice, jax.ops.index[:,i], 0.)\n",
    "    z_choice_i = jax.ops.index_update(z_choice, jax.ops.index[:,i], 1.0)\n",
    "    # select them via multiplication\n",
    "    z = sm * z_choice[...,jnp.newaxis] + \\\n",
    "        sampled_x * (1 - z_choice[...,jnp.newaxis])\n",
    "    z_i = sm * z_choice_i[...,jnp.newaxis] + \\\n",
    "        sampled_x * (1 - z_choice_i[...,jnp.newaxis])\n",
    "    v = model(opt_params, z_i) - model(opt_params, z)    \n",
    "    return jnp.squeeze(jnp.mean(v, axis=0))\n",
    "    \n",
    "# assume data is alrady shuffled, so just take M\n",
    "M = 4096\n",
    "sl = len(s)\n",
    "sampled_x = train_data.unbatch().batch(M).as_numpy_iterator().next()[0]\n",
    "# make batched shapley so we can compute for all features\n",
    "bshapley = jax.vmap(shapley, in_axes=(0, None, None, 0, None))\n",
    "sv = bshapley(jnp.arange(sl), sm, sampled_x, jax.random.split(jax.random.PRNGKey(0), sl), model.apply)"
   ]
  },
  {
   "cell_type": "code",
   "execution_count": 211,
   "metadata": {
    "tags": [
     "remove-cell"
    ]
   },
   "outputs": [
    {
     "data": {
      "application/papermill.record/image/png": "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\n",
      "application/papermill.record/text/plain": "<Figure size 432x288 with 1 Axes>"
     },
     "metadata": {
      "scrapbook": {
       "mime_prefix": "application/papermill.record/",
       "name": "shapley_convg"
      }
     },
     "output_type": "display_data"
    },
    {
     "data": {
      "image/png": "[encoded data removed]",
      "text/plain": [
       "<Figure size 432x288 with 1 Axes>"
      ]
     },
     "metadata": {},
     "output_type": "display_data"
    }
   ],
   "source": [
    "from myst_nb import glue\n",
    "val = []\n",
    "ms = np.linspace(2, 1024, 24)\n",
    "for m in ms.astype(np.int32):\n",
    "    sampled_x = train_data.unbatch().batch(m).as_numpy_iterator().next()[0]\n",
    "    val.append(jnp.sum(bshapley(jnp.arange(sl), sm, sampled_x, jax.random.split(jax.random.PRNGKey(0), sl), model.apply)))\n",
    "plt.plot(ms, val, '-o', label='Sum of Shapley Values')\n",
    "plt.axhline(model.apply(opt_params, sm), color='C1', label=r'$\\hat{f}\\left(\\vec{x}\\right)$')\n",
    "plt.legend()\n",
    "plt.tight_layout()\n",
    "glue('shapley_convg', plt.gcf(), display=False)"
   ]
  },
  {
   "cell_type": "markdown",
   "metadata": {},
   "source": [
    "One nice check on Shapley values is that we can check that their sum is equal to the value of model function. This should be true because the Shapley values partition the model among the features. That value is computed as:"
   ]
  },
  {
   "cell_type": "code",
   "execution_count": 212,
   "metadata": {},
   "outputs": [
    {
     "name": "stdout",
     "output_type": "stream",
     "text": [
      "-2.305996 -1.9283566\n"
     ]
    }
   ],
   "source": [
    "print(np.sum(sv), model.apply(opt_params, sm))"
   ]
  },
  {
   "cell_type": "markdown",
   "metadata": {},
   "source": [
    "which is *some* disagreement. This is an effect of the approximation method we're using. We can check that by examining how sample number effects the sum of Shapley values. \n",
    "\n",
    "\n",
    "```{glue:figure} shapley_convg\n",
    "----\n",
    "name: shapley_convg\n",
    "----\n",
    "A comparison of sum of Shapley values and function value as a function of samples number in the Shapley value approximation. \n",
    "```\n",
    "\n",
    "Finally we can check the individual Shapley values"
   ]
  },
  {
   "cell_type": "code",
   "execution_count": 213,
   "metadata": {},
   "outputs": [
    {
     "data": {
      "image/png": "[encoded data removed]",
      "text/plain": [
       "<Figure size 432x288 with 1 Axes>"
      ]
     },
     "metadata": {},
     "output_type": "display_data"
    }
   ],
   "source": [
    "plot_grad(sv, s)"
   ]
  },
  {
   "cell_type": "markdown",
   "metadata": {},
   "source": [
    "The four methods are shown side-by-side below. "
   ]
  },
  {
   "cell_type": "code",
   "execution_count": 220,
   "metadata": {
    "tags": [
     "hide-input"
    ]
   },
   "outputs": [
    {
     "data": {
      "image/png": "[encoded data removed]",
      "text/plain": [
       "<Figure size 864x288 with 1 Axes>"
      ]
     },
     "metadata": {},
     "output_type": "display_data"
    }
   ],
   "source": [
    "heights = []\n",
    "plt.figure(figsize=(12,4))\n",
    "x = np.arange(len(s))\n",
    "for i,(gi,l) in enumerate(zip([g, ig, sg], ['Gradient', 'Integrated', 'Smooth'])):\n",
    "    h = gi[0, np.arange(len(s)), list(map(ALPHABET.index,s))]\n",
    "    plt.bar(x + i/5 - 1/4, h, width=1/5, edgecolor='black', label=l)\n",
    "plt.bar(x + 3/5 - 1/4, sv, width=1/5, edgecolor='black', label='Shapley')\n",
    "plt.gca().set_xticks(range(len(s)))\n",
    "plt.gca().set_xticklabels(s)\n",
    "plt.legend()\n",
    "plt.show()"
   ]
  },
  {
   "cell_type": "markdown",
   "metadata": {},
   "source": [
    "As someone who works with peptides, I believe the Shapley is the most accurate here. Glutamic acid should increase solubility -- which the Shapley values got correct. ALso, FF should decrease solubility which is also likely true. What can we conclude from this information? We could perhaps add an explanation like this: \"The sequence is predicted to be soluble primarily because of the glutamic acid.\", if we use the Shapley value explanation."
   ]
  },
  {
   "cell_type": "markdown",
   "metadata": {},
   "source": [
    "## Training Data Importance\n",
    "\n",
    "Another kind of explanation or interpretation we might desire is *which* training data points contribute most to a prediction. This is a more literal answer to the question: \"Why did my model predict this?\" -- neural networks are a result of training data and thus the answer to why a prediction is made can be traced to training data. Ranking training data for a given prediction helps us understand which training examples are causing the neural network to predict a value. This is like an influence function, $\\mathcal{I}(x_i, x)$, which gives a score of incluence for training point $i$ and input $x$. The most straightforward way to compute the influence would be to train the neural network with ($\\hat{f}(x)$) and without $x_i$ ($\\hat{f}_{-x_i}(x)$) and define the influence as\n",
    "\n",
    "\\begin{equation}\n",
    "\\mathcal{I}(x_i, x) = \\hat{f}_{-x_i}(x) - \\hat{f}(x)\n",
    "\\end{equation}\n",
    "\n",
    "For example, if a prediction is higher after removing the training point $x_i$ from training, we would say that point has a positive influence. Computing this influence function requires training the model as many times as you have points -- typically computationally infeasible. {cite}`koh2017understanding` show a way to approximate this by looking at infinitesimal changes to the *weights* of each training point. Computing these influence functions do require computing a Hessian with respect to the loss function and thus are not commonly used. If you're using JAX though, this is simple to do.\n",
    "\n",
    "```{margin}\n",
    "If using a kernel model, remembering that the features are the training data. Then the above methods, like integrated gradients, give training data importance.\n",
    "```\n",
    "\n",
    "Training data importance provides an interpretation that is useful for deep learning experts. It tells you which training examples are most influential for a given predictions This can help troubleshoot issues with data or tracing explanations for spurious predictions. However, a typical user of predictions from a deep learning model will probably be unsatisfied with a ranking of training data as an explanation. "
   ]
  },
  {
   "cell_type": "markdown",
   "metadata": {
    "tags": [
     "remove-cell"
    ]
   },
   "source": [
    "## Surrogate Models\n",
    "\n",
    "One of the most general ideas in interpretability is to fit an interpretable model to a black-box model *in the neighborhood of a specific example*. We assume that an interpretable model cannot be fit globally to a black box model -- otherwise we could just use the interpretable model and throw away the black box model. Always replace a neural network with a linear model if you can. However, if we fit the intertable model to just a small region around an example of interest, we can provide an explanation. We call the interpretable model a local surrogate model. Examples of local surrogate models that are inherently interpretable include decision trees, linear models, sparse linear models (for succint explanations), and Naive Bayes Classifier.\n",
    "\n",
    "The most popular algorithm for this process of fitting a local surrogate model is called Local Interpretable Model-Agnostic Explanations (LIME) {cite}`ribeiro2016should`. LIME fits the local surrogate model using the following loss function:\n",
    "\n",
    "\\begin{equation}\n",
    "\\mathcal{l^s}(\\theta^s) = \\frac{1}{M}\\sum_{x'} \n",
    "\\end{equation}\n",
    "\n",
    "LIME has this weird sparsity term. LIME is so weird. "
   ]
  },
  {
   "cell_type": "markdown",
   "metadata": {},
   "source": [
    "## Cited References\n",
    "\n",
    "```{bibliography}\n",
    ":style: unsrtalpha\n",
    ":filter: docname in docnames\n",
    "```"
   ]
  }
 ],
 "metadata": {
  "celltoolbar": "Tags",
  "kernelspec": {
   "display_name": "Python 3",
   "language": "python",
   "name": "python3"
  },
  "language_info": {
   "codemirror_mode": {
    "name": "ipython",
    "version": 3
   },
   "file_extension": ".py",
   "mimetype": "text/x-python",
   "name": "python",
   "nbconvert_exporter": "python",
   "pygments_lexer": "ipython3",
   "version": "3.8.5"
  }
 },
 "nbformat": 4,
 "nbformat_minor": 4
}
