{
 "cells": [
  {
   "cell_type": "markdown",
   "metadata": {},
   "source": [
    "# Interpretability in Deep Learning\n",
    "\n",
    "```{warning}\n",
    "This chapter is being written.\n",
    "```\n",
    "\n",
    "Interpretability, part of the broader topic of explainable AI (XAI), is the process of adding explanations to deep learning model predictions. These explanations should help us understand why particular predictions are made. This is a critical topic because being able to understand model predictions is justified from a practical, theoretical, and increasingly a regulatory stand-point. It is practical because it has been shown that people are more likely to use predictions of a model if they can understand the rationale {cite}`lee2004trust`. Another practical concern is that correctly implementing methods is much easier when one can understand how a model arrived at a prediction. A theoretical justification for transparency is that it can help identify incompleteness in model domains (i.e., covariate shift){cite}`doshi2017towards`. It is now becoming a compliance problem because both the European Union {cite}`goodman2017european` and the G20 {cite}`Development2019` have recently adopted guidelines that recommend or require explanations for machine predictions. The European Union is considering going further with more [strict draft legislation](https://digital-strategy.ec.europa.eu/en/library/proposal-regulation-laying-down-harmonised-rules-artificial-intelligence-artificial-intelligence) being considered. \n",
    "\n",
    "A famous example on the need for explainable AI is found in Caruana et al.{cite}`caruana2015intelligible` who built an ML predictor to assess mortality risk of patients in the ER with pneumonia. The idea is that patients with pneumonia are screened with this tool and it helps doctors know which patients are more at risk of dying. It was found to be quite accurate. When the interpretation of its predictions were examined though, the reasoning was medically insane. The model surprisingly suggested patients with asthma (called asthmatics) have a reduced mortality risk when coming to the ER with pneumonia. Asthma, a condition which makes it difficult to breathe, was found to *make pneumonia patients less likely to die.* This was incidental; asthmatics are actually more at risk of dying from pneumonia but doctors are acutely aware of this and are thus more aggressive and attentive with them. Thanks to the increase care and attention from doctors, there are fewer mortalities. From an empirical standpoint, the model predictions are correct. However if the model were put into practice, it could have cost lives by incorrectly characterizing asthmatics as low mortality risk. Luckily the interpretability of their model helped researchers identify this problem. Thus, we can see that interpretation should always be a step in the construction of predictive models. \n",
    "\n",
    "Deep learning alone is a black box modeling technique. Examining the weights or model equation provides little insight into why predictions are made. Thus, interpretability is an extra task. This is challenge because of both the black box nature of deep learning and because there is no consensus on what exactly constitutes an \"explanation\" for model predictions. {cite}`doshi2017towards`. For some, interpretability means having a natural language explanation justifying a prediction. For others, it can be simply showing which features contributed most to the prediction. \n",
    "\n",
    "There are two broad approaches to interpretation of ML models: post hoc interpretation and self-explaining models {cite}`Murdoch2019`. Self-explaining models are constructed so that an expert can view output of the model and connect it with the features through reasoning. Self-explaining models are highly dependent on the task model{cite}`montavon2018methods`. A familiar example would be a physics based simulation like molecular dynamics or a single-point quantum energy calculation. You can examine the molecular dynamics trajectory, look at output numbers, and an expert can explain why, for example, the simulation predicts a drug molecule will bind to a protein. It may seem like this would be useless for deep learning interpretation. However, we can create a **proxy model** (sometimes **surrogate model**) that is self-explaining and train it to agree with the deep learning model. Why will this training burden be any less than just using the proxy model from the beginning? We can generate an infinite amount of training data because our trained neural network can label arbitrary points. You can also construct deep learning models which have self-explaining features in them, like attention {cite}`bahdanau2014neural`. This allows you to connect the input features to the prediction based on attention. \n",
    "\n",
    "Post hoc interpretation can be approached in a number of ways, but the most common are training data importance, feature importance, and generative explanations{cite}`ribeiro2016should,ribeiro2016model,wachter2017counterfactual`. An example of a post hoc interpretation based on data importance is identifying the most influential training data to explain a prediction {cite}`koh2017understanding`. It is perhaps arguable if this gives an *explanation*, but it certainly helps understand which data is relevant for a prediction. Feature importance are probably the most common XAI approach and frequently appear in computer vision research where the pixels most important for the class of an image are highlighted. Finally, generative explanations are an emerging approach where a new data point is generated (in same distribution as training data features) that serves as a counterfactual. A counterfactual gives insight into how important and sensitive the features are. An example might be in a model that recommends giving a loan. A model could produce the following counterfactual explanation (from {cite}`wachter2017counterfactual`):\n",
    "\n",
    "> You were denied a loan based on your annual income, zip code, and assets. If \n",
    "> your annual income had been $45,000, you would have been offered a loan.\n",
    "\n",
    "The second sentence is the conuterfactual and shows how the features could be changed to affect the model outcome. Coutnerfactuals provide a nice balance of complexity and explanatory power.\n",
    "\n",
    "This was a brief overview of interpretable deep learning. You can find a recent review of interpretable deep learning in Samek et al. {cite}`9369420` and Christopher Molnar has a [broad online book](https://christophm.github.io/interpretable-ml-book/) about interpretable machine learning, including deep learning {cite}`molnar2019`. Prediction error and confidence in predictions is not covered here, but see the methods from {doc}`../ml/regression` which apply. "
   ]
  },
  {
   "cell_type": "markdown",
   "metadata": {},
   "source": [
    "## Feature Importance\n",
    "\n",
    "Feature importance is the most straightforward and common method of interpreting a machine learning model. The output of feature importance is a ranking or numerical values for each feature, typically for a single prediction. If you are trying to understand the feature importance across the whole model, this is called **global** feature importance and **local** for a single prediction. Global feature importance and global interpretability is relatively rare because the best models change which features are important in different regions of feature space.\n",
    "\n",
    "Let's start with a linear model to see feature importance:\n",
    "\n",
    "\\begin{equation}\n",
    "\\hat{y} = \\vec{w}\\vec{x} + b \n",
    "\\end{equation}\n",
    "\n",
    "where $\\vec{x}$ is our feature vector. A simple way to assess feature importance is to simply look at the weight value $w_i$ for a particular feature $x_i$. The weight $w_i$ shows how much $\\hat{y}$ would change if $x_i$ is increased by 1 while all other features are constant. If the magnitude of our features are comparable, then this would be a reasonable way to rank features. However, if our features have units, this approach is sensitive to unit choices and relative magnitude of features. For example if our temperature was changed from Celsius to Fahrenheit, a 1 degree increase will have a smaller effect. \n",
    "\n",
    "To remove the effect of feature magnitude and units, a slightly better way to assess feature importance is to divide $w_i$ by the **standard error**  in the feature values. Recall that standard error is just the ratio of sum of squared error in predicted value divided by the total deviation in the feature. Standard error is a ratio of prediction accuracy to feature variance -- and the prediction accuracy is indepdenent of the feature and thus has no effect for ranking feature importance. $w_i$ divided by standard error is called the $t$-statistic because it can be compared with the $t$-distribution for assessing feature importance.\n",
    "\n",
    "\\begin{equation}\n",
    "t_i = \\frac{w_i}{S_{w_i}},\\; S^2_{w_i} = \\frac{1}{N - D}\\sum_j \\frac{\\left(\\hat{y}_j - y_j\\right)^2}{\\left(x_{ij} - \\bar{x}_i\\right)^2}\n",
    "\\end{equation}\n",
    "\n",
    "where $N$ is the number of examples,  $D$ is the number of features, and $\\bar{x}_i$ is the average value of the $i$th feature. The $t_i$ value can be used to rank features and it can be used for a hypothesis test: if $t_i > 0.05$ then that feature is significant. Note that a feature's significance is sensitive to which features are present in a model; if you add features some may become redundant.\n",
    "\n",
    "If we move to a non-linear learned function $\\hat{f}(\\vec{x})$, we must compute how the prediction changes if a feature value increases by 1 via the derivative approximation:\n",
    "\n",
    "$$\n",
    "\\frac{\\Delta \\hat{f}(\\vec{x})}{\\Delta x_i} \\approx \\frac{\\partial  \\hat{f}(\\vec{x})}{\\partial x_i}\n",
    "$$\n",
    "\n",
    "so a change by 1 is\n",
    "\n",
    "\\begin{equation}\n",
    "\\Delta \\hat{f}(\\vec{x}) \\approx \\frac{\\partial  \\hat{f}(\\vec{x})}{\\partial x_i}.\n",
    "\\end{equation}\n",
    "\n",
    "\n",
    "In practice, we make a slight variation on this equation -- instead of a Taylor series centered at 0 approximating this change, we center at some other root (point where the function is 0). This \"grounds\" the series at the decision boundary (a root) and then you can view the partials as \"pushing\" the predicted class away or towards the decision boundary. Another way to think about this is that we use the first-order terms of the Taylor series to build a linear model. Then we just apply what we did above to that linear model and use the coefficients as the \"importance\" of features. Specifically, we use this surrogate function for $\\hat{f}(\\vec{x})$:\n",
    "\n",
    "\\begin{equation}\n",
    "\\require{cancel}\n",
    "\\hat{f}(\\vec{x}) \\approx \\cancelto{0}{f(\\vec{x}')} +  \\nabla\\hat{f}(\\vec{x}')\\cdot\\left(\\vec{x} - \\vec{x}'\\right)\n",
    "\\end{equation}\n",
    "\n",
    "where $\\vec{x}'$ is the root of $\\hat{f}(\\vec{x})$. Note in practice people may choose the trivial root $\\vec{x}' = \\vec{0}$, however a nearby root is ideal. This root is often called the **baseline** input. Note that as opposed to the linear example above, we consider the product of the partial $\\frac{\\partial  \\hat{f}(\\vec{x})}{\\partial x_i}$ and the increase above baseline $(x_i - x_i')$."
   ]
  },
  {
   "cell_type": "markdown",
   "metadata": {},
   "source": [
    "### Neural Network Feature Importance\n",
    "\n",
    "In neural networks the partial derivatives are a poor approximation of the real changes to the output. Small changes to the input can have discontinuous changes, making the terms above have little explanatory power. This is called the **shattered gradients** problem {cite}`pmlr-v70-balduzzi17b`. Breaking down each feature separately also misses correlations between features -- which don't exist in a linear model. Thus the derivative approximation works satisfactorily in locally linear models, but not deep neural networks.\n",
    "\n",
    "There are a variety of techniques that get around the issue of shattered gradients in neural networks. Two popular methods are integrated gradients {cite}`sundararajan2017axiomatic` and SmoothGrad{cite}`smilkov2017smoothgrad`. Integrated gradients creates a path from $\\vec{x}'$ to $\\vec{x}$ and integrates Equation 4 along that path:\n",
    "\n",
    "\\begin{equation}\n",
    "\\textrm{IG}_i = \\left(\\vec{x} - \\vec{x}'\\right) \\int_0^1\\left[\\nabla\\hat{f}\\left(\\vec{x}' + t\\left(\\vec{x} - \\vec{x}'\\right)\\right)\\right]_i\\,dt\n",
    "\\end{equation}\n",
    "\n",
    "where $t$ is some increment along the path such that $\\vec{x}' + t\\left(\\vec{x} - \\vec{x}'\\right) = \\vec{x}'$ when $t = 0$ and $\\vec{x}' + t\\left(\\vec{x} - \\vec{x}'\\right) = \\vec{x}$ when $t = 1$. This gives us the integrated gradient for each feature $i$. The integrated gradients are the importance of each feature, but without the complexity of shattered gradients. There are some nice properties too, like $\\sum_i \\textrm{IG}_i = f(\\vec{x}) - f(\\vec{x}')$ so that the integrated gradients provide a complete partition of the change from the baseline to the prediction{cite}`sundararajan2017axiomatic`.\n",
    "\n",
    "Implementing integrated gradients is actually relatively simple. You approximate the path integral with a Riemann sum by breaking the path into a set of discrete inputs between the input features $\\vec{x}$ and the baseline $\\vec{x}'$. You compute the gradient of these inputs with the neural network. Then you multiply that be the change in features above baseline: $\\left(\\vec{x} - \\vec{x}'\\right)$.\n",
    "\n",
    "SmoothGrad is a similar idea to the integrated gradients. Rather than summing up the gradients along a path though, we sum gradients from random points nearby our prediction. The equation is:\n",
    "\n",
    "\\begin{equation}\n",
    "\\textrm{SG}_i = \\sum_j^M\\left[\\nabla\\hat{f}\\left(\\vec{x}' + \\vec{\\epsilon}\\right)\\right]_i\n",
    "\\end{equation}\n",
    "\n",
    "where $M$ is a choice of sample number and $\\vec{\\epsilon}$ is sampled from $D$ zero-mean Guassians {cite}`smilkov2017smoothgrad`. The only change in implementation here is to replace the path with a series of random perturbations.\n",
    "\n",
    "Beyond these gradient based approaches, Layer-wise Relevance Propagation (LRP) is another popular approach for feature importance analysis in neural networks. LRP works by doing a backwards propogation through the neural network that partitions the output value of one layer to the input features. It \"distributes relevance\". What is unusual about LRP is that each layer type needs its own implementation. It doesn't rely on the analytic derivative, but instead a Taylor series expansion of the layer equation. There are variants for GNNs and NLP, so that LRP can be used in most settings in materials and chemistry {cite}`Montavon2019`."
   ]
  },
  {
   "cell_type": "markdown",
   "metadata": {},
   "source": [
    "### Shapley Values\n",
    "\n",
    "A model agnostic way to treat feature importance is with **Shapley values.** Shapley values come from game theory and are a solution to how to pay a coalition of cooperating players according to their contributions. Imagine each feature is a player and we would like to \"pay\" them according to their contribution to the predicted value. A Shapley value $\\phi_i$ is the pay to feature $i$. We break-up the predicted function value $\\hat{f}(x)$ into the Shapley values so that the sum of the pay is the function value ($\\sum_i \\phi_i = \\hat{f}(x)$. This means you can interpet the Shapley value of a feature as its numerical contribution to the prediction. Shapley values are powerful because their calculation is agnostic to the model, they partition the predicted value among each feature, and they have other attributes that we would desire in an explanation of a prediction (symmetry, linearity, permutation invariant, etc.). Their disadvantage are that exact computation is combinatorial with respect to feature number and they have no sparsity, making them less helpful as feature number grows. Most methods we discuss here also have no sparsity -- you can also force your model to be sparse to achieve sparse explanations.\n",
    "\n",
    "Shapley values are computed as\n",
    "\n",
    "\\begin{equation}\n",
    "\\phi_i = \\frac{1}{Z}\\sum_{S \\in M \\backslash x_i}v(S\\cup x_i) - v(S)\n",
    "\\end{equation}\n",
    "$$\n",
    "Z = \\frac{|S|!\\left(N - |S| - 1\\right)!}{N!}\n",
    "$$\n",
    "\n",
    "where $S \\in N \\backslash x_i$ means all sets of features that exclude feature $x_i$, $S\\cup x_i$ means putting back feature $x_i$ into the set, and $v(S)$ is the value of $\\hat{f}(x)$ using only the features included in $S$, and $Z$ is a normalization value. The formula can be interpreted as the mean of all possible differences in $\\hat{f}$ formed by adding/removing feature $i$. \n",
    "\n",
    "One immediate concern though is how can we \"remove\" feature $i$ from a model equation? We marginilize out feature $i$. Recall a marginal is a way to integrate out a random variable -- $P(x) = \\int\\, P(x,y)\\,dy$. That integrates over all possible $x$ values. Marginalization can be used on functions of random variables, which obviously are also random variables, by taking an expectation: $E_y[f | X = x] = \\int\\,f(X=x,y)P(X=x,y)\\, dy$. I've emphasized that the random variable $X$ is fixed in the integral and thus $E_y[f]$ is a function of $x$. $y$ is removed by computing the expected value of $f(x,y)$ where $x$ is fixed (the function argument). We're essentially replacing $f(x,y)$ with a new function $E_y[f]$ that is the average of all possible $y$ values I'm over-explaining this though, it's quite intuitive. The other detail is that *value* is the change relative to the average of $\\hat{f}$. You can typically ignore this extra term - it cancels, but I include it for completeness. Thus the value equation becomes {cite}`vstrumbelj2014explaining`:\n",
    "\n",
    "\\begin{equation}\n",
    "v(x_i) = \\int\\,f(x_0, x_1, \\ldots, x_i,\\ldots, x_N)P(x_0, x_1, \\ldots, x_i,\\ldots, x_N)\\, dx_i - E\\left[\\hat{f}(\\vec{x})\\right]\n",
    "\\end{equation}\n",
    "\n",
    "How do we compute the marginal $\\int\\,f(x_0, x_1, \\ldots, x_i,\\ldots, x_N)P(x_0, x_1, \\ldots, x_i,\\ldots, x_N)\\, dx_i$? We do not have a known probability distribution $P(\\vec{x})$. We can sample from $P(\\vec{x})$ by considering our data as an **empirical distribution**. That is, we can sample from $P(\\vec{x})$ by sampling data points. There is a little bit of complexity here because we need to sample the $\\vec{x}$'s jointly, we cannot just mix together individual features randomly because there are correlations between features that will be removed. {cite}`vstrumbelj2014explaining` showed that we can directly estimate the $i$th Shapley value with:\n",
    "\n",
    "\\begin{equation}\n",
    "\\phi_i(\\vec{x}) = \\frac{1}{M}\\sum^M \\hat{f}\\left(\\vec{z}_{+i}\\right) - \\hat{f}\\left(\\vec{z}_{+i}\\right)\n",
    "\\end{equation}\n",
    "\n",
    "where $\\vec{z}$ is a \"chimera\" exapmle constructed from the real example $\\vec{x}$ and a randomly drawn example $\\vec{x}'$. We randomly select from $\\vec{x}$ and $\\vec{x}'$ to construct $\\vec{z}$, except $\\vec{z}_{+i}$ specifically has the $i$th feature from the example $\\vec{x}$ and $\\vec{z}_{-i}$ has the $i$th feature from the random example $\\vec{x}'$. $M$ is chosen large enough to get a good sample for this value. {cite}`vstrumbelj2014explaining` gives guidance on choosing $M$, but basically as large $M$ as computationally feasible reasonable. \n",
    "\n",
    "```{danger}\n",
    "This process marginalizing features *is not* the same as replacing features with their average.\n",
    "```\n",
    "With this efficient approximation method, the strong theory, and independence of model choice, Shapley values are an excellent choice for describing feature importance for examples."
   ]
  },
  {
   "cell_type": "markdown",
   "metadata": {},
   "source": [
    "## Feature Importance Example\n",
    "\n",
    "Let's see an example of these two methods on the solubility prediction example from {doc}`layers`.  As a reminder, the model takes in peptides sequences and predicts solubility. The goal of the feature importance method here will be to identify which amino acids matter most for the solubility prediction. The hidden-cell below loads and reshapes the data."
   ]
  },
  {
   "cell_type": "markdown",
   "metadata": {},
   "source": [
    "## Running This Notebook\n",
    "\n",
    "\n",
    "Click the &nbsp;<i aria-label=\"Launch interactive content\" class=\"fas fa-rocket\"></i>&nbsp; above to launch this page as an interactive Google Colab. See details below on installing packages, either on your own environment or on Google Colab\n",
    "\n",
    "````{tip} My title\n",
    ":class: dropdown\n",
    "To install packages, execute this code in a new cell\n",
    "\n",
    "```\n",
    "!pip install matplotlib numpy pandas seaborn jax jaxlib dm-haiku\n",
    "```\n",
    "\n",
    "````"
   ]
  },
  {
   "cell_type": "code",
   "execution_count": 1,
   "metadata": {
    "scrolled": true,
    "tags": [
     "hide-cell"
    ]
   },
   "outputs": [],
   "source": [
    "import haiku as hk\n",
    "import jax\n",
    "import tensorflow as tf\n",
    "import jax.numpy as jnp\n",
    "import numpy as np\n",
    "import matplotlib.pyplot as plt\n",
    "import seaborn as sns\n",
    "import matplotlib as mpl\n",
    "import warnings\n",
    "import urllib\n",
    "import jax.experimental.optimizers as opt\n",
    "warnings.filterwarnings('ignore')\n",
    "sns.set_context('notebook')\n",
    "sns.set_style('dark',  {'xtick.bottom':True, 'ytick.left':True, 'xtick.color': '#666666', 'ytick.color': '#666666',\n",
    "                        'axes.edgecolor': '#666666', 'axes.linewidth':     0.8 , 'figure.dpi': 300})\n",
    "color_cycle = ['#1BBC9B', '#F06060', '#5C4B51', '#F3B562', '#6e5687']\n",
    "mpl.rcParams['axes.prop_cycle'] = mpl.cycler(color=color_cycle) \n",
    "\n",
    "ALPHABET = ['', 'A','R','N','D','C','Q','E','G','H','I', 'L','K','M','F','P','S','T','W','Y','V']\n",
    "def seq2array(seq):\n",
    "    N = pos_data.shape[-1]\n",
    "    return np.pad(list(map(ALPHABET.index, seq)), (0,N - len(seq))).reshape(1, -1)\n",
    "def array2oh(a):\n",
    "    a = np.squeeze(a)\n",
    "    o = np.zeros((len(a), 21))\n",
    "    o[np.arange(len(a)), a] = 1\n",
    "    return o.astype(np.float32).reshape(1, -1, 21)\n",
    "\n",
    "urllib.request.urlretrieve(\n",
    "    'https://github.com/whitead/dmol-book/raw/master/data/solubility.npz', 'solubility.npz')\n",
    "with np.load('solubility.npz') as r:\n",
    "    pos_data, neg_data = r['positives'], r['negatives']"
   ]
  },
  {
   "cell_type": "code",
   "execution_count": 2,
   "metadata": {
    "tags": [
     "hide-cell"
    ]
   },
   "outputs": [],
   "source": [
    "# create labels and stich it all into one \n",
    "# tensor\n",
    "labels = np.concatenate((np.ones((pos_data.shape[0], 1), dtype=pos_data.dtype), np.zeros((neg_data.shape[0], 1) , dtype=pos_data.dtype)), axis=0)\n",
    "features = np.concatenate((pos_data, neg_data), axis=0)\n",
    "# we now need to shuffle before creating TF dataset\n",
    "# so that our train/test/val splits are random\n",
    "i = np.arange(len(labels))\n",
    "np.random.seed(0)\n",
    "np.random.shuffle(i)\n",
    "labels = labels[i]\n",
    "features = features[i]\n",
    "L = pos_data.shape[-1]\n",
    "# convert to one-hot\n",
    "ohfeatures = np.zeros((len(labels),L,21))\n",
    "for i in range(len(labels)):\n",
    "    ohfeatures[i,np.arange(L),features[i]] = 1\n",
    "full_data = tf.data.Dataset.from_tensor_slices((ohfeatures.astype(np.float32), labels))\n",
    "\n",
    "# now split into val, test, train\n",
    "N = pos_data.shape[0] + neg_data.shape[0]\n",
    "split = int(0.1 * N)\n",
    "test_data = full_data.take(split).batch(16)\n",
    "nontest = full_data.skip(split)\n",
    "val_data, train_data = nontest.take(split).batch(16), nontest.skip(split).batch(16)"
   ]
  },
  {
   "cell_type": "markdown",
   "metadata": {},
   "source": [
    "We rebuild the solubility model in JAX (using Haiku) to make working with gradients a bit easier. We also make a few changes to the model -- we pass in the sequence length and amino acid fractions as extra information in addition to the convolutions."
   ]
  },
  {
   "cell_type": "code",
   "execution_count": 3,
   "metadata": {},
   "outputs": [],
   "source": [
    "def binary_cross_entropy(logits, y):\n",
    "    yhat = jax.nn.sigmoid(logits)\n",
    "    return -jnp.sum(y * jnp.log(yhat) + (1 - y) * jnp.log(1 - yhat + 1e-6))\n",
    "def model_fn(x):\n",
    "    # get fractions, excluding skip character\n",
    "    aa_fracs = jnp.mean(x, axis=1)[:,1:]\n",
    "    # compute convolutions/poolings\n",
    "    mask = jnp.sum(x[...,1:], axis=-1, keepdims=True)    \n",
    "    for kernel, pool in zip([5, 3, 3], [4, 2, 2]):\n",
    "        x = hk.Conv1D(16, kernel)(x) * mask\n",
    "        x = jax.nn.tanh(x)\n",
    "        x = hk.MaxPool(pool, pool, 'VALID')(x)\n",
    "        mask = hk.MaxPool(pool, pool, 'VALID')(mask)\n",
    "    # combine fractions, length, and convolution ouputs\n",
    "    x = jnp.concatenate((hk.Flatten()(x), aa_fracs, jnp.sum(x[:,1:], axis=(1,2)).reshape(-1,1)),axis=1)\n",
    "    # dense layers\n",
    "    logits = hk.Sequential([               \n",
    "        hk.Linear(256, with_bias=False), jax.nn.tanh,\n",
    "        hk.Linear(64, with_bias=False), jax.nn.tanh,\n",
    "        hk.Linear(1, with_bias=False)\n",
    "    ])(x)\n",
    "    return jnp.squeeze(logits)\n",
    "model = hk.without_apply_rng(hk.transform(model_fn))\n",
    "def loss_fn(params, x, y):    \n",
    "    logits = model.apply(params, x)\n",
    "    return jnp.mean(binary_cross_entropy(logits, y))\n",
    "@jax.jit\n",
    "def solubility_prob(params, x):\n",
    "    logits = model.apply(params, x)\n",
    "    return jax.nn.sigmoid(jnp.squeeze(logits))\n",
    "@jax.jit\n",
    "def accuracy_fn(params, x, y):\n",
    "    logits = model.apply(params, x)\n",
    "    return jnp.mean((logits >= 0) * y + (logits < 0) * (1 - y))"
   ]
  },
  {
   "cell_type": "code",
   "execution_count": 4,
   "metadata": {},
   "outputs": [
    {
     "name": "stderr",
     "output_type": "stream",
     "text": [
      "WARNING:absl:No GPU/TPU found, falling back to CPU. (Set TF_CPP_MIN_LOG_LEVEL=0 and rerun for more info.)\n"
     ]
    }
   ],
   "source": [
    "rng = jax.random.PRNGKey(0)\n",
    "xi, yi = ohfeatures[:16], labels[:16]\n",
    "params = model.init(rng, xi)\n",
    "\n",
    "opt_init, opt_update, get_params = opt.adam(1e-3)\n",
    "opt_state = opt_init(params)\n",
    "\n",
    "@jax.jit\n",
    "def update(step, opt_state, x, y):\n",
    "    value, grads = jax.value_and_grad(loss_fn)(get_params(opt_state), x, y)\n",
    "    opt_state = opt_update(step, grads, opt_state)\n",
    "    return value, opt_state"
   ]
  },
  {
   "cell_type": "code",
   "execution_count": 5,
   "metadata": {},
   "outputs": [],
   "source": [
    "epochs = 32\n",
    "for e in range(epochs):\n",
    "    for i, (xi, yi) in enumerate(train_data):\n",
    "        value, opt_state = update(i, opt_state, xi.numpy(), yi.numpy())        \n",
    "opt_params = get_params(opt_state)"
   ]
  },
  {
   "cell_type": "markdown",
   "metadata": {},
   "source": [
    "Here we compute the accuracy of our model. Remember, this is a challenging problem and so about 60--70\\% is typical on this dataset. "
   ]
  },
  {
   "cell_type": "code",
   "execution_count": 6,
   "metadata": {},
   "outputs": [
    {
     "name": "stdout",
     "output_type": "stream",
     "text": [
      "0.5061584\n"
     ]
    }
   ],
   "source": [
    "acc = []\n",
    "for xi, yi in test_data:\n",
    "    acc.append(accuracy_fn(opt_params, xi.numpy(), yi.numpy()))\n",
    "print(jnp.mean(np.array(acc)))"
   ]
  },
  {
   "cell_type": "markdown",
   "metadata": {},
   "source": [
    "Let's try an amino acid sequence, a peptide, to get a feel for the model. The model outputs logits (logarithm of odds), which we put through a sigmoid to get probabilities. The peptides must be converted from a sequence to a matrix of one-hot column vectors. We'll try two sequences: multiple serines which should be soluble and multiple phenylalanines, which should be insoluble."
   ]
  },
  {
   "cell_type": "code",
   "execution_count": 7,
   "metadata": {
    "scrolled": true
   },
   "outputs": [
    {
     "name": "stdout",
     "output_type": "stream",
     "text": [
      "Probability SSSSS of being soluble 0.52\n",
      "Probability FFFFF of being soluble 0.47\n"
     ]
    }
   ],
   "source": [
    "s = 'SSSSS'\n",
    "sm = array2oh(seq2array(s))\n",
    "sol_prob = solubility_prob(opt_params, sm)\n",
    "print(f'Probability {s} of being soluble {sol_prob:.2f}')\n",
    "\n",
    "s = 'FFFFF'\n",
    "sm = array2oh(seq2array(s))\n",
    "sol_prob = solubility_prob(opt_params, sm)\n",
    "print(f'Probability {s} of being soluble {sol_prob:.2f}')"
   ]
  },
  {
   "cell_type": "markdown",
   "metadata": {},
   "source": [
    "It looks reasonable -- the hydrophilic are likely soluble and the hydrophobic is likely insoluble. \n",
    "\n",
    "### Gradients\n",
    "\n",
    "Now to start examining *why* a particular sequence is soluble or insoluble! We'll begin by computing the gradients with respect to input -- the naieve approach that is susceptible to shattered gradients. Computing this is a component in the process for integrated and smooth gradients, so not wasted effort. We will use a more complex peptide sequence to get more interesting analysis. "
   ]
  },
  {
   "cell_type": "code",
   "execution_count": 8,
   "metadata": {
    "tags": [
     "hide-cell"
    ]
   },
   "outputs": [],
   "source": [
    "def plot_grad(g, s, ax=None):\n",
    "    #g = np.array(g)\n",
    "    if ax is None:\n",
    "        plt.figure()\n",
    "        ax = plt.gca()\n",
    "    if len(g.shape) == 3:\n",
    "        h = g[0, np.arange(len(s)), list(map(ALPHABET.index,s))]\n",
    "    else:\n",
    "        h = g\n",
    "    ax.bar(np.arange(len(s)), height=h)\n",
    "    ax.set_xticks(range(len(s)))\n",
    "    ax.set_xticklabels(s)"
   ]
  },
  {
   "cell_type": "code",
   "execution_count": 9,
   "metadata": {},
   "outputs": [
    {
     "name": "stdout",
     "output_type": "stream",
     "text": [
      "Probability EKAALSLVVVFFRPVC of being soluble 0.50\n"
     ]
    }
   ],
   "source": [
    "s = 'EKAALSLVVVFFRPVC'\n",
    "sm = array2oh(seq2array(s))\n",
    "sol_prob = solubility_prob(opt_params, sm)\n",
    "print(f'Probability {s} of being soluble {sol_prob:.2f}')"
   ]
  },
  {
   "cell_type": "code",
   "execution_count": 10,
   "metadata": {},
   "outputs": [
    {
     "data": {
      "image/png": "[encoded data removed]",
      "text/plain": [
       "<Figure size 432x288 with 1 Axes>"
      ]
     },
     "metadata": {},
     "output_type": "display_data"
    }
   ],
   "source": [
    "g = jax.grad(model.apply,1)(opt_params, sm)\n",
    "plot_grad(g, s)"
   ]
  },
  {
   "cell_type": "markdown",
   "metadata": {},
   "source": [
    "Remember that the model outputs logits. Positive value of the gradient mean this amino acid is responsible for pushing solubility probability higher and negative values mean the amino acid is pushing towards insoluble. As you might expect, hydrophilic amino acids like S and R push the solubility probability higher and valine pushes it \n",
    "down. However, some strangeness appears like the valines in the VVV part have wildly different effects.\n",
    "\n",
    "### Integrated Gradients\n",
    "\n",
    "We'll now implement the integrated gradients method. We go through three basic steps:\n",
    "\n",
    "1. Create an array of inputs going from baseline to input peptide\n",
    "2. Evaluate gradient on each input\n",
    "3. Compute the sum of the gradients and multiply it by difference between baseline and peptide\n",
    "\n",
    "The baseline for us is all zeros -- which gives a probability of solubility of 0.5 (logits = 0, a model root). This basline is exactly on the decision bounary. You could use other baselines like all glycines or all alanines, just they should be at or very near solubility of 0.5. You can find a detailed and interactive exploration of the baseline choice in {cite}`sturmfels2020visualizing`."
   ]
  },
  {
   "cell_type": "code",
   "execution_count": 11,
   "metadata": {},
   "outputs": [],
   "source": [
    "def integrated_gradients(sm, N):\n",
    "    baseline = jnp.zeros((1, L, 21))\n",
    "    t = jnp.linspace(0, 1, N).reshape(-1, 1, 1)\n",
    "    path = baseline * (1 - t) + sm * t\n",
    "    def get_grad(pi):\n",
    "        # compute gradient \n",
    "        # add/remove batch axes\n",
    "        return jax.grad(model.apply, 1)(opt_params, pi[jnp.newaxis, ...])[0]\n",
    "    gs = jax.vmap(get_grad)(path)\n",
    "    # sum pieces (Riemann sum), multiply by (x - x')\n",
    "    ig = jnp.mean(gs, axis=0, keepdims=True) * (sm - baseline)\n",
    "    return ig\n",
    "ig = integrated_gradients(sm, 1024)"
   ]
  },
  {
   "cell_type": "code",
   "execution_count": 12,
   "metadata": {},
   "outputs": [
    {
     "data": {
      "image/png": "[encoded data removed]",
      "text/plain": [
       "<Figure size 432x288 with 1 Axes>"
      ]
     },
     "metadata": {},
     "output_type": "display_data"
    }
   ],
   "source": [
    "plot_grad(ig, s)"
   ]
  },
  {
   "cell_type": "markdown",
   "metadata": {},
   "source": [
    "We see that the valines are a little closer. Perhaps not that much more informative than the vanilla gradients.\n",
    "\n",
    "### SmoothGrad\n",
    "\n",
    "To do SmoothGrad, our steps are almost identicial:\n",
    "\n",
    "1. Create an array of inputs that are random pertubations of the input peptide\n",
    "2. Evaluate gradient on each input\n",
    "3. Compute the mean of the gradients\n",
    "\n",
    "There is one additional hyperparameter, $\\sigma$, which in principle should be as small as possible while still causing the model output to change.\n"
   ]
  },
  {
   "cell_type": "code",
   "execution_count": 13,
   "metadata": {},
   "outputs": [
    {
     "data": {
      "image/png": "[encoded data removed]",
      "text/plain": [
       "<Figure size 432x288 with 1 Axes>"
      ]
     },
     "metadata": {},
     "output_type": "display_data"
    }
   ],
   "source": [
    "def smooth_gradients(sm, N, rng, sigma=1e-3):\n",
    "    baseline = jnp.zeros((1, L, 21))\n",
    "    t = jax.random.normal(rng, shape=(N, sm.shape[1], sm.shape[2])) * sigma\n",
    "    path = sm + t\n",
    "    # remove examples that are negative and force summing to 1\n",
    "    path = jnp.clip(path, 0, 1)\n",
    "    path /= jnp.sum(path, axis=2, keepdims=True)    \n",
    "    def get_grad(pi):\n",
    "        # compute gradient \n",
    "        # add/remove batch axes\n",
    "        return jax.grad(model.apply, 1)(opt_params, pi[jnp.newaxis, ...])[0]\n",
    "    gs = jax.vmap(get_grad)(path)\n",
    "    # mean\n",
    "    ig = jnp.mean(gs, axis=0, keepdims=True)\n",
    "    return ig\n",
    "sg = smooth_gradients(sm, 1024, jax.random.PRNGKey(0))\n",
    "plot_grad(sg, s)"
   ]
  },
  {
   "cell_type": "markdown",
   "metadata": {},
   "source": [
    "It looks remarkably similar to the vanilla gradient setting -- probably because our 1D input/shallow network is not as sensitive to shattered gradients."
   ]
  },
  {
   "cell_type": "markdown",
   "metadata": {},
   "source": [
    "### Shapley Value\n",
    "\n",
    "Now we will approximate the Shapley values for each feature using Equation XX.The Shapley value computation is different than previous approaches because it does not require gradients. The basic algorithm is:\n",
    "\n",
    "1. select random point x'\n",
    "2. create point z by combining x and x'\n",
    "3. compute change in predicted function\n",
    "\n",
    "One efficiency change we make is to prevent modifying the sequence in its padding -- basically preventing exploring making the sequence longer. "
   ]
  },
  {
   "cell_type": "code",
   "execution_count": 14,
   "metadata": {},
   "outputs": [],
   "source": [
    "def shapley(i, sm, sampled_x, rng, model, opt_params=opt_params):\n",
    "    M,F,*_ = sampled_x.shape\n",
    "    # only swap out features within length of sm\n",
    "    mask = jnp.sum(sm[...,1:], -1)    \n",
    "    z_choice = jax.random.bernoulli(rng, shape=(M,F))\n",
    "    z_choice *= mask\n",
    "    # construct with and w/o ith feature\n",
    "    z_choice = jax.ops.index_update(z_choice, jax.ops.index[:,i], 0.)\n",
    "    z_choice_i = jax.ops.index_update(z_choice, jax.ops.index[:,i], 1.0)\n",
    "    # select them via multiplication\n",
    "    z = sm * z_choice[...,jnp.newaxis] + \\\n",
    "        sampled_x * (1 - z_choice[...,jnp.newaxis])\n",
    "    z_i = sm * z_choice_i[...,jnp.newaxis] + \\\n",
    "        sampled_x * (1 - z_choice_i[...,jnp.newaxis])\n",
    "    v = model(opt_params, z_i) - model(opt_params, z)    \n",
    "    return jnp.mean(v, axis=0)\n",
    "    \n",
    "# assume data is alrady shuffled, so just take M\n",
    "M = 2048\n",
    "sl = len(s)\n",
    "sampled_x = train_data.unbatch().batch(M).as_numpy_iterator().next()[0]\n",
    "# make batched shapley so we can compute for all features\n",
    "bshapley = jax.vmap(shapley, in_axes=(0, None, None, 0, None))\n",
    "#shapley(0, sm, sampled_x, jax.random.PRNGKey(0), solubility_prob)\n",
    "sv = bshapley(jnp.arange(sl), sm, sampled_x, jax.random.split(jax.random.PRNGKey(0), sl), solubility_prob)"
   ]
  },
  {
   "cell_type": "code",
   "execution_count": 15,
   "metadata": {},
   "outputs": [
    {
     "name": "stdout",
     "output_type": "stream",
     "text": [
      "0.0016661831 0.5047281\n",
      "(16,)\n"
     ]
    },
    {
     "data": {
      "image/png": "[encoded data removed]",
      "text/plain": [
       "<Figure size 432x288 with 1 Axes>"
      ]
     },
     "metadata": {},
     "output_type": "display_data"
    }
   ],
   "source": [
    "#TODO -- these should be equal!\n",
    "print(np.sum(sv), solubility_prob(opt_params, sm))\n",
    "print(sv.shape)\n",
    "plot_grad(sv, s)"
   ]
  },
  {
   "cell_type": "markdown",
   "metadata": {},
   "source": [
    "The three methods are shown side-by-side below. "
   ]
  },
  {
   "cell_type": "code",
   "execution_count": 16,
   "metadata": {},
   "outputs": [
    {
     "data": {
      "image/png": "[encoded data removed]",
      "text/plain": [
       "<Figure size 864x288 with 1 Axes>"
      ]
     },
     "metadata": {},
     "output_type": "display_data"
    }
   ],
   "source": [
    "heights = []\n",
    "plt.figure(figsize=(12,4))\n",
    "x = np.arange(len(s))\n",
    "for i,(gi,l) in enumerate(zip([g, ig, sg], ['Gradient', 'Integrated', 'Smooth'])):\n",
    "    h = gi[0, np.arange(len(s)), list(map(ALPHABET.index,s))]\n",
    "    plt.bar(x + i/5 - 1/4, h, width=1/5, edgecolor='black', label=l)\n",
    "plt.bar(x + 3/5 - 1/4, sv, width=1/5, edgecolor='black', label='Shapley')\n",
    "plt.gca().set_xticks(range(len(s)))\n",
    "plt.gca().set_xticklabels(s)\n",
    "plt.legend()\n",
    "plt.show()"
   ]
  },
  {
   "cell_type": "markdown",
   "metadata": {},
   "source": [
    "As someone who works with peptides, I believe the Shapley is the most accurate here. Glutamic acid should increase solubility -- which the Shapley values got correct. ALso, FF should decrease solubility which is also likely true. What can we conclude from this information? We could perhaps add an explanation like this: \"The sequence is predicted to be soluble primarily because of the glutamic acid.\", if we use the Shapley value explanation."
   ]
  },
  {
   "cell_type": "markdown",
   "metadata": {},
   "source": [
    "## Shapley Values\n",
    "\n",
    "A model agnostic way to treat feature importance is with **Shapley values.** Shapley values come from game theory and are a solution to how to pay a coalition of cooperating players according to their contributions. Imagine each feature is a player and we would like to \"pay\" them according to their contribution to the predicted value. A Shapley value $\\phi_i$ is the pay to feature $i$. We break-up the predicted function value $\\hat{f}(x)$ into the Shapley values so that the sum of the pay is the function value ($\\sum_i \\phi_i = \\hat{f}(x)$. This means you can interpet the Shapley value of a feature as its contribution to the prediction. Shapley values are powerful because their calculation is agnostic to the model, they equally partition the predicted value to each feature, and they have other attributes that we would desire in an explanation of a prediction (symmetry, linearity, permutation invariant, etc.). Their disadvantages are that exact computation is combinatorial with respect to feature number and they have no sparsity, making them less helpful as feature number grows. Although most methods we discuss here also have no sparsity -- you can also force your model to be sparse to achieve sparse explanations.\n",
    "\n",
    "Shapley values are computed as\n",
    "\n",
    "\\begin{equation}\n",
    "\\phi_i = \\frac{1}{Z}\\sum_{S \\in M \\backslash x_i}v(S\\cup x_i) - v(S)\n",
    "\\end{equation}\n",
    "$$\n",
    "Z = \\frac{|S|!\\left(N - |S| - 1\\right)!}{N!}\n",
    "$$\n",
    "\n",
    "where $S \\in N \\backslash x_i$ means all sets of features that exclude feature $x_i$, $S\\cup x_i$ means putting back feature $x_i$ into the set, and $v(S)$ is the value of $\\hat{f}(x)$ using only the features included in $S$, and $Z$ is a normalization value. The formula can be interpreted as the mean of all possible differences in $\\hat{f}$ formed by adding/removing feature $i$. \n",
    "\n",
    "One immediate concern though is how we can \"remove\" feature $i$ from a model equation? We marginilize out feature $i$. Recall a marginal is a way to integrate out a random variable -- $P(x) = \\int\\, P(x,y)\\,dy$. That integrates over all possible $x$ values. Marginalization can be used on functions of random variables, which obviously are also random variables, by taking an expectation: $E_y[f | X = x] = \\int\\,f(X=x,y)P(X=x,y)\\, dy$. I've emphasized that the random variable $X$ is fixed in the integral and thus $E_y[f]$ is a function of $x$. $y$ is removed by computing the expected value of $f(x,y)$ where $x$ is fixed (the function argument). We're essentially replacing $f(x,y)$ with a new function $E_y[f]$ that is the average of all possible $y$ values I'm over-explaining this though, it's quite intuitive. The other detail is that *value* is the change relative to the average of $\\hat{f}$. You can typically ignore this extra term - it cancels, but I include it for completeness. Thus the value equation becomes {cite}`vstrumbelj2014explaining`:\n",
    "\n",
    "\\begin{equation}\n",
    "v(x_i) = \\int\\,f(x_0, x_1, \\ldots, x_i,\\ldots, x_N)P(x_0, x_1, \\ldots, x_i,\\ldots, x_N)\\, dx_i - E\\left[\\hat{f}(\\vec{x})\\right]\n",
    "\\end{equation}\n",
    "\n",
    "How do we compute the marginal $\\int\\,f(x_0, x_1, \\ldots, x_i,\\ldots, x_N)P(x_0, x_1, \\ldots, x_i,\\ldots, x_N)\\, dx_i$? We do not have a known probability distribution $P(\\vec{x})$. We can sample from $P(\\vec{x})$ by considering our data as an **empirical distribution**. That is, we can sample from $P(\\vec{x})$ by sampling data points. There is a little bit of complexity here because we need to sample the $\\vec{x}$'s jointly, we cannot just mix together individual features randomly because there are correlations between features that will be removed. {cite}`vstrumbelj2014explaining` showed that we can directly estimate the $i$th Shapley value with:\n",
    "\n",
    "\\begin{equation}\n",
    "\\phi_i(\\vec{x}) = \\frac{1}{M}\\sum^M \\hat{f}\\left(\\vec{z}_{+i}\\right) - \\hat{f}\\left(\\vec{z}_{+i}\\right)\n",
    "\\end{equation}\n",
    "\n",
    "where $\\vec{z}$ is a \"chimera\" exapmle constructed from the real example $\\vec{x}$ and a randomly drawn example $\\vec{x}'$. We randomly select from $\\vec{x}$ and $\\vec{x}'$ to construct $\\vec{z}$, except $\\vec{z}_{+i}$ specifically has the $i$th feature from the example $\\vec{x}$ and $\\vec{z}_{-i}$ has the $i$th feature from the random example $\\vec{x}'$. $M$ is chosen large enough to get a good sample for this value. {cite}`vstrumbelj2014explaining` gives guidance on choosing $M$, but basically as large $M$ as computationally feasible reasonable. \n",
    "\n",
    "\n",
    "With this approximation method, the strong theory, and independence of model choice, Shapley values are an excellent choice for describing feature importance for examples."
   ]
  },
  {
   "cell_type": "markdown",
   "metadata": {},
   "source": [
    "## Training Data Importance\n",
    "\n",
    "Another kind of explanation or interpretation we might desire is *which* training data points contribute most to a prediction. This is a more literal answer to the question: \"Why did my model predict this?\" -- neural networks are a result of training data and thus the answer to why a prediction is made can be traced to training data. Ranking training data for a given prediction helps us understand which training examples are causing the neural network to predict a value. This is like an influence function, $\\mathcal{I}(x_i, x)$, which gives a score of incluence for training point $i$ and input $x$. The most straightforward way to compute the influence would be to train the neural network with ($\\hat{f}(x)$) and without $x_i$ ($\\hat{f}_{-x_i}(x)$) and define the influence as\n",
    "\n",
    "\\begin{equation}\n",
    "\\mathcal{I}(x_i, x) = \\hat{f}_{-x_i}(x) - \\hat{f}(x)\n",
    "\\end{equation}\n",
    "\n",
    "For example, if a prediction is higher after removing the training point $x_i$ from training, we would say that point has a positive influence. Computing this influence function requires training the model as many times as you have points -- typically computationally infeasible. {cite}`koh2017understanding` show a way to approximate this by looking at infinitesimal changes to the *weights* of each training point. Computing these influence functions do require computing a Hessian with respect to the loss function and thus are not commonly used. If you're using JAX though, this is simple to do.\n",
    "\n",
    "```{margin}\n",
    "If using a kernel model, remembering that the features are the training data. Then the above methods, like integrated gradients, give training data importance.\n",
    "```\n",
    "\n",
    "Training data importance provides an interpretation that is useful for deep learning experts. It tells you which training examples are most influential for a given predictions This can help troubleshoot issues with data or tracing explanations for spurious predictions. However, a typical user of predictions from a deep learning model will probably be unsatisfied with a ranking of training data as an explanation. "
   ]
  },
  {
   "cell_type": "markdown",
   "metadata": {
    "tags": [
     "remove-cell"
    ]
   },
   "source": [
    "## Surrogate Models\n",
    "\n",
    "One of the most general ideas in interpretability is to fit an interpretable model to a black-box model *in the neighborhood of a specific example*. We assume that an interpretable model cannot be fit globally to a black box model -- otherwise we could just use the interpretable model and throw away the black box model. Always replace a neural network with a linear model if you can. However, if we fit the intertable model to just a small region around an example of interest, we can provide an explanation. We call the interpretable model a local surrogate model. Examples of local surrogate models that are inherently interpretable include decision trees, linear models, sparse linear models (for succint explanations), and Naive Bayes Classifier.\n",
    "\n",
    "The most popular algorithm for this process of fitting a local surrogate model is called Local Interpretable Model-Agnostic Explanations (LIME) {cite}`ribeiro2016should`. LIME fits the local surrogate model using the following loss function:\n",
    "\n",
    "\\begin{equation}\n",
    "\\mathcal{l^s}(\\theta^s) = \\frac{1}{M}\\sum_{x'} \n",
    "\\end{equation}\n",
    "\n",
    "LIME has this weird sparsity term. LIME is so weird. "
   ]
  },
  {
   "cell_type": "markdown",
   "metadata": {},
   "source": [
    "## Cited References\n",
    "\n",
    "```{bibliography}\n",
    ":style: unsrtalpha\n",
    ":filter: docname in docnames\n",
    "```"
   ]
  }
 ],
 "metadata": {
  "celltoolbar": "Tags",
  "kernelspec": {
   "display_name": "Python 3",
   "language": "python",
   "name": "python3"
  },
  "language_info": {
   "codemirror_mode": {
    "name": "ipython",
    "version": 3
   },
   "file_extension": ".py",
   "mimetype": "text/x-python",
   "name": "python",
   "nbconvert_exporter": "python",
   "pygments_lexer": "ipython3",
   "version": "3.8.5"
  }
 },
 "nbformat": 4,
 "nbformat_minor": 4
}
