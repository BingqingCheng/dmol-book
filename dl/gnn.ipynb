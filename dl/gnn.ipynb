{
 "cells": [
  {
   "cell_type": "markdown",
   "metadata": {},
   "source": [
    "# Graph Neural Networks\n",
    "\n",
    "The biggest difficulty for deep learning with molecules is the choice and computation of \"descriptors\". Graph neural networks (GNNs) are a category of deep neural networks whose inputs are graphs. As usual, they are composed of specific layers that input a graph and those layers are what we're interested in. You can find reviews of GNNs in X, Y, and Z. Before we dive too deep into them, we must first understand how a graph is represented and how molecules are converted into graphs. "
   ]
  },
  {
   "cell_type": "markdown",
   "metadata": {},
   "source": [
    "## Representing a Graph\n",
    "\n",
    "A graph $\\mathbf{G}$ is a set of nodes $\\mathbf{V}$ and edges $\\mathbf{E}$. In our setting, node $i$ is defined by a vector $\\vec{v}_i$, so that the set of nodes can be written as a rank 2 tensor. The edges can be represented as an adjacency matrix $\\mathbf{E}$, where if $e_{ij} = 1$ then nodes $i$ and $j$ are connected by an edge. In many fields, graphs are often immediately simplified to be directed and acyclic, which simplifies things. Molecules are instead undirected and have cycles (rings). Thus, our adjacency matrices are always symmetric $e_{ij} = e_{ji}$. Often our edges themselves have features, so that $e_{ij}$ is itself a vector. Then the adjacency matrix becomes a rank 3 tensor. Examples of edge features might be covalent bond order or distance between two nodes.\n",
    "\n",
    "\n",
    "```{figure} ./methanol.jpg\n",
    "----\n",
    "name: methanol\n",
    "width: 400px\n",
    "----\n",
    "Methanol with atoms numbered so that we can convert it to a graph. \n",
    "```\n",
    "\n",
    "\n",
    "Let's see how a graph can be constructed from a molecule. Consider methanol, shown in Figure {numref}`methanol`. I've numbered the atoms so that we have an order for defining the nodes/edges. First, the node features. You can use anything for node features, but often we'll begin with one-hot encoded feature vectors:\n",
    "\n",
    "| Node | C  | H  | O  |\n",
    "|:-----|----|----|---:|\n",
    "| 1    | 0  | 1  |  0 |\n",
    "| 2    | 0  | 1  |  0 |\n",
    "| 3    | 0  | 1  |  0 |\n",
    "| 4    | 1  | 0  |  0 |\n",
    "| 5    | 0  | 0  |  1 |\n",
    "| 6    | 0  | 1  |  0 |\n",
    "\n",
    "$\\mathbf{V}$ will be the combined feature vectors of these nodes. The adjacency matrix $\\mathbf{E}$ will look like:\n",
    "\n",
    "\n",
    "|    | 1  | 2  | 3  | 4  | 5  | 6  | \n",
    "|:---|----|----|----|----|----|---:|\n",
    "| 1  | 0  | 0  | 0  | 1  | 0  |  0 |\n",
    "| 2  | 0  | 0  | 0  | 1  | 0  |  0 |\n",
    "| 3  | 0  | 0  | 0  | 1  | 0  |  0 |\n",
    "| 4  | 1  | 1  | 1  | 0  | 1  |  0 |\n",
    "| 5  | 0  | 0  | 0  | 1  | 0  |  1 |\n",
    "| 6  | 0  | 0  | 0  | 0  | 1  |  0 |\n",
    "\n",
    "\n",
    "Take a moment to understand these two. For example, notice that rows 1, 2, and 3 only have the 4th column as non-zero. That's because atoms 1-3 are bonded only to carbon (atom 4). Also, the diagonal is always 0 because atoms cannot be bonded with themselves. \n",
    "\n",
    "\n",
    "We'll now begin with a function which can convert a smiles string into this representation."
   ]
  },
  {
   "cell_type": "markdown",
   "metadata": {},
   "source": [
    "## Running This Notebook\n",
    "\n",
    "\n",
    "Click the &nbsp;<i aria-label=\"Launch interactive content\" class=\"fas fa-rocket\"></i>&nbsp; above to launch this page as an interactive Google Colab. See details below on installing packages, either on your own environment or on Google Colab\n",
    "\n",
    "````{tip} My title\n",
    ":class: dropdown\n",
    "To install packages, execute this code in a new cell\n",
    "\n",
    "**For Google Colab**\n",
    "\n",
    "```\n",
    "!wget -c https://repo.continuum.io/miniconda/Miniconda3-py37_4.8.3-Linux-x86_64.sh\n",
    "!chmod +x Miniconda3-py37_4.8.3-Linux-x86_64.sh\n",
    "!time bash ./Miniconda3-py37_4.8.3-Linux-x86_64.sh -b -f -p /usr/local\n",
    "!time conda install -q -y -c conda-forge rdkit\n",
    "\n",
    "import sys\n",
    "sys.path.append('/usr/local/lib/python3.7/site-packages/')\n",
    "\n",
    "!conda install -c conda-forge graphviz\n",
    "!pip install jupyter-book matplotlib numpy tensorflow pydot seaborn Pillow\n",
    "```\n",
    "\n",
    "**For Conda Env**\n",
    "\n",
    "```\n",
    "!conda install -c conda-forge graphviz\n",
    "!pip install jupyter-book matplotlib numpy tensorflow pydot seaborn Pillow\n",
    "```\n",
    "\n",
    "````"
   ]
  },
  {
   "cell_type": "code",
   "execution_count": 1,
   "metadata": {
    "tags": [
     "hide-cell"
    ]
   },
   "outputs": [],
   "source": [
    "import matplotlib.pyplot as plt\n",
    "import seaborn as sns\n",
    "import matplotlib as mpl\n",
    "import numpy as np\n",
    "import tensorflow as tf\n",
    "import warnings\n",
    "import pandas as pd\n",
    "import rdkit, rdkit.Chem, rdkit.Chem.rdDepictor, rdkit.Chem.Draw\n",
    "import networkx as nx\n",
    "warnings.filterwarnings('ignore')\n",
    "sns.set_context('notebook')\n",
    "sns.set_style('dark',  {'xtick.bottom':True, 'ytick.left':True, 'xtick.color': '#666666', 'ytick.color': '#666666',\n",
    "                        'axes.edgecolor': '#666666', 'axes.linewidth':     0.8 , 'figure.dpi': 300})\n",
    "color_cycle = ['#1BBC9B', '#F06060', '#5C4B51', '#F3B562', '#6e5687']\n",
    "mpl.rcParams['axes.prop_cycle'] = mpl.cycler(color=color_cycle) \n",
    "soldata = pd.read_csv('https://dataverse.harvard.edu/api/access/datafile/3407241?format=original&gbrecs=true')\n",
    "np.random.seed(0)\n",
    "my_elements = {6: 'C', 8: 'O', 1: 'H'}"
   ]
  },
  {
   "cell_type": "markdown",
   "metadata": {},
   "source": [
    "The hidden cell below defines our function `smiles2graph`. This creates one-hot node feature vectors for the element C, H, and O. It also creates an adjacency tensor with one-hot bond order being the feature vector."
   ]
  },
  {
   "cell_type": "code",
   "execution_count": 2,
   "metadata": {
    "tags": [
     "hide-cell"
    ]
   },
   "outputs": [],
   "source": [
    "def smiles2graph(sml):\n",
    "    '''Argument for the RD2NX function should be a valid SMILES sequence\n",
    "    returns: the graph\n",
    "    '''\n",
    "    m = rdkit.Chem.MolFromSmiles(sml)\n",
    "    m = rdkit.Chem.AddHs(m)\n",
    "    order_string = {rdkit.Chem.rdchem.BondType.SINGLE: 1,\n",
    "                    rdkit.Chem.rdchem.BondType.DOUBLE: 2,\n",
    "                    rdkit.Chem.rdchem.BondType.TRIPLE: 3,\n",
    "                    rdkit.Chem.rdchem.BondType.AROMATIC: 4}\n",
    "    N = len(list(m.GetAtoms()))\n",
    "    nodes = np.zeros((N,len(my_elements)))\n",
    "    lookup = list(my_elements.keys())\n",
    "    for i in m.GetAtoms():\n",
    "        nodes[i.GetIdx(), lookup.index(i.GetAtomicNum())] = 1\n",
    "    \n",
    "    adj = np.zeros((N,N,5))\n",
    "    for j in m.GetBonds():\n",
    "        u = min(j.GetBeginAtomIdx(),j.GetEndAtomIdx())\n",
    "        v = max(j.GetBeginAtomIdx(),j.GetEndAtomIdx())        \n",
    "        order = j.GetBondType()\n",
    "        if order in order_string:\n",
    "            order = order_string[order]\n",
    "        else:\n",
    "            raise Warning('Ignoring bond order' + order)\n",
    "        adj[u, v, order] = 1        \n",
    "        adj[v, u, order] = 1        \n",
    "    return nodes, adj"
   ]
  },
  {
   "cell_type": "code",
   "execution_count": 3,
   "metadata": {},
   "outputs": [
    {
     "data": {
      "text/plain": [
       "array([[1., 0., 0.],\n",
       "       [0., 1., 0.],\n",
       "       [0., 0., 1.],\n",
       "       [0., 0., 1.],\n",
       "       [0., 0., 1.],\n",
       "       [0., 0., 1.]])"
      ]
     },
     "execution_count": 3,
     "metadata": {},
     "output_type": "execute_result"
    }
   ],
   "source": [
    "nodes, adj = smiles2graph('CO')\n",
    "nodes"
   ]
  },
  {
   "cell_type": "markdown",
   "metadata": {},
   "source": [
    "## A Graph Neural Network\n",
    "\n",
    "A graph neural network (GNN) is a neural network with two defining attributes:\n",
    "\n",
    "1. It's input is a graph\n",
    "2. It's output is permutation invariant\n",
    "\n",
    "We can understand clearly the first point. Here, a graph permutation means re-ordering our nodes. In our methanol example above, we could have easily made the carbon be atom 1 instead of atom 4. Our new adjacency matrix would then be:\n",
    "\n",
    "|    | 1  | 2  | 3  | 4  | 5  | 6  | \n",
    "|:---|----|----|----|----|----|---:|\n",
    "| 1  | 0  | 1  | 1  | 1  | 1  |  0 |\n",
    "| 2  | 1  | 0  | 0  | 0  | 0  |  0 |\n",
    "| 3  | 1  | 0  | 0  | 0  | 0  |  0 |\n",
    "| 4  | 1  | 0  | 0  | 0  | 1  |  0 |\n",
    "| 5  | 1  | 0  | 0  | 0  | 0  |  1 |\n",
    "| 6  | 0  | 0  | 0  | 0  | 1  |  0 |\n",
    "\n",
    "\n",
    "```{margin}\n",
    "Ok, so technically we might want our GNN to be permutation *equivariant*. If our GNN outputs per-node features, then obviously if we swap the node order of input, we want our per-node output to swap.\n",
    "```\n",
    "\n",
    "A GNN is permutation invariant if the output is insensitive to these kind of exchanges. Of course, there may exist GNNs out there which are not permutation invariant, especially if they are for trees where it is possible to deterministically order all nodes. Yet all the GNNs used in chemistry and most of the deep learning work is concerned with GNNs that are permutation invariant."
   ]
  },
  {
   "cell_type": "markdown",
   "metadata": {},
   "source": [
    "### A simple GNN\n",
    "\n",
    "We will often mention a GNN when we really mean a layer from a GNN. Most GNNs implement a specific layer that can deal with graphs, and so usually we are only concerned with this layer. Let's see an example of a simple layer for a GNN:\n",
    "\n",
    "\\begin{equation}\n",
    "f_k = \\sigma\\left( \\sum_i \\sum_jn_{ij}w_{jk}  \\right)\n",
    "\\end{equation}\n",
    "\n",
    "This equation shows that we first multiply every node feature by trainable weights $w_{jk}$, sum over all node features, and then apply an activation. This will yield a single feature vector for the graph. Is this equation permutation invariant? Yes, because the node index in our expression is index $i$ which can be re-ordered without affecting the output.\n",
    "\n",
    "Let's see an example that is similar, but not permutation invariant:\n",
    "\n",
    "\\begin{equation}\n",
    "f_k = \\sigma\\left( \\sum_i n_{ij}w_{ik}  \\right)\n",
    "\\end{equation}\n",
    "\n",
    "This is a small change. We have one weight vector per node now. This makes the trainable weights depend on the ordering of the nodes. Then if we swap the node ordering, our weights will no longer align. So if we were to input two methanol molecules, which should have the same output, but we switched two atom numbers, we would get different answers. These simple examples differ from real GNNs in two important ways: (i) they give a single feature vector output, which throws away per-node information, and (ii) they do not use the adjacency matrix. Let's see a real GNN that has these properties while maintaining permutation invariance."
   ]
  },
  {
   "cell_type": "markdown",
   "metadata": {},
   "source": [
    "## Kipf & Welling GCN\n",
    "\n",
    "One of the first popular GNNs is the Kipf & Welling graph convolutional network (GCN) {cite}`kipf2016semi`. Although some people consider GCNs to be a broad class of GNNs, we'll use GCNs to refer specifically the Kipf & Welling GCN. \n",
    "Thomas Kipf has written an [excellent article introducing the GCN](https://tkipf.github.io/graph-convolutional-networks/). I will not repeat this article, so please take a look at it.\n",
    "\n",
    "The input to a GCN layer is $\\mathbf{V}$, $\\mathbf{E}$ and it outputs an updated $\\mathbf{V}'$. Each node feature vector is updated. The way it updates a node feature vector is by averaging the feature vectors of its neigbhors, as determined by $\\mathbf{E}$. The choice of averaging over neigbhors is what makes a GCN layer permutation invariant. Averaging over neighbors is not trainable, so we must add trainable parameters. We multiply the neighbor features by a trainable matrix before the averaging, which gives the GCN the ability to learn. In Einstein notation, this process is:\n",
    "\n",
    "\\begin{equation}\n",
    "v_{il} = \\sigma\\left(\\frac{1}{d_i}e_{ij}v_{jk}w_{lk}\\right)\n",
    "\\end{equation}\n",
    "\n",
    "where $i$ is the node we're considering, $j$ is the neighbor index, $k$ is the node input feature, $l$ is the ouput node feature, $d_i$ is the degree of node i (which makes it an average instead of sum), $e_{ij}$ isolates neighbors so that all non-neighbor $v_{jk}$s are zero, $\\sigma$ is our activation, and $w_{lk}$ is the trainable weights. This equation is a mouthful, but it truly just is the average over neighbors with a trainable matrix thrown in. One common modification is to make all nodes neighbors of themselves. This is so that the output node features $v_{il}$ depends on the input features $v_{ik}$. We do not need to change our equation, just make the adjacency matrix have $1$s on the diagonal instead of $0$ by adding the identity matrix during pre-processing.\n",
    "\n",
    "Building understanding about the GCN is important for understanding other GNNs. You can view the GCN layer as a way to \"communicate\" between a node and its neigbhors. The output for node $i$ will depend only on its immediate neigbhors. For chemistry, this is not satisfactory. So you can stack multiple layers. If you have two layers, then the output for node $i$ will include information about node $i$'s neighbors' neigbhors. Another important detail to understand in GCNs is that the averaging procedure accomplishes two goals: (i) it gives permutation invariance by removing the effect of neighbor order and (ii) it prevents a change in magnitude in node features. A sum would accomplish (i) but would cause the magnitude of the node features to grow after each layer. Of course, you could ad-hoc put a batch normalization layer after each GCN layer to keep output magnitudes stable but averaging is easy."
   ]
  },
  {
   "cell_type": "code",
   "execution_count": 4,
   "metadata": {
    "tags": [
     "remove-cell"
    ]
   },
   "outputs": [
    {
     "data": {
      "application/papermill.record/image/png": "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\n",
      "application/papermill.record/text/plain": "<Figure size 432x288 with 1 Axes>"
     },
     "metadata": {
      "scrapbook": {
       "mime_prefix": "application/papermill.record/",
       "name": "dframe"
      }
     },
     "output_type": "display_data"
    },
    {
     "data": {
      "image/png": "[encoded data removed]",
      "text/plain": [
       "<Figure size 432x288 with 1 Axes>"
      ]
     },
     "metadata": {},
     "output_type": "display_data"
    }
   ],
   "source": [
    "from myst_nb import glue\n",
    "from moviepy.editor import VideoClip\n",
    "from moviepy.video.io.bindings import mplfig_to_npimage\n",
    "\n",
    "def draw_vector(x, y, s, v, ax, cmap, **kwargs):\n",
    "    x += s / 2\n",
    "    y += s /2 \n",
    "    for vi in v:        \n",
    "        if cmap is not None:\n",
    "            ax.add_patch(mpl.patches.Rectangle((x, y), s * 1.5, s, facecolor=cmap(vi),**kwargs))\n",
    "        else:\n",
    "            ax.add_patch(mpl.patches.Rectangle((x, y), s * 1.5, s, facecolor='#FFF', edgecolor='#333',**kwargs))\n",
    "        ax.text(x + s * 1.5 / 2, y + s/2, '{:.2f}'.format(vi), verticalalignment='center', horizontalalignment='center')\n",
    "        y += s        \n",
    "def draw_key(x, y, s, v, ax, cmap, **kwargs):    \n",
    "    x += s / 2    \n",
    "    y += s /2     \n",
    "    for vi in v:        \n",
    "        ax.add_patch(mpl.patches.Rectangle((x, y), s * 1.5, s, facecolor=cmap(1.),**kwargs))\n",
    "        ax.text(x + s * 1.5 / 2, y + s/2, vi, verticalalignment='center', horizontalalignment='center')\n",
    "        y += s\n",
    "    ax.text(x,y + s/2, 'Key:', verticalalignment='center', horizontalalignment='left')\n",
    "def draw(nodes, adj, ax, highlight=None, key=False, labels=None, mask=None, draw_nodes=None):    \n",
    "    G = nx.Graph()\n",
    "    for i in range(adj.shape[0]):\n",
    "        for j in range(adj.shape[0]):\n",
    "            if np.any(adj[i, j]):\n",
    "                G.add_edge(i, j)\n",
    "    if mask is None:\n",
    "        mask = [True] * len(G)\n",
    "    if draw_nodes is None:\n",
    "        draw_nodes = nodes\n",
    "    # go from atomic number to element\n",
    "    elements = np.argmax(draw_nodes, axis=-1)\n",
    "    el_labels = {i: list(my_elements.values())[e] for i,e in enumerate(elements)}\n",
    "    pos = nx.nx_agraph.graphviz_layout(G, prog='sfdp')\n",
    "    pos = nx.rescale_layout_dict(pos)\n",
    "    c = ['white'] * len(G)    \n",
    "    all_h = []\n",
    "    if highlight is not None:        \n",
    "        for i,h in enumerate(highlight):\n",
    "            for hj in h:\n",
    "                c[hj] = 'C{}'.format(i)                \n",
    "                all_h.append(hj)\n",
    "    nx.draw(G, ax=ax, pos=pos, labels=el_labels, node_size=700, node_color=c)\n",
    "    cmap = plt.get_cmap('Wistia')    \n",
    "    for i in range(len(G)):\n",
    "        if not mask[i]:\n",
    "            continue\n",
    "        if i in all_h:\n",
    "            draw_vector(*pos[i], 0.15, nodes[i], ax, cmap)\n",
    "        else:\n",
    "            draw_vector(*pos[i], 0.15, nodes[i], ax, None)\n",
    "    if key:\n",
    "        draw_key(-1, -1, 0.15, my_elements.values(), ax, cmap)\n",
    "    if labels is not None:\n",
    "        legend_elements = []\n",
    "        for i,l in enumerate(labels):\n",
    "            p = mpl.lines.Line2D([0], [0], marker='o', color='C{}'.format(i), label=l,\n",
    "                          markersize=15)\n",
    "            legend_elements.append(p)        \n",
    "        ax.legend(handles=legend_elements)\n",
    "    ax.set_xlim(-1.2, 1.2)\n",
    "    ax.set_ylim(-1.2, 1.2)\n",
    "    \n",
    "plt.figure()\n",
    "draw(nodes, adj, plt.gca(), highlight=[[1], [5, 0]], labels=['center', 'neighbors'])\n",
    "glue('dframe', plt.gcf(), display=False)"
   ]
  },
  {
   "cell_type": "code",
   "execution_count": 5,
   "metadata": {
    "tags": [
     "remove-cell"
    ]
   },
   "outputs": [
    {
     "name": "stdout",
     "output_type": "stream",
     "text": [
      "[0] 0 5 0\n",
      "[False, False, False, False, False, True] 5\n"
     ]
    },
    {
     "name": "stderr",
     "output_type": "stream",
     "text": [
      "\r",
      "t:   0%|          | 0/48 [00:00<?, ?it/s, now=None]"
     ]
    },
    {
     "name": "stdout",
     "output_type": "stream",
     "text": [
      "MoviePy - Building file gcn.gif with imageio.\n",
      "[0] 0 5 0.0\n",
      "[False, False, False, False, False, True] 5\n"
     ]
    },
    {
     "name": "stderr",
     "output_type": "stream",
     "text": [
      "\r",
      "t:   4%|▍         | 2/48 [00:00<00:16,  2.80it/s, now=None]"
     ]
    },
    {
     "name": "stdout",
     "output_type": "stream",
     "text": [
      "[0] 0 5 0.5\n",
      "[False, False, False, False, False, True] 5\n"
     ]
    },
    {
     "name": "stderr",
     "output_type": "stream",
     "text": [
      "\r",
      "t:   6%|▋         | 3/48 [00:01<00:17,  2.50it/s, now=None]"
     ]
    },
    {
     "name": "stdout",
     "output_type": "stream",
     "text": [
      "[0] 0 5 1.0\n",
      "[False, False, False, False, False, True] 5\n"
     ]
    },
    {
     "name": "stderr",
     "output_type": "stream",
     "text": [
      "\r",
      "t:   8%|▊         | 4/48 [00:01<00:18,  2.33it/s, now=None]"
     ]
    },
    {
     "name": "stdout",
     "output_type": "stream",
     "text": [
      "[0] 0 5 1.5\n",
      "[False, False, False, False, False, True] 5\n"
     ]
    },
    {
     "name": "stderr",
     "output_type": "stream",
     "text": [
      "\r",
      "t:  10%|█         | 5/48 [00:02<00:19,  2.19it/s, now=None]"
     ]
    },
    {
     "name": "stdout",
     "output_type": "stream",
     "text": [
      "[0] 0 1 2.0\n",
      "[False, True, False, False, False, True] 1\n"
     ]
    },
    {
     "name": "stderr",
     "output_type": "stream",
     "text": [
      "\r",
      "t:  12%|█▎        | 6/48 [00:02<00:20,  2.07it/s, now=None]"
     ]
    },
    {
     "name": "stdout",
     "output_type": "stream",
     "text": [
      "[0] 0 1 2.5\n",
      "[False, True, False, False, False, True] 1\n"
     ]
    },
    {
     "name": "stderr",
     "output_type": "stream",
     "text": [
      "\r",
      "t:  15%|█▍        | 7/48 [00:03<00:20,  2.03it/s, now=None]"
     ]
    },
    {
     "name": "stdout",
     "output_type": "stream",
     "text": [
      "[0] 0 1 3.0\n",
      "[False, True, False, False, False, True] 1\n"
     ]
    },
    {
     "name": "stderr",
     "output_type": "stream",
     "text": [
      "\r",
      "t:  17%|█▋        | 8/48 [00:03<00:19,  2.02it/s, now=None]"
     ]
    },
    {
     "name": "stdout",
     "output_type": "stream",
     "text": [
      "[0] 0 1 3.5\n",
      "[False, True, False, False, False, True] 1\n"
     ]
    },
    {
     "name": "stderr",
     "output_type": "stream",
     "text": [
      "\r",
      "t:  19%|█▉        | 9/48 [00:04<00:19,  2.00it/s, now=None]"
     ]
    },
    {
     "name": "stdout",
     "output_type": "stream",
     "text": [
      "[0] 0 0 4.0\n",
      "[True, True, False, False, False, True] 0\n"
     ]
    },
    {
     "name": "stderr",
     "output_type": "stream",
     "text": [
      "\r",
      "t:  21%|██        | 10/48 [00:04<00:19,  1.98it/s, now=None]"
     ]
    },
    {
     "name": "stdout",
     "output_type": "stream",
     "text": [
      "[0] 0 0 4.5\n",
      "[True, True, False, False, False, True] 0\n"
     ]
    },
    {
     "name": "stderr",
     "output_type": "stream",
     "text": [
      "\r",
      "t:  23%|██▎       | 11/48 [00:05<00:18,  1.96it/s, now=None]"
     ]
    },
    {
     "name": "stdout",
     "output_type": "stream",
     "text": [
      "[0] 0 0 5.0\n",
      "[True, True, False, False, False, True] 0\n"
     ]
    },
    {
     "name": "stderr",
     "output_type": "stream",
     "text": [
      "\r",
      "t:  25%|██▌       | 12/48 [00:05<00:18,  1.91it/s, now=None]"
     ]
    },
    {
     "name": "stdout",
     "output_type": "stream",
     "text": [
      "[0] 0 0 5.5\n",
      "[True, True, False, False, False, True] 0\n"
     ]
    },
    {
     "name": "stderr",
     "output_type": "stream",
     "text": [
      "\r",
      "t:  27%|██▋       | 13/48 [00:06<00:18,  1.92it/s, now=None]"
     ]
    },
    {
     "name": "stdout",
     "output_type": "stream",
     "text": [
      "[0] 0 2 6.0\n",
      "[True, True, True, False, False, True] 2\n"
     ]
    },
    {
     "name": "stderr",
     "output_type": "stream",
     "text": [
      "\r",
      "t:  29%|██▉       | 14/48 [00:06<00:17,  1.92it/s, now=None]"
     ]
    },
    {
     "name": "stdout",
     "output_type": "stream",
     "text": [
      "[0] 0 2 6.5\n",
      "[True, True, True, False, False, True] 2\n"
     ]
    },
    {
     "name": "stderr",
     "output_type": "stream",
     "text": [
      "\r",
      "t:  31%|███▏      | 15/48 [00:07<00:18,  1.74it/s, now=None]"
     ]
    },
    {
     "name": "stdout",
     "output_type": "stream",
     "text": [
      "[0] 0 2 7.0\n",
      "[True, True, True, False, False, True] 2\n"
     ]
    },
    {
     "name": "stderr",
     "output_type": "stream",
     "text": [
      "\r",
      "t:  33%|███▎      | 16/48 [00:08<00:18,  1.77it/s, now=None]"
     ]
    },
    {
     "name": "stdout",
     "output_type": "stream",
     "text": [
      "[0] 0 2 7.5\n",
      "[True, True, True, False, False, True] 2\n"
     ]
    },
    {
     "name": "stderr",
     "output_type": "stream",
     "text": [
      "\r",
      "t:  35%|███▌      | 17/48 [00:08<00:17,  1.81it/s, now=None]"
     ]
    },
    {
     "name": "stdout",
     "output_type": "stream",
     "text": [
      "[0] 0 3 8.0\n",
      "[True, True, True, True, False, True] 3\n"
     ]
    },
    {
     "name": "stderr",
     "output_type": "stream",
     "text": [
      "\r",
      "t:  38%|███▊      | 18/48 [00:09<00:16,  1.81it/s, now=None]"
     ]
    },
    {
     "name": "stdout",
     "output_type": "stream",
     "text": [
      "[0] 0 3 8.5\n",
      "[True, True, True, True, False, True] 3\n"
     ]
    },
    {
     "name": "stderr",
     "output_type": "stream",
     "text": [
      "\r",
      "t:  40%|███▉      | 19/48 [00:09<00:15,  1.82it/s, now=None]"
     ]
    },
    {
     "name": "stdout",
     "output_type": "stream",
     "text": [
      "[0] 0 3 9.0\n",
      "[True, True, True, True, False, True] 3\n"
     ]
    },
    {
     "name": "stderr",
     "output_type": "stream",
     "text": [
      "\r",
      "t:  42%|████▏     | 20/48 [00:10<00:15,  1.84it/s, now=None]"
     ]
    },
    {
     "name": "stdout",
     "output_type": "stream",
     "text": [
      "[0] 0 3 9.5\n",
      "[True, True, True, True, False, True] 3\n"
     ]
    },
    {
     "name": "stderr",
     "output_type": "stream",
     "text": [
      "\r",
      "t:  44%|████▍     | 21/48 [00:10<00:14,  1.84it/s, now=None]"
     ]
    },
    {
     "name": "stdout",
     "output_type": "stream",
     "text": [
      "[0] 0 4 10.0\n",
      "[True, True, True, True, True, True] 4\n"
     ]
    },
    {
     "name": "stderr",
     "output_type": "stream",
     "text": [
      "\r",
      "t:  46%|████▌     | 22/48 [00:11<00:14,  1.85it/s, now=None]"
     ]
    },
    {
     "name": "stdout",
     "output_type": "stream",
     "text": [
      "[0] 0 4 10.5\n",
      "[True, True, True, True, True, True] 4\n"
     ]
    },
    {
     "name": "stderr",
     "output_type": "stream",
     "text": [
      "\r",
      "t:  48%|████▊     | 23/48 [00:11<00:13,  1.87it/s, now=None]"
     ]
    },
    {
     "name": "stdout",
     "output_type": "stream",
     "text": [
      "[0] 0 4 11.0\n",
      "[True, True, True, True, True, True] 4\n"
     ]
    },
    {
     "name": "stderr",
     "output_type": "stream",
     "text": [
      "\r",
      "t:  50%|█████     | 24/48 [00:12<00:12,  1.86it/s, now=None]"
     ]
    },
    {
     "name": "stdout",
     "output_type": "stream",
     "text": [
      "[0] 0 4 11.5\n",
      "[True, True, True, True, True, True] 4\n"
     ]
    },
    {
     "name": "stderr",
     "output_type": "stream",
     "text": [
      "\r",
      "t:  52%|█████▏    | 25/48 [00:13<00:12,  1.85it/s, now=None]"
     ]
    },
    {
     "name": "stdout",
     "output_type": "stream",
     "text": [
      "recomputing\n",
      "[1] 1 5 0.0\n",
      "[False, False, False, False, False, True] 5\n"
     ]
    },
    {
     "name": "stderr",
     "output_type": "stream",
     "text": [
      "\r",
      "t:  54%|█████▍    | 26/48 [00:13<00:12,  1.70it/s, now=None]"
     ]
    },
    {
     "name": "stdout",
     "output_type": "stream",
     "text": [
      "[1] 1 5 0.5\n",
      "[False, False, False, False, False, True] 5\n"
     ]
    },
    {
     "name": "stderr",
     "output_type": "stream",
     "text": [
      "\r",
      "t:  56%|█████▋    | 27/48 [00:14<00:11,  1.79it/s, now=None]"
     ]
    },
    {
     "name": "stdout",
     "output_type": "stream",
     "text": [
      "[1] 1 5 1.0\n",
      "[False, False, False, False, False, True] 5\n"
     ]
    },
    {
     "name": "stderr",
     "output_type": "stream",
     "text": [
      "\r",
      "t:  58%|█████▊    | 28/48 [00:14<00:10,  1.85it/s, now=None]"
     ]
    },
    {
     "name": "stdout",
     "output_type": "stream",
     "text": [
      "[1] 1 5 1.5\n",
      "[False, False, False, False, False, True] 5\n"
     ]
    },
    {
     "name": "stderr",
     "output_type": "stream",
     "text": [
      "\r",
      "t:  60%|██████    | 29/48 [00:15<00:10,  1.89it/s, now=None]"
     ]
    },
    {
     "name": "stdout",
     "output_type": "stream",
     "text": [
      "[1] 1 1 2.0\n",
      "[False, True, False, False, False, True] 1\n"
     ]
    },
    {
     "name": "stderr",
     "output_type": "stream",
     "text": [
      "\r",
      "t:  62%|██████▎   | 30/48 [00:15<00:09,  1.92it/s, now=None]"
     ]
    },
    {
     "name": "stdout",
     "output_type": "stream",
     "text": [
      "[1] 1 1 2.5\n",
      "[False, True, False, False, False, True] 1\n"
     ]
    },
    {
     "name": "stderr",
     "output_type": "stream",
     "text": [
      "\r",
      "t:  65%|██████▍   | 31/48 [00:16<00:08,  1.95it/s, now=None]"
     ]
    },
    {
     "name": "stdout",
     "output_type": "stream",
     "text": [
      "[1] 1 1 3.0\n",
      "[False, True, False, False, False, True] 1\n"
     ]
    },
    {
     "name": "stderr",
     "output_type": "stream",
     "text": [
      "\r",
      "t:  67%|██████▋   | 32/48 [00:16<00:08,  1.97it/s, now=None]"
     ]
    },
    {
     "name": "stdout",
     "output_type": "stream",
     "text": [
      "[1] 1 1 3.5\n",
      "[False, True, False, False, False, True] 1\n"
     ]
    },
    {
     "name": "stderr",
     "output_type": "stream",
     "text": [
      "\r",
      "t:  69%|██████▉   | 33/48 [00:17<00:07,  1.96it/s, now=None]"
     ]
    },
    {
     "name": "stdout",
     "output_type": "stream",
     "text": [
      "[1] 1 0 4.0\n",
      "[True, True, False, False, False, True] 0\n"
     ]
    },
    {
     "name": "stderr",
     "output_type": "stream",
     "text": [
      "\r",
      "t:  71%|███████   | 34/48 [00:17<00:07,  1.98it/s, now=None]"
     ]
    },
    {
     "name": "stdout",
     "output_type": "stream",
     "text": [
      "[1] 1 0 4.5\n",
      "[True, True, False, False, False, True] 0\n"
     ]
    },
    {
     "name": "stderr",
     "output_type": "stream",
     "text": [
      "\r",
      "t:  73%|███████▎  | 35/48 [00:18<00:06,  1.97it/s, now=None]"
     ]
    },
    {
     "name": "stdout",
     "output_type": "stream",
     "text": [
      "[1] 1 0 5.0\n",
      "[True, True, False, False, False, True] 0\n"
     ]
    },
    {
     "name": "stderr",
     "output_type": "stream",
     "text": [
      "\r",
      "t:  75%|███████▌  | 36/48 [00:18<00:06,  1.96it/s, now=None]"
     ]
    },
    {
     "name": "stdout",
     "output_type": "stream",
     "text": [
      "[1] 1 0 5.5\n",
      "[True, True, False, False, False, True] 0\n"
     ]
    },
    {
     "name": "stderr",
     "output_type": "stream",
     "text": [
      "\r",
      "t:  77%|███████▋  | 37/48 [00:19<00:05,  1.96it/s, now=None]"
     ]
    },
    {
     "name": "stdout",
     "output_type": "stream",
     "text": [
      "[1] 1 2 6.0\n",
      "[True, True, True, False, False, True] 2\n"
     ]
    },
    {
     "name": "stderr",
     "output_type": "stream",
     "text": [
      "\r",
      "t:  79%|███████▉  | 38/48 [00:19<00:05,  1.95it/s, now=None]"
     ]
    },
    {
     "name": "stdout",
     "output_type": "stream",
     "text": [
      "[1] 1 2 6.5\n",
      "[True, True, True, False, False, True] 2\n"
     ]
    },
    {
     "name": "stderr",
     "output_type": "stream",
     "text": [
      "\r",
      "t:  81%|████████▏ | 39/48 [00:20<00:05,  1.76it/s, now=None]"
     ]
    },
    {
     "name": "stdout",
     "output_type": "stream",
     "text": [
      "[1] 1 2 7.0\n",
      "[True, True, True, False, False, True] 2\n"
     ]
    },
    {
     "name": "stderr",
     "output_type": "stream",
     "text": [
      "\r",
      "t:  83%|████████▎ | 40/48 [00:20<00:04,  1.80it/s, now=None]"
     ]
    },
    {
     "name": "stdout",
     "output_type": "stream",
     "text": [
      "[1] 1 2 7.5\n",
      "[True, True, True, False, False, True] 2\n"
     ]
    },
    {
     "name": "stderr",
     "output_type": "stream",
     "text": [
      "\r",
      "t:  85%|████████▌ | 41/48 [00:21<00:03,  1.84it/s, now=None]"
     ]
    },
    {
     "name": "stdout",
     "output_type": "stream",
     "text": [
      "[1] 1 3 8.0\n",
      "[True, True, True, True, False, True] 3\n"
     ]
    },
    {
     "name": "stderr",
     "output_type": "stream",
     "text": [
      "\r",
      "t:  88%|████████▊ | 42/48 [00:22<00:03,  1.86it/s, now=None]"
     ]
    },
    {
     "name": "stdout",
     "output_type": "stream",
     "text": [
      "[1] 1 3 8.5\n",
      "[True, True, True, True, False, True] 3\n"
     ]
    },
    {
     "name": "stderr",
     "output_type": "stream",
     "text": [
      "\r",
      "t:  90%|████████▉ | 43/48 [00:22<00:02,  1.88it/s, now=None]"
     ]
    },
    {
     "name": "stdout",
     "output_type": "stream",
     "text": [
      "[1] 1 3 9.0\n",
      "[True, True, True, True, False, True] 3\n"
     ]
    },
    {
     "name": "stderr",
     "output_type": "stream",
     "text": [
      "\r",
      "t:  92%|█████████▏| 44/48 [00:23<00:02,  1.89it/s, now=None]"
     ]
    },
    {
     "name": "stdout",
     "output_type": "stream",
     "text": [
      "[1] 1 3 9.5\n",
      "[True, True, True, True, False, True] 3\n"
     ]
    },
    {
     "name": "stderr",
     "output_type": "stream",
     "text": [
      "\r",
      "t:  94%|█████████▍| 45/48 [00:23<00:01,  1.90it/s, now=None]"
     ]
    },
    {
     "name": "stdout",
     "output_type": "stream",
     "text": [
      "[1] 1 4 10.0\n",
      "[True, True, True, True, True, True] 4\n"
     ]
    },
    {
     "name": "stderr",
     "output_type": "stream",
     "text": [
      "\r",
      "t:  96%|█████████▌| 46/48 [00:24<00:01,  1.90it/s, now=None]"
     ]
    },
    {
     "name": "stdout",
     "output_type": "stream",
     "text": [
      "[1] 1 4 10.5\n",
      "[True, True, True, True, True, True] 4\n"
     ]
    },
    {
     "name": "stderr",
     "output_type": "stream",
     "text": [
      "\r",
      "t:  98%|█████████▊| 47/48 [00:24<00:00,  1.88it/s, now=None]"
     ]
    },
    {
     "name": "stdout",
     "output_type": "stream",
     "text": [
      "[1] 1 4 11.0\n",
      "[True, True, True, True, True, True] 4\n"
     ]
    },
    {
     "name": "stderr",
     "output_type": "stream",
     "text": [
      "\r",
      "t: 100%|██████████| 48/48 [00:25<00:00,  1.88it/s, now=None]"
     ]
    },
    {
     "name": "stdout",
     "output_type": "stream",
     "text": [
      "[1] 1 4 11.5\n",
      "[True, True, True, True, True, True] 4\n"
     ]
    },
    {
     "name": "stderr",
     "output_type": "stream",
     "text": [
      "                                                            \r"
     ]
    },
    {
     "data": {
      "image/png": "[encoded data removed]",
      "text/plain": [
       "<Figure size 864x288 with 2 Axes>"
      ]
     },
     "metadata": {},
     "output_type": "display_data"
    }
   ],
   "source": [
    "fig, axs = plt.subplots(1,2, squeeze=True, figsize=(12, 4))\n",
    "order = [5, 1, 0, 2, 3, 4]\n",
    "time_per_node = 2\n",
    "last_layer = [0]\n",
    "layers = 2\n",
    "input_nodes = np.copy(nodes)\n",
    "def make_frame(t):\n",
    "    axs[0].clear()\n",
    "    axs[1].clear()    \n",
    "    \n",
    "    layer_i = int(t / (time_per_node * len(order)))\n",
    "    axs[0].set_title(f'Layer {layer_i + 1} Input')\n",
    "    axs[1].set_title(f'Layer {layer_i + 1} Output')    \n",
    "\n",
    "    flat_adj = np.sum(adj, axis=-1)\n",
    "    out_nodes = np.einsum('i,ij,jk->ik', 1/(np.sum(flat_adj, axis=1) + 1), flat_adj + np.eye(*flat_adj.shape), nodes)\n",
    "    \n",
    "        \n",
    "    if last_layer[0] != layer_i:\n",
    "        print('recomputing')\n",
    "        nodes[:] = out_nodes\n",
    "        last_layer[0] = layer_i\n",
    "        \n",
    "        \n",
    "    t -= layer_i * time_per_node * len(order)\n",
    "    i = order[int(t / time_per_node)]    \n",
    "    print(last_layer, layer_i, i, t)\n",
    "    mask = [False] * nodes.shape[0]\n",
    "    for j in order[:int(t / time_per_node) + 1]:\n",
    "        mask[j] = True    \n",
    "    print(mask, i)\n",
    "    neighs = list(np.where(adj[i])[0])\n",
    "    if (t - int(t / time_per_node) * time_per_node) >= time_per_node / 4:\n",
    "        draw(nodes, adj, axs[0], highlight=[[i], neighs], labels=['center', 'neighbors'], draw_nodes=input_nodes)    \n",
    "    else:\n",
    "        draw(nodes, adj, axs[0], highlight=[[i]], labels=['center', 'neighbors'], draw_nodes=input_nodes)    \n",
    "    if (t - int(t / time_per_node) * time_per_node) < time_per_node / 2:\n",
    "        mask[j] = False            \n",
    "    draw(out_nodes, adj, axs[1], highlight=[[i]], key=True, mask=mask, draw_nodes=input_nodes)\n",
    "    return mplfig_to_npimage(fig)\n",
    "\n",
    "animation = VideoClip(make_frame, duration=time_per_node * nodes.shape[0] * layers)\n",
    "\n",
    "animation.write_gif('gcn.gif', fps=2)"
   ]
  },
  {
   "cell_type": "markdown",
   "metadata": {},
   "source": [
    "```{glue:figure} dframe\n",
    "----\n",
    "name: dframe\n",
    "----\n",
    "Intermediate step of the graph convolution layer. The center node is being updated by averaging its neighbors features.\n",
    "```\n",
    "\n",
    "\n",
    "```{figure} ./gcn.gif\n",
    "----\n",
    "name: gcnanim\n",
    "----\n",
    "Animation of the graph convolution layer. The left is input, right is output node features. Note that two layers are shown (see title change).\n",
    "```\n",
    "\n",
    "To help understand the GCN layer, look at {numref}`dframe`. It shows an intermediate step of the GCN layer. Each node feature is represented here as a one-hot encoded vector at input. The animation in {numref}`gcnanim` shows the averaging process over neighbor features.  To make this animation easy to follow, the trainable weights and activation functions are not considered. Note that the animation repeats for a second layer. Watch how the \"information\" about there being an oxygen atom in the molecule is propogated only after two layers to each atom. All GNNs operate with similair approaches, so try to understand how this animation works. \n",
    "\n",
    "\n",
    "### GCN Implementation\n",
    "\n",
    "Let's now create a tensor implementation of the GCN. We'll skip the activation and trainable weights for now.\n",
    "We must first compute our rank 2 adjacency matrix. The `smiles2graph` code above computes an adjacency tensor with feature vectors. We can fix that with a simple reduction and add the identity at the same time\n"
   ]
  },
  {
   "cell_type": "code",
   "execution_count": 6,
   "metadata": {},
   "outputs": [
    {
     "data": {
      "text/plain": [
       "array([[1., 1., 1., 1., 1., 0.],\n",
       "       [1., 1., 0., 0., 0., 1.],\n",
       "       [1., 0., 1., 0., 0., 0.],\n",
       "       [1., 0., 0., 1., 0., 0.],\n",
       "       [1., 0., 0., 0., 1., 0.],\n",
       "       [0., 1., 0., 0., 0., 1.]])"
      ]
     },
     "execution_count": 6,
     "metadata": {},
     "output_type": "execute_result"
    }
   ],
   "source": [
    "nodes, adj = smiles2graph('CO')\n",
    "adj_mat = np.sum(adj, axis=-1) + np.eye(adj.shape[0])\n",
    "adj_mat"
   ]
  },
  {
   "cell_type": "markdown",
   "metadata": {},
   "source": [
    "To compute degree of each node, we can do another reduction:"
   ]
  },
  {
   "cell_type": "code",
   "execution_count": 7,
   "metadata": {},
   "outputs": [
    {
     "data": {
      "text/plain": [
       "array([5., 3., 2., 2., 2., 2.])"
      ]
     },
     "execution_count": 7,
     "metadata": {},
     "output_type": "execute_result"
    }
   ],
   "source": [
    "degree = np.sum(adj_mat, axis=-1)\n",
    "degree"
   ]
  },
  {
   "cell_type": "markdown",
   "metadata": {},
   "source": [
    "Now we can put all these pieces together into the Einstein equation"
   ]
  },
  {
   "cell_type": "code",
   "execution_count": 8,
   "metadata": {},
   "outputs": [
    {
     "name": "stdout",
     "output_type": "stream",
     "text": [
      "[1. 0. 0.]\n",
      "[0.2 0.2 0.6]\n"
     ]
    }
   ],
   "source": [
    "print(nodes[0])\n",
    "# note to divide by degree, make the input 1 / degree\n",
    "new_nodes = np.einsum('i,ij,jk->ik', 1 / degree, adj_mat, nodes)\n",
    "print(new_nodes[0])"
   ]
  },
  {
   "cell_type": "markdown",
   "metadata": {},
   "source": [
    "To now implement this as a layer in Keras, we must put this code above into a new Layer subclass. The code is relatively straightforward, but you can read-up on the function names and Layer class in [this tutorial](https://keras.io/guides/making_new_layers_and_models_via_subclassing/). The three main changes are that we create trainable parameters `self.w` and use them in the `einsum`, we use an activation `self.activation`, and we output both our new node features and the adjacency matrix. The reason to output the adjacency matrix is so that we can stack multiple GCN layers without having to pass the adjacency matrix each time. "
   ]
  },
  {
   "cell_type": "code",
   "execution_count": 25,
   "metadata": {},
   "outputs": [],
   "source": [
    "class GCNLayer(tf.keras.layers.Layer):\n",
    "    '''Implementation of GCN as layer'''\n",
    "    def __init__(self, activation=None,**kwargs):\n",
    "        # constructor, which just calls super constructor\n",
    "        # and turns requested activation into a callable function\n",
    "        super(GCNLayer, self).__init__(**kwargs)\n",
    "        self.activation = tf.keras.activations.get(activation)\n",
    "    \n",
    "    def build(self, input_shape):\n",
    "        # create trainable weights\n",
    "        node_shape, adj_shape = input_shape\n",
    "        self.w = self.add_weight(shape=(node_shape[2], node_shape[2]),\n",
    "                                name='w')\n",
    "        \n",
    "    def call(self, inputs):\n",
    "        # split input into nodes, adj\n",
    "        nodes, adj = inputs \n",
    "        # compute degree\n",
    "        degree = tf.reduce_sum(adj, axis=-1)\n",
    "        # GCN equation\n",
    "        new_nodes = tf.einsum('bi,bij,bjk,kl->bil', 1 / degree, adj, nodes, self.w)\n",
    "        out = self.activation(new_nodes)\n",
    "        return out, adj"
   ]
  },
  {
   "cell_type": "markdown",
   "metadata": {},
   "source": [
    "We can now try our our layer:"
   ]
  },
  {
   "cell_type": "code",
   "execution_count": 26,
   "metadata": {},
   "outputs": [
    {
     "name": "stdout",
     "output_type": "stream",
     "text": [
      "WARNING:tensorflow:Layer gcn_layer_9 is casting an input tensor from dtype float64 to the layer's dtype of float32, which is new behavior in TensorFlow 2.  The layer has dtype float32 because its dtype defaults to floatx.\n",
      "\n",
      "If you intended to run this layer in float32, you can safely ignore this warning. If in doubt, this warning is likely only an issue if you are porting a TensorFlow 1.X model to TensorFlow 2.\n",
      "\n",
      "To change all layers to have dtype float64 by default, call `tf.keras.backend.set_floatx('float64')`. To change just this layer, pass dtype='float64' to the layer constructor. If you are the author of this layer, you can disable autocasting by passing autocast=False to the base Layer constructor.\n",
      "\n"
     ]
    },
    {
     "data": {
      "text/plain": [
       "(<tf.Tensor: shape=(1, 6, 3), dtype=float32, numpy=\n",
       " array([[[0.08112536, 0.        , 0.        ],\n",
       "         [0.        , 0.        , 0.09679946],\n",
       "         [0.37744784, 0.        , 0.01917386],\n",
       "         [0.37744784, 0.        , 0.01917386],\n",
       "         [0.37744784, 0.        , 0.01917386],\n",
       "         [0.        , 0.        , 0.        ]]], dtype=float32)>,\n",
       " <tf.Tensor: shape=(1, 6, 6), dtype=float32, numpy=\n",
       " array([[[1., 1., 1., 1., 1., 0.],\n",
       "         [1., 1., 0., 0., 0., 1.],\n",
       "         [1., 0., 1., 0., 0., 0.],\n",
       "         [1., 0., 0., 1., 0., 0.],\n",
       "         [1., 0., 0., 0., 1., 0.],\n",
       "         [0., 1., 0., 0., 0., 1.]]], dtype=float32)>)"
      ]
     },
     "execution_count": 26,
     "metadata": {},
     "output_type": "execute_result"
    }
   ],
   "source": [
    "gcnlayer = GCNLayer('relu')\n",
    "# we insert a batch axis here\n",
    "gcnlayer((nodes[np.newaxis,...], adj_mat[np.newaxis,...]))"
   ]
  },
  {
   "cell_type": "markdown",
   "metadata": {},
   "source": [
    "It outputs (1) the new node features and (2) the adjacency matrix. Let's make sure we can stack these and apply the GCN multiple times"
   ]
  },
  {
   "cell_type": "code",
   "execution_count": 27,
   "metadata": {},
   "outputs": [],
   "source": [
    "x = (nodes[np.newaxis,...], adj_mat[np.newaxis,...])\n",
    "for i in range(2):\n",
    "    x = gcnlayer(x)"
   ]
  },
  {
   "cell_type": "markdown",
   "metadata": {},
   "source": [
    "It works! Why do we see zeros though? Probably because we had negative numbers that were removed by our ReLU activation. This will be solved by training and increasing our dimension number. "
   ]
  },
  {
   "cell_type": "markdown",
   "metadata": {},
   "source": [
    "## Solubility Example\n",
    "\n",
    "We'll now revisit predicting solubility with GCNs. Remember before that we used the features included with the dataset. Now, however we can use the molecular structures directly. Our GCN layer outputs node-level features. To predict solubility, we need to get a graph-level feature. We'll see later how to be more sophisticated in this process, but for now let's just take the average over all node features after our GCN layers. This is simple, permutation invariant, and gets us from node-level to graph level. Here's an implementation of this"
   ]
  },
  {
   "cell_type": "code",
   "execution_count": 30,
   "metadata": {},
   "outputs": [],
   "source": [
    "class GRLayer(tf.keras.layers.Layer):\n",
    "    '''A GNN layer that computes average over all node features'''\n",
    "    def __init__(self, name='GRLayer', **kwargs):\n",
    "        super(GRLayer, self).__init__(name=name, **kwargs)\n",
    "    \n",
    "    def call(self, inputs):\n",
    "        nodes, adj = inputs\n",
    "        reduction = tf.reduce_mean(nodes, axis=1)\n",
    "        return reduction\n",
    "    "
   ]
  },
  {
   "cell_type": "markdown",
   "metadata": {},
   "source": [
    "To complete our deep solubility predictor, we can add some dense layers and make sure we have a single-output without activation since we're doing regression. Note this model is defined using the [Keras functional API](https://keras.io/guides/functional_api/) which is necessary when you have multiple inputs. "
   ]
  },
  {
   "cell_type": "code",
   "execution_count": 31,
   "metadata": {},
   "outputs": [],
   "source": [
    "ninput = tf.keras.Input((None,100,))\n",
    "ainput = tf.keras.Input((None,None,))\n",
    "# GCN block\n",
    "x = GCNLayer('relu')([ninput, ainput])\n",
    "x = GCNLayer('relu')(x)\n",
    "x = GCNLayer('relu')(x)\n",
    "x = GCNLayer('relu')(x)\n",
    "# reduce to graph features\n",
    "x = GRLayer()(x)\n",
    "# standard layers\n",
    "x = tf.keras.layers.Dense(16, 'tanh')(x)\n",
    "x = tf.keras.layers.Dense(1)(x)\n",
    "model = tf.keras.Model(inputs=(ninput, ainput), outputs=x)"
   ]
  },
  {
   "cell_type": "markdown",
   "metadata": {},
   "source": [
    "where does the 100 come from? Well, this dataset has lots of elements so we cannout use our size 3 one-hot encondings because we'll have more than 3 unique elements. We previously only had C, H and O. This is a good time to updaet our `smiles2graph` function to deal with this"
   ]
  },
  {
   "cell_type": "code",
   "execution_count": 32,
   "metadata": {
    "tags": [
     "hidden-cell"
    ]
   },
   "outputs": [],
   "source": [
    "def gen_smiles2graph(sml):\n",
    "    '''Argument for the RD2NX function should be a valid SMILES sequence\n",
    "    returns: the graph\n",
    "    '''\n",
    "    m = rdkit.Chem.MolFromSmiles(sml)\n",
    "    m = rdkit.Chem.AddHs(m)\n",
    "    order_string = {rdkit.Chem.rdchem.BondType.SINGLE: 1,\n",
    "                    rdkit.Chem.rdchem.BondType.DOUBLE: 2,\n",
    "                    rdkit.Chem.rdchem.BondType.TRIPLE: 3,\n",
    "                    rdkit.Chem.rdchem.BondType.AROMATIC: 4}\n",
    "    N = len(list(m.GetAtoms()))\n",
    "    nodes = np.zeros((N,100))\n",
    "    for i in m.GetAtoms():\n",
    "        nodes[i.GetIdx(), i.GetAtomicNum()] = 1\n",
    "    \n",
    "    adj = np.zeros((N,N))\n",
    "    for j in m.GetBonds():\n",
    "        u = min(j.GetBeginAtomIdx(),j.GetEndAtomIdx())\n",
    "        v = max(j.GetBeginAtomIdx(),j.GetEndAtomIdx())        \n",
    "        order = j.GetBondType()\n",
    "        if order in order_string:\n",
    "            order = order_string[order]\n",
    "        else:\n",
    "            raise Warning('Ignoring bond order' + order)\n",
    "        adj[u, v] = 1        \n",
    "        adj[v, u] = 1\n",
    "    adj += np.eye(N)\n",
    "    return nodes, adj"
   ]
  },
  {
   "cell_type": "code",
   "execution_count": 34,
   "metadata": {},
   "outputs": [
    {
     "data": {
      "text/plain": [
       "<tf.Tensor: shape=(1, 1), dtype=float32, numpy=array([[-0.02235715]], dtype=float32)>"
      ]
     },
     "execution_count": 34,
     "metadata": {},
     "output_type": "execute_result"
    }
   ],
   "source": [
    "nodes, adj = gen_smiles2graph('CO')\n",
    "model((nodes[np.newaxis,...], adj_mat[np.newaxis,...]))"
   ]
  },
  {
   "cell_type": "markdown",
   "metadata": {},
   "source": [
    "It outputs one number! That's always nice to have. Now we need to do some work to get a trainable dataset. Our dataset is a little bit complex because our features are tuples of tensors($\\mathbf{V}, \\mathbf{E}$) so that our dataset is a tuple of tuples: $\\left((\\mathbf{V}, \\mathbf{E}), y\\right)$. We use a **generator**, which is just a python function that can return multiple times. Our function returns once for every training example. Then we have to pass it to the `from_generator` dataset constructor which requires explicit declaration of the shapes of these examples. "
   ]
  },
  {
   "cell_type": "code",
   "execution_count": 35,
   "metadata": {},
   "outputs": [],
   "source": [
    "def example():\n",
    "    for i in range(len(soldata)):\n",
    "        graph = gen_smiles2graph(soldata.SMILES[i])        \n",
    "        sol = soldata.Solubility[i]\n",
    "        yield graph, sol\n",
    "data = tf.data.Dataset.from_generator(example, output_types=((tf.float32, tf.float32), tf.float32), \n",
    "                                      output_shapes=((tf.TensorShape([None, 100]), tf.TensorShape([None, None])), tf.TensorShape([])))"
   ]
  },
  {
   "cell_type": "markdown",
   "metadata": {},
   "source": [
    "Whew, that's a lot. Now we can do our usual splitting of the dataset."
   ]
  },
  {
   "cell_type": "code",
   "execution_count": 36,
   "metadata": {},
   "outputs": [],
   "source": [
    "test_data = data.take(200)\n",
    "val_data = data.skip(200).take(200)\n",
    "train_data = data.skip(400)"
   ]
  },
  {
   "cell_type": "markdown",
   "metadata": {},
   "source": [
    "And finally, time to train."
   ]
  },
  {
   "cell_type": "code",
   "execution_count": null,
   "metadata": {},
   "outputs": [],
   "source": [
    "model.compile('adam', loss='mean_squared_error')\n",
    "result = model.fit(train_data.batch(1), validation_data=val_data.batch(1),  epochs=10, verbose=0)"
   ]
  },
  {
   "cell_type": "code",
   "execution_count": 42,
   "metadata": {},
   "outputs": [
    {
     "data": {
      "image/png": "[encoded data removed]",
      "text/plain": [
       "<Figure size 432x288 with 1 Axes>"
      ]
     },
     "metadata": {},
     "output_type": "display_data"
    }
   ],
   "source": [
    "plt.plot(result.history['loss'], label='training')\n",
    "plt.plot(result.history['val_loss'], label='validation')\n",
    "plt.legend()\n",
    "plt.xlabel('Epoch')\n",
    "plt.ylabel('Loss')\n",
    "plt.show()"
   ]
  },
  {
   "cell_type": "markdown",
   "metadata": {},
   "source": [
    "This model is definitely underfit. One reason is that our batch size is 1. This is an side-effect of making the number of atoms variable and then tensorflow has trouble batching together our data if there are two unknown dimensions. You can fix this by manually batching or padding all molecules to have as many atoms as the one with the max. In any case, this example shows how to use GCN layers in a complete model."
   ]
  },
  {
   "cell_type": "markdown",
   "metadata": {},
   "source": [
    "## Message Passing Viewpoint\n",
    "\n",
    "One way to more broadly view a GCN layer is that it is a kind of \"message-passing\" layer. You first compute a message coming from each neighboring node:\n",
    "\n",
    "\\begin{equation}\n",
    "\\vec{e}_{{s_i}j} = \\vec{n}_{{s_i}j} \\mathbf{W}\n",
    "\\end{equation}\n",
    "\n",
    "where $n_{{s_i}j}$ means the $j$th neigbhor of node $i$. The $s_i$ means senders to $i$. This is how a GCN computes the messages, it's just a weight matrix times each neighbor node features. After getting the messages that will go to $\\vec{e}_{{s_i}j}, we aggregate them using a function which is permutation invariant to the order of neigbhors:\n",
    "\n",
    "\\begin{equation}\n",
    "\\vec{e}_{i} = \\frac{1}{|\\vec{e}_{{s_i}j}|}\\sum \\vec{e}_{{s_i}j} \n",
    "\\end{equation}\n",
    "\n",
    "In the GCN this aggregation is just a mean. Finally, we update our node using the aggregated message in the GCN:\n",
    "\n",
    "\\begin{equation}\n",
    "\\vec{n}^{'}_{i} = \\sigma(\\vec{e}_i)\n",
    "\\end{equation}\n",
    "\n",
    "where $n^{'}$ indicates the new node features. This is simply the activated aggregated message. Writing it out this way, you can see how it is possible to make small changes. One important paper by Gilmer et al. explored some of these choices and described how this general idea of message passing layers does well in learning to predict molecular energies from quantum mechanics {cite}`gilmer2017neural`. Examples of changes to the above GCN equations are to include edge information when computing the neighbor messages or use a dense neural network layer in place of $\\sigma$. \n",
    "\n",
    "## Gated Graph Neural Network\n",
    "\n",
    "\n",
    "One important variant of the message passing layer is the **gated graph neural network** (GGN) {cite}`li2015gated`. It replaces the last equation, the node update, with\n",
    "\n",
    "\\begin{equation}\n",
    "\\vec{n}^{'}_{i} = \\textrm{GRU}(\\vec{n}_i, \\vec{e}_i)\n",
    "\\end{equation}\n",
    "\n",
    "where the $\\textrm{GRU}(\\cdot, \\cdot)$ is a gated recurrent unit{cite}`chung2014empirical`. The interesting property of a GRU is that it has trainable parameters, giving the model a bit more flexibility, but the GRU parameters do not change as you stack more layers. A GRU is usually used for modeling sequences of undetermind length, like a sentence. What's nice about this is that you can essentially stack as many of the GGN layers as you want without increasing the number of trainable parameters (assuming you make $\\mathbf{W}$ the same at each layer). Thus GGNs are suited for large graphs, like a large protein or a periodic graph.\n"
   ]
  },
  {
   "cell_type": "markdown",
   "metadata": {},
   "source": [
    "## Battaglia General Equations\n",
    "\n",
    "As you can see, message passing layers is a general way to view GNN layers. Battaglia et al {cite}`battaglia2018relational` went further and created a general set of equations which captures nearly all GNNs. They broke the GNN layer equations down into 3 update equations, like the node update equation we saw in the message passing layer equations, and 3 aggregation equations. There is kew new concept in these equations: graph feature vectors. A graph feature vector is a set of features which represent the whole graph or molecule. For example, when computing solubility it may have been useful to build-up a per-molecule feature vector that is eventually used to compute solubility. Any knid of per-molecule quantity like energy can be expressed as a graph-level feature vector. \n",
    "\n",
    "The first step in these equations is updating the edge feature vectors, written as $\\vec{e}_k$, which we haven't seen yet but is certainly possible:\n",
    "\n",
    "\\begin{equation}\n",
    "\\vec{e}^{'}_k = \\phi^e\\left( \\vec{e}_k, \\vec{v}_{rk}, \\vec{v}_{sk}, \\vec{u}\\right)\n",
    "\\end{equation}\n",
    "\n",
    "where $\\vec{e}_k$ is the feature vector of edge $k$, $\\vec{v}_{rk}$ is the receiving node feature vector for edge $k$, $\\vec{v}_{sk}$ is the sending node feature vector for edge $k$, $\\vec{u}$ is the global graph feature vector, and $\\phi^e$ is one of the three update functions that the define the GNN layer. Note that these are meant to be general expressions and you define $\\phi^e$ for your specific GNN layer. The output edge updates are then aggregated with the first aggregation function:\n",
    "\n",
    "\\begin{equation}\n",
    "\\bar{e}^{'}_i = \\rho^{e\\rightarrow v}\\left( E_i^{'}\\right)\n",
    "\\end{equation}\n",
    "\n",
    "where \\rho^{e\\rightarrow v} is our defined function and $E_i^{'}$ represents all edges in or out of node i. Having our aggregated edge, which is equivalent to our *message* previously, we can compute the node update:\n",
    "\n",
    "\\begin{equation}\n",
    "\\vec{v}^{'}_i = \\phi^v\\left( \\bar{e}^{'}_i, \\vec{v}_i, \\vec{u}\\right)\n",
    "\\end{equation}\n",
    "\n",
    "This concludes the usual steps of a GNN layer. If you are updating global attributes or aggregating nodes or edges, the following additional steps may be defined:\n",
    "\n",
    "\\begin{equation}\n",
    "\\bar{e}^{'} = \\rho^{e\\rightarrow u}\\left( E^{'}\\right)\n",
    "\\end{equation}\n",
    "\n",
    "This equation aggregates all messages across the whole graph. Then we can aggregate the new nodes across the whole graph:\n",
    "\n",
    "\\begin{equation}\n",
    "\\bar{v}^{'} = \\rho^{v\\rightarrow u}\\left( V^{'}\\right)\n",
    "\\end{equation}\n",
    "\n",
    "Then, we can compute the update to the global feature vector as:\n",
    "\\begin{equation}\n",
    "\\vec{u}^{'} = \\phi^u\\left( \\bar{e}^{'},\\bar{v}^{'}, \\vec{u}\\right)\n",
    "\\end{equation}\n"
   ]
  },
  {
   "cell_type": "markdown",
   "metadata": {},
   "source": [
    "### Reformulating GCN into Battaglia equations\n",
    "\n",
    "Let's see how the GCN is presented in this form. We first compute our neighbor messages for all possible neighbors. Since our graph is undirected, we'll just by convention use the senders as the \"neighbor\"\n",
    "\n",
    "\\begin{equation}\n",
    "\\vec{e}^{'}_k = \\phi^e\\left( \\vec{e}_k, \\vec{v}_{rk}, \\vec{v}_{sk}, \\vec{u}\\right) = \\vec{v}_{sk} \\mathbf{W}\n",
    "\\end{equation}\n",
    "\n",
    "To aggregate our messages, we average them.\n",
    "\n",
    "\\begin{equation}\n",
    "\\bar{e}^{'}_i = \\rho^{e\\rightarrow v}\\left( E_i^{'}\\right) = \\frac{1}{|E_i^{'}|}\\sum E_i^{'}\n",
    "\\end{equation}\n",
    "\n",
    "Our node update is then the activation:\n",
    "\n",
    "\\begin{equation}\n",
    "\\vec{v}^{'}_i = \\phi^v\\left( \\bar{e}^{'}_i, \\vec{v}_i, \\vec{u}\\right) = \\sigma(\\bar{e}^{'}_i)\n",
    "\\end{equation}\n",
    "\n",
    "we could include the self-loop above using $\\sigma(\\bar{e}^{'}_i + \\vec{v}_i)$. The other functions are not used so that is the complete set. "
   ]
  },
  {
   "cell_type": "markdown",
   "metadata": {},
   "source": [
    "## Cited References\n",
    "\n",
    "```{bibliography} references.bib\n",
    "```"
   ]
  }
 ],
 "metadata": {
  "celltoolbar": "Tags",
  "kernelspec": {
   "display_name": "Python 3",
   "language": "python",
   "name": "python3"
  },
  "language_info": {
   "codemirror_mode": {
    "name": "ipython",
    "version": 3
   },
   "file_extension": ".py",
   "mimetype": "text/x-python",
   "name": "python",
   "nbconvert_exporter": "python",
   "pygments_lexer": "ipython3",
   "version": "3.7.8"
  }
 },
 "nbformat": 4,
 "nbformat_minor": 4
}
