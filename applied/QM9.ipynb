{
 "cells": [
  {
   "cell_type": "markdown",
   "metadata": {},
   "source": [
    "# QM9 Modeling\n",
    "\n",
    "QM9 is a dataset of 134,000 molecules consisting of 9 heavy atoms drawn from the elements C, H, O, N, F{cite}`ramakrishnan2014quantum`. The features are the xyz coordinates ($\\mathbf{X}$) and elements ($\\vec{e}$) of the molecule. The coordinates are determined from B3LYP/6-31G(2df,p) level DFT geometry optimization. There are multiple labels (see table below), but we'll be interested specifically in the energy of formation (Enthalpy at 298.15 K). The goal in this chapter is to see how we can model this data.\n",
    "\n",
    "\n",
    "QM9 is one of the most popular dataset for machine learning and deep learning since it came out in 2014. The first papers could achieve about 10 kcal/mol on this regression problem and now are down to ~1 kcal/mol and lower. Any model on this dataset must be translation, rotation, and permutation invariant. "
   ]
  },
  {
   "cell_type": "markdown",
   "metadata": {},
   "source": [
    "## Label Description\n",
    "\n",
    "|Index | Name | Units | Description|\n",
    " |:-----|-------|-------|-----------:|\n",
    "  |0  |index  |   -            |Consecutive, 1-based integer identifier of molecule|\n",
    "  |1  |A      |   GHz          |Rotational constant A|\n",
    "  |2  |B      |   GHz          |Rotational constant B|\n",
    "  |3  |C      |   GHz          |Rotational constant C|\n",
    "  |4  |mu     |   Debye        |Dipole moment|\n",
    "  |5  |alpha  |   Bohr^3       |Isotropic polarizability|\n",
    "  |6  |homo   |   Hartree      |Energy of Highest occupied molecular orbital (HOMO)|\n",
    "  |7  |lumo   |   Hartree      |Energy of Lowest occupied molecular orbital (LUMO)|\n",
    " |8 | gap   |    Hartree     | Gap, difference between LUMO and HOMO|\n",
    " |9 | r2    |    Bohr^2      | Electronic spatial extent|\n",
    " |10 | zpve  |    Hartree     | Zero point vibrational energy|\n",
    " |11 | U0    |    Hartree     | Internal energy at 0 K|\n",
    " |12 | U     |    Hartree     | Internal energy at 298.15 K|\n",
    " |13 | H     |    Hartree     | Enthalpy at 298.15 K|\n",
    " |14 | G     |    Hartree     | Free energy at 298.15 K|\n",
    " |15 | Cv    |    cal/(mol K) | Heat capacity at 298.15 K|\n"
   ]
  },
  {
   "cell_type": "markdown",
   "metadata": {},
   "source": [
    "## Data\n",
    "\n",
    "I have written some helper code in the `fetch_qm9.py` file. It downloads the data and converts into a format easily used in Python. The data returned from this function is broken into the features $\\mathbf{X}$ and $\\vec{e}$. $\\mathbf{X}$ is an $N\\times4$ matrix of atom positions + partial charge of the atom. $\\vec{e}$ is vector of atomic numbers for each atom in the molecule. Remember to slice the specific label you want from the label vector."
   ]
  },
  {
   "cell_type": "markdown",
   "metadata": {},
   "source": [
    "## Running This Notebook\n",
    "\n",
    "\n",
    "Click the &nbsp;<i aria-label=\"Launch interactive content\" class=\"fas fa-rocket\"></i>&nbsp; above to launch this page as an interactive Google Colab. See details below on installing packages, either on your own environment or on Google Colab\n",
    "\n",
    "````{tip} My title\n",
    ":class: dropdown\n",
    "To install packages, execute this code in a new cell\n",
    "\n",
    "```\n",
    "!pip install matplotlib numpy pandas seaborn tensorflow jax jaxlib\n",
    "```\n",
    "\n",
    "````"
   ]
  },
  {
   "cell_type": "code",
   "execution_count": 1,
   "metadata": {},
   "outputs": [],
   "source": [
    "import tensorflow as tf\n",
    "import numpy as np\n",
    "from fetch_qm9 import fetch_qm9, get_qm9"
   ]
  },
  {
   "cell_type": "markdown",
   "metadata": {},
   "source": [
    "Let's load the data. This step will take a few minutes as it is downloaded and processed. "
   ]
  },
  {
   "cell_type": "code",
   "execution_count": 2,
   "metadata": {},
   "outputs": [
    {
     "name": "stdout",
     "output_type": "stream",
     "text": [
      "Found existing record file, delete if you want to re-fetch\n"
     ]
    }
   ],
   "source": [
    "qm9_records = fetch_qm9()\n",
    "data = get_qm9(qm9_records)"
   ]
  },
  {
   "cell_type": "markdown",
   "metadata": {},
   "source": [
    "`data` is an iterable containing the data for the 133k molecules. Let's examine the first one."
   ]
  },
  {
   "cell_type": "code",
   "execution_count": 3,
   "metadata": {},
   "outputs": [
    {
     "name": "stdout",
     "output_type": "stream",
     "text": [
      "((<tf.Tensor: shape=(5,), dtype=int64, numpy=array([6, 1, 1, 1, 1])>, <tf.Tensor: shape=(5, 4), dtype=float32, numpy=\n",
      "array([[-1.2698136e-02,  1.0858041e+00,  8.0009960e-03, -5.3568900e-01],\n",
      "       [ 2.1504159e-03, -6.0313176e-03,  1.9761203e-03,  1.3392100e-01],\n",
      "       [ 1.0117308e+00,  1.4637512e+00,  2.7657481e-04,  1.3392200e-01],\n",
      "       [-5.4081506e-01,  1.4475266e+00, -8.7664372e-01,  1.3392299e-01],\n",
      "       [-5.2381361e-01,  1.4379326e+00,  9.0639728e-01,  1.3392299e-01]],\n",
      "      dtype=float32)>), <tf.Tensor: shape=(16,), dtype=float32, numpy=\n",
      "array([ 1.0000000e+00,  1.5771181e+02,  1.5770998e+02,  1.5770699e+02,\n",
      "        0.0000000e+00,  1.3210000e+01, -3.8769999e-01,  1.1710000e-01,\n",
      "        5.0480002e-01,  3.5364101e+01,  4.4748999e-02, -4.0478931e+01,\n",
      "       -4.0476063e+01, -4.0475117e+01, -4.0498596e+01,  6.4689999e+00],\n",
      "      dtype=float32)>)\n"
     ]
    }
   ],
   "source": [
    "for d in data:\n",
    "    print(d)\n",
    "    break"
   ]
  },
  {
   "cell_type": "markdown",
   "metadata": {},
   "source": [
    "These are Tensorflow Tensors. They can be converted to numpy arrays via `x.numpy()`. The first item is the element vector `6,1,1,1,1`. Do you recognize the elements? It's C, H, H, H, H. The positions come next. Note that the there is an extra column containing the atom partial charges, which we will not use as a feature. Finally, the last tensor is the label vector. \n",
    "\n",
    "Now we will do some processing of the data to get into a more usable format. Let's convert to numpy arrays, remove the partial charges, and convert the elements into one-hot vectors."
   ]
  },
  {
   "cell_type": "code",
   "execution_count": 8,
   "metadata": {},
   "outputs": [
    {
     "name": "stdout",
     "output_type": "stream",
     "text": [
      "Element one hots\n",
      " [[0. 0. 0. 0. 0. 1. 0. 0. 0.]\n",
      " [1. 0. 0. 0. 0. 0. 0. 0. 0.]\n",
      " [1. 0. 0. 0. 0. 0. 0. 0. 0.]\n",
      " [1. 0. 0. 0. 0. 0. 0. 0. 0.]\n",
      " [1. 0. 0. 0. 0. 0. 0. 0. 0.]]\n",
      "Coordinates\n",
      " [[-1.2698136e-02  1.0858041e+00  8.0009960e-03 -5.3568900e-01]\n",
      " [ 2.1504159e-03 -6.0313176e-03  1.9761203e-03  1.3392100e-01]\n",
      " [ 1.0117308e+00  1.4637512e+00  2.7657481e-04  1.3392200e-01]\n",
      " [-5.4081506e-01  1.4475266e+00 -8.7664372e-01  1.3392299e-01]\n",
      " [-5.2381361e-01  1.4379326e+00  9.0639728e-01  1.3392299e-01]]\n",
      "Label: -40.475117\n"
     ]
    }
   ],
   "source": [
    "def convert_record(d):\n",
    "    # break up record\n",
    "    (e, x), y = d\n",
    "    # \n",
    "    e = e.numpy()\n",
    "    x = x.numpy()\n",
    "    r = x[:, :3]\n",
    "    ohc = np.zeros((len(e), 9))\n",
    "    ohc[np.arange(len(e)), e - 1] = 1    \n",
    "    return (ohc, x), y.numpy()[13]\n",
    "\n",
    "for d in data:\n",
    "    (e,x), y = convert_record(d)\n",
    "    print('Element one hots\\n', e)\n",
    "    print('Coordinates\\n', x)\n",
    "    print('Label:', y)\n",
    "    break"
   ]
  },
  {
   "cell_type": "markdown",
   "metadata": {},
   "source": [
    "We now can work with this data to build a model. Let's build a simple model that can model energy and obeys the invariances required of the problem. We will use a graph neural network (GNN) because it obeys permutation invariance. We will create a *graph* from the coordinates/element vector by joining all atoms to all other atoms and using their inverse pairwise distance as the edge weight. The choice of pairwise distance gives us translation and rotation invariance. The choice of inverse distance means that atoms which are far away naturally have low edge weights. \n",
    "\n",
    "\n",
    "**In progress...**"
   ]
  },
  {
   "cell_type": "markdown",
   "metadata": {},
   "source": [
    "## Cited References\n",
    "\n",
    "```{bibliography} references.bib\n",
    "```"
   ]
  }
 ],
 "metadata": {
  "kernelspec": {
   "display_name": "Python 3",
   "language": "python",
   "name": "python3"
  },
  "language_info": {
   "codemirror_mode": {
    "name": "ipython",
    "version": 3
   },
   "file_extension": ".py",
   "mimetype": "text/x-python",
   "name": "python",
   "nbconvert_exporter": "python",
   "pygments_lexer": "ipython3",
   "version": "3.7.8"
  }
 },
 "nbformat": 4,
 "nbformat_minor": 4
}
